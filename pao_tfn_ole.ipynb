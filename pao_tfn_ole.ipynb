{
 "cells": [
  {
   "cell_type": "code",
   "execution_count": 1,
   "metadata": {},
   "outputs": [],
   "source": [
    "%load_ext autoreload\n",
    "%autoreload 2"
   ]
  },
  {
   "cell_type": "code",
   "execution_count": 2,
   "metadata": {},
   "outputs": [],
   "source": [
    "import torch\n",
    "torch.set_default_dtype(torch.float64)\n",
    "device = torch.device(\"cuda:2\" if torch.cuda.is_available() else \"cpu\")"
   ]
  },
  {
   "cell_type": "code",
   "execution_count": 32,
   "metadata": {},
   "outputs": [],
   "source": [
    "from os import path\n",
    "from glob import glob\n",
    "import numpy as np\n",
    "from pao_tfn_trainer import train_pao_tfn\n",
    "from se3cnn.point_utils import difference_matrix\n",
    "from pao_file_utils import parse_pao_file, write_pao_file"
   ]
  },
  {
   "cell_type": "code",
   "execution_count": 43,
   "metadata": {},
   "outputs": [
    {
     "name": "stdout",
     "output_type": "stream",
     "text": [
      "['2H2O_MD/frame_0000/2H2O_pao44-1_0.pao']\n",
      "Training net for kind H using 4 smaples.\n",
      "Epoch: 0  Missmatch: 7.010798  Penalty: 1.963789 Loss: 8.974587\n",
      "Epoch: 10  Missmatch: 3.846207  Penalty: 1.832476 Loss: 5.678683\n",
      "Epoch: 20  Missmatch: 2.282117  Penalty: 1.744603 Loss: 4.026720\n",
      "Epoch: 30  Missmatch: 1.443754  Penalty: 1.698261 Loss: 3.142015\n",
      "Epoch: 40  Missmatch: 1.237001  Penalty: 1.592752 Loss: 2.829754\n",
      "Epoch: 50  Missmatch: 0.956868  Penalty: 1.607050 Loss: 2.563918\n",
      "Epoch: 60  Missmatch: 0.710115  Penalty: 1.580735 Loss: 2.290850\n",
      "Epoch: 70  Missmatch: 0.378234  Penalty: 1.490734 Loss: 1.868968\n",
      "Epoch: 80  Missmatch: 0.253044  Penalty: 1.436786 Loss: 1.689830\n",
      "Epoch: 90  Missmatch: 0.145495  Penalty: 1.335010 Loss: 1.480505\n",
      "Epoch: 100  Missmatch: 0.205658  Penalty: 1.317555 Loss: 1.523213\n",
      "Epoch: 110  Missmatch: 0.155560  Penalty: 1.237505 Loss: 1.393065\n",
      "Epoch: 120  Missmatch: 0.158083  Penalty: 1.181922 Loss: 1.340004\n",
      "Epoch: 130  Missmatch: 0.158004  Penalty: 1.037242 Loss: 1.195246\n",
      "Epoch: 140  Missmatch: 0.127933  Penalty: 1.022617 Loss: 1.150551\n",
      "Epoch: 150  Missmatch: 0.120877  Penalty: 0.874021 Loss: 0.994897\n",
      "Epoch: 160  Missmatch: 0.099895  Penalty: 0.792970 Loss: 0.892865\n",
      "Epoch: 170  Missmatch: 0.092997  Penalty: 0.709457 Loss: 0.802453\n",
      "Epoch: 180  Missmatch: 0.103553  Penalty: 0.648249 Loss: 0.751803\n",
      "Epoch: 190  Missmatch: 0.080892  Penalty: 0.578063 Loss: 0.658956\n",
      "Epoch: 200  Missmatch: 0.050132  Penalty: 0.541011 Loss: 0.591143\n",
      "Epoch: 210  Missmatch: 0.078093  Penalty: 0.599654 Loss: 0.677746\n",
      "Epoch: 220  Missmatch: 0.056799  Penalty: 0.339053 Loss: 0.395851\n",
      "Epoch: 230  Missmatch: 0.057038  Penalty: 0.301721 Loss: 0.358758\n",
      "Epoch: 240  Missmatch: 0.038436  Penalty: 0.333943 Loss: 0.372378\n",
      "Epoch: 250  Missmatch: 0.043202  Penalty: 0.094552 Loss: 0.137754\n",
      "Epoch: 260  Missmatch: 0.040788  Penalty: 0.040523 Loss: 0.081311\n",
      "Epoch: 270  Missmatch: 0.060855  Penalty: 0.039930 Loss: 0.100785\n",
      "Epoch: 280  Missmatch: 0.061571  Penalty: 0.087686 Loss: 0.149257\n",
      "Epoch: 290  Missmatch: 0.062985  Penalty: 0.008371 Loss: 0.071356\n",
      "Epoch: 300  Missmatch: 0.054500  Penalty: 0.023834 Loss: 0.078334\n",
      "Epoch: 310  Missmatch: 0.062651  Penalty: 0.018259 Loss: 0.080911\n",
      "Epoch: 320  Missmatch: 0.094104  Penalty: 0.094821 Loss: 0.188925\n",
      "Epoch: 330  Missmatch: 0.062866  Penalty: 0.007500 Loss: 0.070366\n",
      "Epoch: 340  Missmatch: 0.071864  Penalty: 0.041976 Loss: 0.113840\n",
      "Epoch: 350  Missmatch: 0.043734  Penalty: 0.004947 Loss: 0.048682\n",
      "Epoch: 360  Missmatch: 0.038820  Penalty: 0.010284 Loss: 0.049103\n",
      "Epoch: 370  Missmatch: 0.081067  Penalty: 0.012619 Loss: 0.093685\n",
      "Epoch: 380  Missmatch: 0.078185  Penalty: 0.005166 Loss: 0.083351\n",
      "Epoch: 390  Missmatch: 0.055018  Penalty: 0.013107 Loss: 0.068125\n",
      "Epoch: 400  Missmatch: 0.053526  Penalty: 0.011292 Loss: 0.064818\n",
      "Epoch: 410  Missmatch: 0.068325  Penalty: 0.016511 Loss: 0.084836\n",
      "Epoch: 420  Missmatch: 0.071115  Penalty: 0.024163 Loss: 0.095278\n",
      "Epoch: 430  Missmatch: 0.048440  Penalty: 0.006487 Loss: 0.054927\n",
      "Epoch: 440  Missmatch: 0.056240  Penalty: 0.008682 Loss: 0.064923\n",
      "Epoch: 450  Missmatch: 0.063096  Penalty: 0.004413 Loss: 0.067509\n",
      "Epoch: 460  Missmatch: 0.082562  Penalty: 0.008960 Loss: 0.091521\n",
      "Epoch: 470  Missmatch: 0.080575  Penalty: 0.014072 Loss: 0.094647\n",
      "Epoch: 480  Missmatch: 0.047836  Penalty: 0.015484 Loss: 0.063321\n",
      "Epoch: 490  Missmatch: 0.054956  Penalty: 0.007054 Loss: 0.062010\n",
      "Training net for kind O using 2 smaples.\n",
      "Epoch: 0  Missmatch: 3.839483  Penalty: 1.972839 Loss: 5.812322\n",
      "Epoch: 10  Missmatch: 1.976686  Penalty: 1.754096 Loss: 3.730782\n",
      "Epoch: 20  Missmatch: 0.528199  Penalty: 1.590961 Loss: 2.119160\n",
      "Epoch: 30  Missmatch: 0.199980  Penalty: 1.436057 Loss: 1.636036\n",
      "Epoch: 40  Missmatch: 0.100342  Penalty: 1.280529 Loss: 1.380871\n",
      "Epoch: 50  Missmatch: 0.098725  Penalty: 1.155080 Loss: 1.253805\n",
      "Epoch: 60  Missmatch: 0.059531  Penalty: 0.954754 Loss: 1.014285\n",
      "Epoch: 70  Missmatch: 0.054733  Penalty: 0.772228 Loss: 0.826961\n",
      "Epoch: 80  Missmatch: 0.108382  Penalty: 0.520024 Loss: 0.628406\n",
      "Epoch: 90  Missmatch: 0.064968  Penalty: 0.239241 Loss: 0.304209\n",
      "Epoch: 100  Missmatch: 0.074519  Penalty: 0.085651 Loss: 0.160169\n",
      "Epoch: 110  Missmatch: 0.056066  Penalty: 0.030814 Loss: 0.086879\n",
      "Epoch: 120  Missmatch: 0.057030  Penalty: 0.027750 Loss: 0.084780\n",
      "Epoch: 130  Missmatch: 0.041735  Penalty: 0.004227 Loss: 0.045963\n",
      "Epoch: 140  Missmatch: 0.064926  Penalty: 0.008875 Loss: 0.073802\n",
      "Epoch: 150  Missmatch: 0.065964  Penalty: 0.012009 Loss: 0.077973\n",
      "Epoch: 160  Missmatch: 0.054788  Penalty: 0.004871 Loss: 0.059658\n",
      "Epoch: 170  Missmatch: 0.081498  Penalty: 0.016604 Loss: 0.098102\n",
      "Epoch: 180  Missmatch: 0.051955  Penalty: 0.005134 Loss: 0.057089\n",
      "Epoch: 190  Missmatch: 0.052232  Penalty: 0.005532 Loss: 0.057764\n",
      "Epoch: 200  Missmatch: 0.049650  Penalty: 0.008851 Loss: 0.058501\n",
      "Epoch: 210  Missmatch: 0.027103  Penalty: 0.005835 Loss: 0.032938\n",
      "Epoch: 220  Missmatch: 0.036123  Penalty: 0.006803 Loss: 0.042926\n",
      "Epoch: 230  Missmatch: 0.029652  Penalty: 0.006229 Loss: 0.035882\n",
      "Epoch: 240  Missmatch: 0.046421  Penalty: 0.011545 Loss: 0.057966\n",
      "Epoch: 250  Missmatch: 0.026678  Penalty: 0.005970 Loss: 0.032648\n",
      "Epoch: 260  Missmatch: 0.068987  Penalty: 0.005088 Loss: 0.074075\n",
      "Epoch: 270  Missmatch: 0.064155  Penalty: 0.007764 Loss: 0.071919\n",
      "Epoch: 280  Missmatch: 0.057162  Penalty: 0.012970 Loss: 0.070132\n",
      "Epoch: 290  Missmatch: 0.034676  Penalty: 0.007307 Loss: 0.041984\n",
      "Epoch: 300  Missmatch: 0.037859  Penalty: 0.003844 Loss: 0.041703\n",
      "Epoch: 310  Missmatch: 0.028177  Penalty: 0.005508 Loss: 0.033685\n",
      "Epoch: 320  Missmatch: 0.038288  Penalty: 0.002908 Loss: 0.041196\n",
      "Epoch: 330  Missmatch: 0.059752  Penalty: 0.006765 Loss: 0.066517\n",
      "Epoch: 340  Missmatch: 0.042354  Penalty: 0.007437 Loss: 0.049791\n",
      "Epoch: 350  Missmatch: 0.054239  Penalty: 0.005922 Loss: 0.060161\n",
      "Epoch: 360  Missmatch: 0.052424  Penalty: 0.009925 Loss: 0.062350\n",
      "Epoch: 370  Missmatch: 0.050349  Penalty: 0.022118 Loss: 0.072466\n",
      "Epoch: 380  Missmatch: 0.039024  Penalty: 0.006190 Loss: 0.045214\n",
      "Epoch: 390  Missmatch: 0.021786  Penalty: 0.003702 Loss: 0.025488\n",
      "Epoch: 400  Missmatch: 0.037972  Penalty: 0.006802 Loss: 0.044774\n",
      "Epoch: 410  Missmatch: 0.036758  Penalty: 0.005147 Loss: 0.041905\n",
      "Epoch: 420  Missmatch: 0.039989  Penalty: 0.006850 Loss: 0.046839\n",
      "Epoch: 430  Missmatch: 0.040235  Penalty: 0.007765 Loss: 0.047999\n",
      "Epoch: 440  Missmatch: 0.051321  Penalty: 0.002060 Loss: 0.053381\n",
      "Epoch: 450  Missmatch: 0.034156  Penalty: 0.007945 Loss: 0.042100\n",
      "Epoch: 460  Missmatch: 0.034211  Penalty: 0.007007 Loss: 0.041218\n",
      "Epoch: 470  Missmatch: 0.024703  Penalty: 0.004712 Loss: 0.029415\n",
      "Epoch: 480  Missmatch: 0.037587  Penalty: 0.010918 Loss: 0.048505\n",
      "Epoch: 490  Missmatch: 0.030956  Penalty: 0.010942 Loss: 0.041898\n"
     ]
    }
   ],
   "source": [
    "# assuming MOLOPT-DZVP as primary basis set\n",
    "prim_basis_shells = {\n",
    "    'H': [2, 1, 0], # two s-shells, one p-shell, no d-shells\n",
    "    'O': [2, 2, 1], # two s-shells, two p-shells, one d-shell\n",
    "}\n",
    "pao_basis_size = 4\n",
    "\n",
    "pao_files = sorted(glob(\"2H2O_MD/frame_*/2H2O_pao44-1_0.pao\"))\n",
    "training_pao_files = pao_files[:1]\n",
    "print(training_pao_files)\n",
    "\n",
    "net_H = train_pao_tfn(training_pao_files, prim_basis_shells, pao_basis_size, kind_name=\"H\", max_epochs=500)\n",
    "net_O = train_pao_tfn(training_pao_files, prim_basis_shells, pao_basis_size, kind_name=\"O\", max_epochs=500)"
   ]
  },
  {
   "cell_type": "code",
   "execution_count": 44,
   "metadata": {},
   "outputs": [
    {
     "name": "stdout",
     "output_type": "stream",
     "text": [
      "Wrote 2H2O_MD/frame_0000/inferred.pao\n"
     ]
    }
   ],
   "source": [
    "for fn in pao_files:\n",
    "    kinds, atom2kind, coords, xblocks = parse_pao_file(fn)\n",
    "    kind_onehot = train_dataset.encode_kind(atom2kind)  # TODO: store kind-encoding in the net\n",
    "    natoms = coords.shape[0]\n",
    "    xblocks = []\n",
    "    for iatom in range(natoms):\n",
    "        rolled_kinds = np.roll(kind_onehot, shift=-iatom, axis=1)\n",
    "        rolled_coords =  np.roll(coords, shift=-iatom, axis=0)\n",
    "        rolled_kinds_torch = torch.from_numpy(rolled_kinds[None,...])\n",
    "        rolled_coords_torch = torch.from_numpy(rolled_coords[None,...])\n",
    "        diff_M = difference_matrix(rolled_coords_torch)\n",
    "        if atom2kind[iatom] == \"H\":\n",
    "            output_net = net_H(rolled_kinds_torch, diff_M)\n",
    "            xblock_net = net_H.decode_xblock(output_net[0,:,0])\n",
    "        elif atom2kind[iatom] == \"O\":\n",
    "            output_net = net_O(rolled_kinds_torch, diff_M)\n",
    "            xblock_net = net_O.decode_xblock(output_net[0,:,0])\n",
    "        xblocks.append(xblock_net.detach().numpy())\n",
    "\n",
    "    frame_dir = path.dirname(fn)\n",
    "    fn_inferred = frame_dir + \"/inferred.pao\"\n",
    "    write_pao_file(coords, xblocks, fn_inferred)\n",
    "    print(\"Wrote \"+fn_inferred)\n",
    "    ! cd $frame_dir; /opt/cp2k/exe/local/cp2k.sopt -i 2H2O_pao44_inferred.inp > 2H2O_pao44_inferred.out\n",
    "    break"
   ]
  },
  {
   "cell_type": "code",
   "execution_count": null,
   "metadata": {},
   "outputs": [],
   "source": []
  }
 ],
 "metadata": {
  "kernelspec": {
   "display_name": "Python 3",
   "language": "python",
   "name": "python3"
  },
  "language_info": {
   "codemirror_mode": {
    "name": "ipython",
    "version": 3
   },
   "file_extension": ".py",
   "mimetype": "text/x-python",
   "name": "python",
   "nbconvert_exporter": "python",
   "pygments_lexer": "ipython3",
   "version": "3.6.7"
  }
 },
 "nbformat": 4,
 "nbformat_minor": 2
}
