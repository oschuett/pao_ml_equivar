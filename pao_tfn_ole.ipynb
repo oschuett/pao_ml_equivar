{
 "cells": [
  {
   "cell_type": "code",
   "execution_count": null,
   "metadata": {},
   "outputs": [],
   "source": [
    "%load_ext autoreload\n",
    "%autoreload 2"
   ]
  },
  {
   "cell_type": "code",
   "execution_count": null,
   "metadata": {},
   "outputs": [],
   "source": [
    "import torch\n",
    "torch.set_default_dtype(torch.float64)\n",
    "device = torch.device(\"cuda:2\" if torch.cuda.is_available() else \"cpu\")"
   ]
  },
  {
   "cell_type": "code",
   "execution_count": null,
   "metadata": {},
   "outputs": [],
   "source": [
    "from os import path\n",
    "from glob import glob\n",
    "import numpy as np\n",
    "import matplotlib.pylab as plt\n",
    "\n",
    "#from se3cnn.point_utils import difference_matrix\n",
    "from ole_se3cnn import difference_matrix\n",
    "from pao_file_utils import parse_pao_file, write_pao_file\n",
    "from pao_tfn_dataset import encode_kind\n",
    "from pao_tfn_trainer import train_pao_tfn, loss_function\n",
    "from cp2k_file_utils import read_energy"
   ]
  },
  {
   "cell_type": "code",
   "execution_count": null,
   "metadata": {},
   "outputs": [],
   "source": [
    "# Load training data and hard code metadata.\n",
    "pao_files = sorted(glob(\"2H2O_MD/frame_*/2H2O_pao44-1_0.pao\"))\n",
    "\n",
    "prim_basis_shells = {\n",
    "    'H': [2, 1, 0], # two s-shells, one p-shell, no d-shells\n",
    "    'O': [2, 2, 1], # two s-shells, two p-shells, one d-shell\n",
    "}\n",
    "\n",
    "pao_basis_size = 4"
   ]
  },
  {
   "cell_type": "code",
   "execution_count": null,
   "metadata": {},
   "outputs": [],
   "source": [
    "# Use the first few frames to train networks for Hydrogen and Oxygen.\n",
    "train_params = dict(\n",
    "    prim_basis_shells=prim_basis_shells,\n",
    "    pao_basis_size=pao_basis_size,\n",
    "    pao_files=pao_files[:10],  # number of frames used as training data\n",
    "    num_hidden=1,              # number of hidden layers\n",
    "    max_epochs=201,            # number of training epochs\n",
    ")\n",
    "\n",
    "net_H = train_pao_tfn(**train_params, kind_name=\"H\")\n",
    "net_O = train_pao_tfn(**train_params, kind_name=\"O\")"
   ]
  },
  {
   "cell_type": "code",
   "execution_count": null,
   "metadata": {},
   "outputs": [],
   "source": [
    "# Use the trained networks to inferre xblocks for all frames and calc their loss.\n",
    "losses = []\n",
    "\n",
    "for fn in pao_files:\n",
    "    kinds, atom2kind, coords, xblocks = parse_pao_file(fn)\n",
    "    kind_onehot = encode_kind(atom2kind)\n",
    "    natoms = coords.shape[0]\n",
    "    losses.append(0.0)\n",
    "    xblocks_inferred = []\n",
    "    for iatom in range(natoms):\n",
    "        kind_onehot_torch = torch.as_tensor(kind_onehot)[None,...]\n",
    "        coords_torch = torch.as_tensor(coords)[None,...]\n",
    "        diff_M = difference_matrix(coords_torch)\n",
    "        if atom2kind[iatom] == \"H\":\n",
    "            output_net = net_H(kind_onehot_torch, diff_M)\n",
    "        elif atom2kind[iatom] == \"O\":\n",
    "            output_net = net_O(kind_onehot_torch, diff_M)\n",
    "        xblock_net = output_net[...,iatom]\n",
    "        xblocks_inferred.append(xblock_net.detach().numpy()[0,...])\n",
    "        loss = loss_function(xblock_net, torch.as_tensor(xblocks[iatom][None,...]))\n",
    "        losses[-1] += loss.item() / natoms\n",
    "    fn_inferred = path.dirname(fn) + \"/inferred.pao\"\n",
    "    write_pao_file(fn_inferred, kinds, atom2kind, coords, xblocks_inferred)\n",
    "\n",
    "plt.xlabel(\"Frame\")\n",
    "plt.ylabel(\"Loss\")\n",
    "plt.yscale('log')\n",
    "plt.plot(losses);"
   ]
  },
  {
   "cell_type": "code",
   "execution_count": null,
   "metadata": {},
   "outputs": [],
   "source": [
    "# Run CP2K on a few of the inferred frames. DFT Energy difference below 1 milliHartree would be nice.\n",
    "verify_frames = range(20)\n",
    "\n",
    "for iframe in verify_frames:\n",
    "    frame_dir = path.dirname(pao_files[iframe])\n",
    "    ! cd $frame_dir; /opt/cp2k/exe/local/cp2k.ssmp -i 2H2O_pao44_inferred.inp > 2H2O_pao44_inferred.out\n",
    "    pao_energy = read_energy(frame_dir+\"/2H2O_pao44.out\")\n",
    "    pao_ml_energy = read_energy(frame_dir+\"/2H2O_pao44_inferred.out\")\n",
    "    energy_diff = pao_ml_energy - pao_energy\n",
    "    tmpl = \"Frame: {} Dir: {} Loss: {:0.4e} Energy-diff: {:0.4e} Hartree\"\n",
    "    print(tmpl.format(iframe, frame_dir, losses[iframe], energy_diff))"
   ]
  }
 ],
 "metadata": {
  "kernelspec": {
   "display_name": "Python 3",
   "language": "python",
   "name": "python3"
  },
  "language_info": {
   "codemirror_mode": {
    "name": "ipython",
    "version": 3
   },
   "file_extension": ".py",
   "mimetype": "text/x-python",
   "name": "python",
   "nbconvert_exporter": "python",
   "pygments_lexer": "ipython3",
   "version": "3.6.7"
  }
 },
 "nbformat": 4,
 "nbformat_minor": 2
}
