{
 "cells": [
  {
   "cell_type": "code",
   "execution_count": 1,
   "metadata": {},
   "outputs": [],
   "source": [
    "%load_ext autoreload\n",
    "%autoreload 2"
   ]
  },
  {
   "cell_type": "code",
   "execution_count": 2,
   "metadata": {},
   "outputs": [],
   "source": [
    "import torch\n",
    "torch.set_default_dtype(torch.float64)\n",
    "device = torch.device(\"cuda:2\" if torch.cuda.is_available() else \"cpu\")"
   ]
  },
  {
   "cell_type": "code",
   "execution_count": 3,
   "metadata": {},
   "outputs": [],
   "source": [
    "from os import path\n",
    "from glob import glob\n",
    "import numpy as np\n",
    "from pao_tfn_trainer import train_pao_tfn\n",
    "from se3cnn.point_utils import difference_matrix\n",
    "from pao_file_utils import parse_pao_file, write_pao_file"
   ]
  },
  {
   "cell_type": "code",
   "execution_count": 4,
   "metadata": {},
   "outputs": [
    {
     "name": "stdout",
     "output_type": "stream",
     "text": [
      "Training NN for kind H using 40 samples.\n",
      "Epoch: 0  Missmatch: 4.769367  Penalty: 77.192826 Loss: 81.962193\n",
      "Epoch: 10  Missmatch: 3.485024  Penalty: 2.381678 Loss: 5.866702\n",
      "Epoch: 20  Missmatch: 2.028019  Penalty: 1.844886 Loss: 3.872905\n",
      "Epoch: 30  Missmatch: 1.575697  Penalty: 1.223659 Loss: 2.799356\n",
      "Epoch: 40  Missmatch: 1.108197  Penalty: 1.101138 Loss: 2.209336\n",
      "Epoch: 50  Missmatch: 0.704972  Penalty: 1.943697 Loss: 2.648668\n",
      "Epoch: 60  Missmatch: 0.451015  Penalty: 1.123234 Loss: 1.574248\n",
      "Epoch: 70  Missmatch: 0.259537  Penalty: 1.507688 Loss: 1.767225\n",
      "Epoch: 80  Missmatch: 0.155032  Penalty: 1.213667 Loss: 1.368700\n",
      "Epoch: 90  Missmatch: 0.113876  Penalty: 1.221088 Loss: 1.334963\n",
      "Training NN for kind O using 20 samples.\n",
      "Epoch: 0  Missmatch: 1.203284  Penalty: 38.197143 Loss: 39.400427\n",
      "Epoch: 10  Missmatch: 0.950978  Penalty: 1.567417 Loss: 2.518395\n",
      "Epoch: 20  Missmatch: 0.881326  Penalty: 0.369975 Loss: 1.251301\n",
      "Epoch: 30  Missmatch: 0.837146  Penalty: 0.459576 Loss: 1.296722\n",
      "Epoch: 40  Missmatch: 0.806250  Penalty: 0.320822 Loss: 1.127072\n",
      "Epoch: 50  Missmatch: 0.783469  Penalty: 0.383918 Loss: 1.167387\n",
      "Epoch: 60  Missmatch: 0.766063  Penalty: 0.305248 Loss: 1.071311\n",
      "Epoch: 70  Missmatch: 0.748301  Penalty: 0.245792 Loss: 0.994093\n",
      "Epoch: 80  Missmatch: 0.728687  Penalty: 0.785651 Loss: 1.514338\n",
      "Epoch: 90  Missmatch: 0.703753  Penalty: 0.460137 Loss: 1.163890\n"
     ]
    }
   ],
   "source": [
    "# assuming MOLOPT-DZVP as primary basis set\n",
    "prim_basis_shells = {\n",
    "    'H': [2, 1, 0], # two s-shells, one p-shell, no d-shells\n",
    "    'O': [2, 2, 1], # two s-shells, two p-shells, one d-shell\n",
    "}\n",
    "pao_basis_size = 4\n",
    "\n",
    "pao_files = sorted(glob(\"2H2O_MD/frame_*/2H2O_pao44-1_0.pao\"))\n",
    "training_pao_files = pao_files[:10]\n",
    "\n",
    "max_epochs=100\n",
    "net_H = train_pao_tfn(training_pao_files, prim_basis_shells, pao_basis_size, kind_name=\"H\", max_epochs=max_epochs)\n",
    "net_O = train_pao_tfn(training_pao_files, prim_basis_shells, pao_basis_size, kind_name=\"O\", max_epochs=max_epochs)"
   ]
  },
  {
   "cell_type": "code",
   "execution_count": 6,
   "metadata": {},
   "outputs": [
    {
     "ename": "NameError",
     "evalue": "name 'train_dataset' is not defined",
     "output_type": "error",
     "traceback": [
      "\u001b[0;31m---------------------------------------------------------------------------\u001b[0m",
      "\u001b[0;31mNameError\u001b[0m                                 Traceback (most recent call last)",
      "\u001b[0;32m<ipython-input-6-5af35920d6da>\u001b[0m in \u001b[0;36m<module>\u001b[0;34m\u001b[0m\n\u001b[1;32m      1\u001b[0m \u001b[0;32mfor\u001b[0m \u001b[0mfn\u001b[0m \u001b[0;32min\u001b[0m \u001b[0mpao_files\u001b[0m\u001b[0;34m:\u001b[0m\u001b[0;34m\u001b[0m\u001b[0;34m\u001b[0m\u001b[0m\n\u001b[1;32m      2\u001b[0m     \u001b[0mkinds\u001b[0m\u001b[0;34m,\u001b[0m \u001b[0matom2kind\u001b[0m\u001b[0;34m,\u001b[0m \u001b[0mcoords\u001b[0m\u001b[0;34m,\u001b[0m \u001b[0mxblocks\u001b[0m \u001b[0;34m=\u001b[0m \u001b[0mparse_pao_file\u001b[0m\u001b[0;34m(\u001b[0m\u001b[0mfn\u001b[0m\u001b[0;34m)\u001b[0m\u001b[0;34m\u001b[0m\u001b[0;34m\u001b[0m\u001b[0m\n\u001b[0;32m----> 3\u001b[0;31m     \u001b[0mkind_onehot\u001b[0m \u001b[0;34m=\u001b[0m \u001b[0mtrain_dataset\u001b[0m\u001b[0;34m.\u001b[0m\u001b[0mencode_kind\u001b[0m\u001b[0;34m(\u001b[0m\u001b[0matom2kind\u001b[0m\u001b[0;34m)\u001b[0m  \u001b[0;31m# TODO: store kind-encoding in the net\u001b[0m\u001b[0;34m\u001b[0m\u001b[0;34m\u001b[0m\u001b[0m\n\u001b[0m\u001b[1;32m      4\u001b[0m     \u001b[0mnatoms\u001b[0m \u001b[0;34m=\u001b[0m \u001b[0mcoords\u001b[0m\u001b[0;34m.\u001b[0m\u001b[0mshape\u001b[0m\u001b[0;34m[\u001b[0m\u001b[0;36m0\u001b[0m\u001b[0;34m]\u001b[0m\u001b[0;34m\u001b[0m\u001b[0;34m\u001b[0m\u001b[0m\n\u001b[1;32m      5\u001b[0m     \u001b[0mxblocks\u001b[0m \u001b[0;34m=\u001b[0m \u001b[0;34m[\u001b[0m\u001b[0;34m]\u001b[0m\u001b[0;34m\u001b[0m\u001b[0;34m\u001b[0m\u001b[0m\n",
      "\u001b[0;31mNameError\u001b[0m: name 'train_dataset' is not defined"
     ]
    }
   ],
   "source": [
    "for fn in pao_files:\n",
    "    kinds, atom2kind, coords, xblocks = parse_pao_file(fn)\n",
    "    kind_onehot = train_dataset.encode_kind(atom2kind)  # TODO: store kind-encoding in the net\n",
    "    natoms = coords.shape[0]\n",
    "    xblocks = []\n",
    "    for iatom in range(natoms):\n",
    "        rolled_kinds = np.roll(kind_onehot, shift=-iatom, axis=1)\n",
    "        rolled_coords =  np.roll(coords, shift=-iatom, axis=0)\n",
    "        rolled_kinds_torch = torch.from_numpy(rolled_kinds[None,...])\n",
    "        rolled_coords_torch = torch.from_numpy(rolled_coords[None,...])\n",
    "        diff_M = difference_matrix(rolled_coords_torch)\n",
    "        if atom2kind[iatom] == \"H\":\n",
    "            output_net = net_H(rolled_kinds_torch, diff_M)\n",
    "            xblock_net = net_H.decode_xblock(output_net[0,:,0])\n",
    "        elif atom2kind[iatom] == \"O\":\n",
    "            output_net = net_O(rolled_kinds_torch, diff_M)\n",
    "            xblock_net = net_O.decode_xblock(output_net[0,:,0])\n",
    "        xblocks.append(xblock_net.detach().numpy())\n",
    "\n",
    "    frame_dir = path.dirname(fn)\n",
    "    fn_inferred = frame_dir + \"/inferred.pao\"\n",
    "    write_pao_file(coords, xblocks, fn_inferred)\n",
    "    print(\"Wrote \"+fn_inferred)\n",
    "    ! cd $frame_dir; /opt/cp2k/exe/local/cp2k.ssmp -i 2H2O_pao44_inferred.inp > 2H2O_pao44_inferred.out"
   ]
  },
  {
   "cell_type": "code",
   "execution_count": null,
   "metadata": {},
   "outputs": [],
   "source": []
  }
 ],
 "metadata": {
  "kernelspec": {
   "display_name": "Python 3",
   "language": "python",
   "name": "python3"
  },
  "language_info": {
   "codemirror_mode": {
    "name": "ipython",
    "version": 3
   },
   "file_extension": ".py",
   "mimetype": "text/x-python",
   "name": "python",
   "nbconvert_exporter": "python",
   "pygments_lexer": "ipython3",
   "version": "3.6.7"
  }
 },
 "nbformat": 4,
 "nbformat_minor": 2
}
