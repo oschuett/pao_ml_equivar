{
 "cells": [
  {
   "cell_type": "code",
   "execution_count": 1,
   "metadata": {},
   "outputs": [],
   "source": [
    "%load_ext autoreload\n",
    "%autoreload 2"
   ]
  },
  {
   "cell_type": "code",
   "execution_count": 231,
   "metadata": {},
   "outputs": [],
   "source": [
    "from glob import glob\n",
    "from pao_utils import parse_pao_file, append_samples\n",
    "import pandas as pd\n",
    "import numpy as np\n",
    "\n",
    "import torch\n",
    "import torch.utils.data\n",
    "import se3cnn\n",
    "import livelossplot as llp\n",
    "\n",
    "import sys, os\n",
    "import random\n",
    "import numpy as np\n",
    "\n",
    "from se3cnn.utils import torch_default_dtype\n",
    "import se3cnn.point_utils as point_utils\n",
    "from se3cnn.non_linearities import NormSoftplus\n",
    "from se3cnn.convolution import SE3PointConvolution\n",
    "from se3cnn.blocks.point_norm_block import PointNormBlock \n",
    "from se3cnn.point_kernel import gaussian_radial_function\n",
    "from se3cnn.SO3 import torch_default_dtype\n",
    "\n",
    "from functools import partial\n",
    "\n",
    "torch.set_default_dtype(torch.float64)\n",
    "device = torch.device(\"cuda:2\" if torch.cuda.is_available() else \"cpu\")"
   ]
  },
  {
   "cell_type": "code",
   "execution_count": 232,
   "metadata": {},
   "outputs": [],
   "source": [
    "# Find and parse all .pao files.\n",
    "# Each file corresponds to a molecular configuration, ie. a frame.\n",
    "# Since the system contains multiple atoms, each .pao file contains multiple samples.\n",
    "class PAODataset(object):\n",
    "    def __init__(self, kind_name):\n",
    "        self.kind_name = kind_name\n",
    "        self.sample_coords = []\n",
    "        self.sample_xblocks = []\n",
    "        self.sample_iatoms = []\n",
    "\n",
    "        #TODO split in training and test set\n",
    "        for fn in glob(\"2H2O_MD/frame_*/2H2O_pao44-1_0.pao\"):\n",
    "            kinds, atom2kind, coords, xblocks = parse_pao_file(fn)\n",
    "            for iatom, kind in enumerate(atom2kind):\n",
    "                if kind != self.kind_name:\n",
    "                    continue\n",
    "                rel_coords = coords - coords[iatom,:] # relative coordinates\n",
    "                self.sample_coords.append(rel_coords)\n",
    "                self.sample_xblocks.append(xblocks[iatom])\n",
    "                self.sample_iatoms.append(iatom)\n",
    "\n",
    "        # assuming kinds and atom2kind are the same across whole training data\n",
    "        kinds_enum = list(kinds.keys())\n",
    "        self.kinds_onehot = np.zeros((len(kinds), len(atom2kind)))\n",
    "        for iatom, kind in enumerate(atom2kind):\n",
    "            idx = kinds_enum.index(kind)\n",
    "            self.kinds_onehot[idx, iatom] = 1.0\n",
    "        \n",
    "    def __getitem__(self, idx):\n",
    "        # roll central atom to the front\n",
    "        iatom = self.sample_iatoms[idx]\n",
    "        rolled_kinds = np.roll(self.kinds_onehot, shift=-iatom, axis=1)\n",
    "        rolled_coords =  np.roll(self.sample_coords[idx], shift=-iatom, axis=0)  \n",
    "        return rolled_kinds, rolled_coords, self.sample_xblocks[idx]\n",
    "\n",
    "    def __len__(self):\n",
    "        return len(self.sample_xblocks)"
   ]
  },
  {
   "cell_type": "code",
   "execution_count": 233,
   "metadata": {},
   "outputs": [],
   "source": [
    "class PAONet(torch.nn.Module):\n",
    "    def __init__(self, num_kinds, pao_basis_size, prim_basis_shells, num_radial=4, max_radius=2.5):\n",
    "        super().__init__()\n",
    "        self.num_kinds = num_kinds\n",
    "        self.prim_basis_shells = prim_basis_shells\n",
    "        self.pao_basis_size = pao_basis_size\n",
    "        \n",
    "        features = []\n",
    "        features.append([num_kinds, 0, 0])  # L=0 for atom type as one-hot encoding\n",
    "        features.append([8, 8, 8]) # hidden layer with filters L=0,1,2\n",
    "        features.append([8, 8, 8]) # hidden layer with filters L=0,1,2\n",
    "        features.append([ i * pao_basis_size for i in prim_basis_shells])\n",
    "\n",
    "        nonlinearity = lambda x: torch.log(0.5 * torch.exp(x) + 0.5)\n",
    "        sigma = max_radius / num_radial\n",
    "        radii = torch.linspace(0, max_radius, steps=num_radial, dtype=torch.float64)\n",
    "        radial_function = partial(gaussian_radial_function, sigma=2*sigma)\n",
    "        radii_args = {'radii': radii, 'radial_function': radial_function}\n",
    "\n",
    "        # Convolutions with Norm nonlinearity layers\n",
    "        self.layers = torch.nn.ModuleList()\n",
    "        \n",
    "        # input layer\n",
    "        self.layers.append(PointNormBlock(features[0], features[1], activation=nonlinearity, **radii_args))\n",
    "        \n",
    "        # hidden layer\n",
    "        self.layers.append(PointNormBlock(features[1], features[2], activation=nonlinearity, **radii_args))\n",
    "        \n",
    "        # output layer\n",
    "        Rs_repr = lambda features: [(m, l) for l, m in enumerate(features)]\n",
    "        self.layers.append(SE3PointConvolution(Rs_repr(features[2]), Rs_repr(features[3]), **radii_args))\n",
    "                        \n",
    "        \n",
    "    def forward(self, input, difference_mat, relative_mask=None):\n",
    "        output = input\n",
    "        for layer in self.layers:\n",
    "            output = layer(output, difference_mat, relative_mask)\n",
    "        return output"
   ]
  },
  {
   "cell_type": "code",
   "execution_count": 234,
   "metadata": {},
   "outputs": [
    {
     "name": "stdout",
     "output_type": "stream",
     "text": [
      "torch.Size([5, 52])\n",
      "(4, 13)\n"
     ]
    },
    {
     "ename": "NameError",
     "evalue": "name 'loss_fn' is not defined",
     "output_type": "error",
     "traceback": [
      "\u001b[0;31m---------------------------------------------------------------------------\u001b[0m",
      "\u001b[0;31mNameError\u001b[0m                                 Traceback (most recent call last)",
      "\u001b[0;32m<ipython-input-234-68f3ea4752bc>\u001b[0m in \u001b[0;36m<module>\u001b[0;34m\u001b[0m\n\u001b[1;32m     19\u001b[0m \u001b[0;34m\u001b[0m\u001b[0m\n\u001b[1;32m     20\u001b[0m     \u001b[0;31m# Compute loss\u001b[0m\u001b[0;34m\u001b[0m\u001b[0;34m\u001b[0m\u001b[0;34m\u001b[0m\u001b[0m\n\u001b[0;32m---> 21\u001b[0;31m     \u001b[0mloss\u001b[0m \u001b[0;34m=\u001b[0m \u001b[0mloss_fn\u001b[0m\u001b[0;34m(\u001b[0m\u001b[0moutput\u001b[0m\u001b[0;34m,\u001b[0m \u001b[0mxblocks\u001b[0m\u001b[0;34m)\u001b[0m\u001b[0;34m\u001b[0m\u001b[0;34m\u001b[0m\u001b[0m\n\u001b[0m\u001b[1;32m     22\u001b[0m     \u001b[0moptimizer\u001b[0m\u001b[0;34m.\u001b[0m\u001b[0mzero_grad\u001b[0m\u001b[0;34m(\u001b[0m\u001b[0;34m)\u001b[0m\u001b[0;34m\u001b[0m\u001b[0;34m\u001b[0m\u001b[0m\n\u001b[1;32m     23\u001b[0m     \u001b[0mloss\u001b[0m\u001b[0;34m.\u001b[0m\u001b[0mbackward\u001b[0m\u001b[0;34m(\u001b[0m\u001b[0;34m)\u001b[0m\u001b[0;34m\u001b[0m\u001b[0;34m\u001b[0m\u001b[0m\n",
      "\u001b[0;31mNameError\u001b[0m: name 'loss_fn' is not defined"
     ]
    }
   ],
   "source": [
    "# assuming MOLOPT-DZVP as primary basis set\n",
    "prim_basis_shells = {\n",
    "    'H': [2, 1, 0], # two s-shells, one p-shell, no d-shells\n",
    "    'O': [2, 2, 1], # two s-shells, two p-shells, one d-shell\n",
    "}\n",
    "\n",
    "net = PAONet(num_kinds=2, pao_basis_size=4, prim_basis_shells=prim_basis_shells['O'])\n",
    "dataset = PAODataset(\"O\")\n",
    "\n",
    "dataloader = torch.utils.data.DataLoader(dataset, batch_size=5, shuffle=False)\n",
    "for batch in dataloader:\n",
    "    kind_onehot, coords, xblocks = batch    \n",
    "    diff_M = se3cnn.point_utils.difference_matrix(coords)\n",
    "    output = net(kind_onehot, diff_M)\n",
    "    x = output[:,:,0]  # we rolled the central atom to the front\n",
    "    print(x.shape)\n",
    "    print(xblock.shape)\n",
    "    #TODO: unpack output, assing via hungarian, pack xblock, compute loss\n",
    "    \n",
    "    # Compute loss\n",
    "    loss = loss_fn(output, xblocks)\n",
    "    optimizer.zero_grad()\n",
    "    loss.backward()\n",
    "    optimizer.step()\n",
    "    break\n"
   ]
  },
  {
   "cell_type": "markdown",
   "metadata": {},
   "source": [
    "# Old Stuff"
   ]
  },
  {
   "cell_type": "code",
   "execution_count": null,
   "metadata": {},
   "outputs": [],
   "source": [
    "def train(net, dataloader):\n",
    "    liveloss = llp.PlotLosses()\n",
    "    net.train()\n",
    "    loss_fn = torch.nn.MSELoss()\n",
    "    optimizer = torch.optim.Adam(net.parameters(), lr=1e-2)\n",
    "    max_epochs = 100\n",
    "    \n",
    "    for epoch in range(max_epochs):\n",
    "        logs = {}\n",
    "        epoch_loss = 0\n",
    "        for data in dataloader:\n",
    "            coords, species, prim, mask, xblocks = data\n",
    "            diff_M = se3cnn.point_utils.difference_matrix(coords)\n",
    "            input = torch.cat([species, prim], dim=-2)\n",
    "            output = net(input, diff_M)\n",
    "            \n",
    "            # Compute loss\n",
    "            loss = loss_fn(output, xblocks)\n",
    "\n",
    "            optimizer.zero_grad()\n",
    "            loss.backward()\n",
    "            optimizer.step()\n",
    "\n",
    "            epoch_loss += loss.item()\n",
    "            \n",
    "        logs['loss'] = epoch_loss / len(dataloader)\n",
    "        liveloss.update(logs)\n",
    "        liveloss.draw()\n",
    "    return net, liveloss"
   ]
  },
  {
   "cell_type": "code",
   "execution_count": 4,
   "metadata": {},
   "outputs": [],
   "source": [
    "df = pd.DataFrame.from_dict(samples)"
   ]
  },
  {
   "cell_type": "code",
   "execution_count": 5,
   "metadata": {},
   "outputs": [],
   "source": [
    "class PAODataset(object):\n",
    "    def __init__(self, dataframe, max_prim=None, species_list=None, prim_by_species=None, num_pao=4):\n",
    "        self.df = dataframe\n",
    "        self.max_prim = max_prim if max_prim else [2, 2, 1]  # 2 s, 2 p and 2 d shell\n",
    "        self.N = [len(coord) for coord in dataframe['coords']]\n",
    "        self.N_max = np.max(self.N)\n",
    "        self.species_list = species_list if species_list else ['H', 'O']\n",
    "        self.prim_by_species = prim_by_species if prim_by_species else {'H' : [2, 1, 0], 'O' : [2, 2, 1]}\n",
    "        self.num_pao = num_pao\n",
    "                        \n",
    "    def xblock_to_rect(self, prim, xblock):\n",
    "        rect = []\n",
    "        cur_block_index = 0\n",
    "        for l,m in enumerate(self.max_prim):\n",
    "            for i in range(m):\n",
    "                if i <= prim[l] - 1:\n",
    "                    rect.append(xblock[:, cur_block_index:cur_block_index+ (2 * l + 1)])\n",
    "                    cur_block_index += 2 * l + 1\n",
    "                else:\n",
    "                    rect.append(np.zeros([self.num_pao, 2 * l + 1]))\n",
    "        return rect  \n",
    "    \n",
    "    def prim_enc_to_onehot(self, prim):\n",
    "        enc = []\n",
    "        for l,m in enumerate(self.max_prim):\n",
    "            for i in range(m):\n",
    "                if i <= prim[l] - 1:\n",
    "                    enc.append(np.ones(2 * l + 1))\n",
    "                else:\n",
    "                    enc.append(np.zeros(2 * l + 1))\n",
    "        return enc\n",
    "    \n",
    "    def __getitem__(self, index):\n",
    "        data = self.df.loc[index]\n",
    "        species, coords, xblocks = data['atom2kind'], data['coords'], data['xblocks']\n",
    "        N = self.N[index] \n",
    "        \n",
    "        species_onehot = np.zeros([len(self.species_list), self.N_max])  # [species_channels, N]\n",
    "        species_onehot[list(map(self.species_list.index, species)), range(N)] = 1.0\n",
    "        \n",
    "        prim_onehot = np.concatenate([\n",
    "            np.concatenate(\n",
    "                self.prim_enc_to_onehot(\n",
    "                    self.prim_by_species[specie])).reshape(-1, 1) for specie in species\n",
    "        ], axis=-1)  # [prim_channels, N]\n",
    "        \n",
    "        coords_rect = np.zeros([self.N_max, 3])\n",
    "        coords_rect[:N] = coords\n",
    "        \n",
    "        # Not needed for this dataset because N always equals N_max\n",
    "        # but we are showing this for completeness.\n",
    "        mask = np.zeros(self.N_max)\n",
    "        mask[:N] = 1.0\n",
    "        \n",
    "        xblocks_rect = []\n",
    "        for i, (xblock, specie) in enumerate(zip(xblocks, species)):\n",
    "            xblocks_rect.append(\n",
    "                np.concatenate(\n",
    "                    self.xblock_to_rect(self.prim_by_species[specie], xblock), axis=-1).reshape(-1, 1))\n",
    "        xblocks_rect = np.concatenate(xblocks_rect, axis=-1)  # [output_channels, N]\n",
    "            \n",
    "        return (coords_rect, species_onehot, prim_onehot, mask, xblocks_rect)\n",
    "\n",
    "    def __len__(self):\n",
    "        return len(self.df)"
   ]
  },
  {
   "cell_type": "code",
   "execution_count": 6,
   "metadata": {},
   "outputs": [],
   "source": [
    "class PAONet(torch.nn.Module):\n",
    "    def __init__(self, num_radial=4, max_radius=2.5):\n",
    "        super(PAONet, self).__init__()\n",
    "        # atoms types 2 channels [H, O]\n",
    "        features = [(4, 2, 1),  # 2 L=0 for atom type + 2 L=0, 2 L=1, 2 L=2 channels for primitive basis (use 1 and 0 to encode)\n",
    "                    (8, 8, 8),  # hidden layers with filters L=0,1,2\n",
    "                    (8, 8, 8),  # hidden layers with filters L=0,1,2\n",
    "                    (4 * 2, 4 * 2, 4 * 1)]  # 4 pao functions * 2 max channels for prim basis that are linear combinations of different shells\n",
    "        self.num_features = len(features)\n",
    "        \n",
    "        nonlinearity = lambda x: torch.log(0.5 * torch.exp(x) + 0.5)\n",
    "        \n",
    "        sigma = max_radius / num_radial\n",
    "\n",
    "        kwargs = {\n",
    "            'radii': torch.linspace(0, max_radius, steps=num_radial, dtype=torch.float64),\n",
    "            'activation': nonlinearity,\n",
    "            'radial_function': partial(gaussian_radial_function, sigma=2*sigma)\n",
    "        }\n",
    "        # Convolutions with Norm nonlinearity\n",
    "        self.layers = torch.nn.ModuleList([PointNormBlock(features[i], features[i+1], **kwargs) for i in range(0, len(features) - 2)])\n",
    "        # Final layer\n",
    "        self.layers.extend([SE3PointConvolution(self.__Rs_repr(features[-2]), \n",
    "                                               self.__Rs_repr(features[-1]), \n",
    "                                               kwargs['radii'], \n",
    "                                               kwargs['radial_function'])])\n",
    "\n",
    "    def forward(self, input, difference_mat, relative_mask=None):\n",
    "        output = input # [B, N, C]\n",
    "        for layer in self.layers:\n",
    "            output = layer(output, difference_mat, relative_mask)\n",
    "        return output\n",
    "\n",
    "    def __Rs_repr(self, features):\n",
    "        return [(m, l) for l, m in enumerate(features)]\n",
    "\n",
    "    def __capsule_dims(self, Rs):\n",
    "        return [2 * n + 1 for mul, n in Rs for i in range(mul)]"
   ]
  },
  {
   "cell_type": "code",
   "execution_count": 7,
   "metadata": {},
   "outputs": [],
   "source": [
    "def train(net, dataloader):\n",
    "    liveloss = llp.PlotLosses()\n",
    "    net.train()\n",
    "    loss_fn = torch.nn.MSELoss()\n",
    "    optimizer = torch.optim.Adam(net.parameters(),\n",
    "                                 lr=1e-2)\n",
    "    max_epochs = 100\n",
    "    \n",
    "    for epoch in range(max_epochs):\n",
    "        logs = {}\n",
    "        epoch_loss = 0\n",
    "        for data in dataloader:\n",
    "            coords, species, prim, mask, xblocks = data\n",
    "            diff_M = se3cnn.point_utils.difference_matrix(coords)\n",
    "            input = torch.cat([species, prim], dim=-2)\n",
    "            output = net(input, diff_M)\n",
    "            \n",
    "            # Compute loss\n",
    "            loss = loss_fn(output, xblocks)\n",
    "\n",
    "            optimizer.zero_grad()\n",
    "            loss.backward()\n",
    "            optimizer.step()\n",
    "\n",
    "            epoch_loss += loss.item()\n",
    "            \n",
    "        logs['loss'] = epoch_loss / len(dataloader)\n",
    "        liveloss.update(logs)\n",
    "        liveloss.draw()\n",
    "    return net, liveloss"
   ]
  },
  {
   "cell_type": "code",
   "execution_count": 8,
   "metadata": {},
   "outputs": [
    {
     "name": "stdout",
     "output_type": "stream",
     "text": [
      "81\n"
     ]
    }
   ],
   "source": [
    "dataset = PAODataset(df)\n",
    "print(len(dataset))\n",
    "batch_size = 5\n",
    "dataloader = torch.utils.data.DataLoader(dataset, batch_size=batch_size, shuffle=True)\n",
    "net = PAONet()"
   ]
  },
  {
   "cell_type": "code",
   "execution_count": 9,
   "metadata": {},
   "outputs": [
    {
     "data": {
      "image/png": "[encoded data removed]",
      "text/plain": [
       "<Figure size 864x576 with 1 Axes>"
      ]
     },
     "metadata": {
      "needs_background": "light"
     },
     "output_type": "display_data"
    },
    {
     "name": "stdout",
     "output_type": "stream",
     "text": [
      "loss:\n",
      "training   (min:    0.057, max:    0.152, cur:    0.057)\n"
     ]
    },
    {
     "ename": "KeyboardInterrupt",
     "evalue": "",
     "output_type": "error",
     "traceback": [
      "\u001b[0;31m---------------------------------------------------------------------------\u001b[0m",
      "\u001b[0;31mKeyboardInterrupt\u001b[0m                         Traceback (most recent call last)",
      "\u001b[0;32m<ipython-input-9-ed51a3c77eca>\u001b[0m in \u001b[0;36m<module>\u001b[0;34m\u001b[0m\n\u001b[0;32m----> 1\u001b[0;31m \u001b[0mtrain\u001b[0m\u001b[0;34m(\u001b[0m\u001b[0mnet\u001b[0m\u001b[0;34m,\u001b[0m \u001b[0mdataloader\u001b[0m\u001b[0;34m)\u001b[0m\u001b[0;34m\u001b[0m\u001b[0;34m\u001b[0m\u001b[0m\n\u001b[0m",
      "\u001b[0;32m<ipython-input-7-ffde04eeaf7f>\u001b[0m in \u001b[0;36mtrain\u001b[0;34m(net, dataloader)\u001b[0m\n\u001b[1;32m     20\u001b[0m \u001b[0;34m\u001b[0m\u001b[0m\n\u001b[1;32m     21\u001b[0m             \u001b[0moptimizer\u001b[0m\u001b[0;34m.\u001b[0m\u001b[0mzero_grad\u001b[0m\u001b[0;34m(\u001b[0m\u001b[0;34m)\u001b[0m\u001b[0;34m\u001b[0m\u001b[0;34m\u001b[0m\u001b[0m\n\u001b[0;32m---> 22\u001b[0;31m             \u001b[0mloss\u001b[0m\u001b[0;34m.\u001b[0m\u001b[0mbackward\u001b[0m\u001b[0;34m(\u001b[0m\u001b[0;34m)\u001b[0m\u001b[0;34m\u001b[0m\u001b[0;34m\u001b[0m\u001b[0m\n\u001b[0m\u001b[1;32m     23\u001b[0m             \u001b[0moptimizer\u001b[0m\u001b[0;34m.\u001b[0m\u001b[0mstep\u001b[0m\u001b[0;34m(\u001b[0m\u001b[0;34m)\u001b[0m\u001b[0;34m\u001b[0m\u001b[0;34m\u001b[0m\u001b[0m\n\u001b[1;32m     24\u001b[0m \u001b[0;34m\u001b[0m\u001b[0m\n",
      "\u001b[0;32m/usr/local/lib/python3.6/dist-packages/torch/tensor.py\u001b[0m in \u001b[0;36mbackward\u001b[0;34m(self, gradient, retain_graph, create_graph)\u001b[0m\n\u001b[1;32m    100\u001b[0m                 \u001b[0mproducts\u001b[0m\u001b[0;34m.\u001b[0m \u001b[0mDefaults\u001b[0m \u001b[0mto\u001b[0m\u001b[0;31m \u001b[0m\u001b[0;31m`\u001b[0m\u001b[0;31m`\u001b[0m\u001b[0;32mFalse\u001b[0m\u001b[0;31m`\u001b[0m\u001b[0;31m`\u001b[0m\u001b[0;34m.\u001b[0m\u001b[0;34m\u001b[0m\u001b[0;34m\u001b[0m\u001b[0m\n\u001b[1;32m    101\u001b[0m         \"\"\"\n\u001b[0;32m--> 102\u001b[0;31m         \u001b[0mtorch\u001b[0m\u001b[0;34m.\u001b[0m\u001b[0mautograd\u001b[0m\u001b[0;34m.\u001b[0m\u001b[0mbackward\u001b[0m\u001b[0;34m(\u001b[0m\u001b[0mself\u001b[0m\u001b[0;34m,\u001b[0m \u001b[0mgradient\u001b[0m\u001b[0;34m,\u001b[0m \u001b[0mretain_graph\u001b[0m\u001b[0;34m,\u001b[0m \u001b[0mcreate_graph\u001b[0m\u001b[0;34m)\u001b[0m\u001b[0;34m\u001b[0m\u001b[0;34m\u001b[0m\u001b[0m\n\u001b[0m\u001b[1;32m    103\u001b[0m \u001b[0;34m\u001b[0m\u001b[0m\n\u001b[1;32m    104\u001b[0m     \u001b[0;32mdef\u001b[0m \u001b[0mregister_hook\u001b[0m\u001b[0;34m(\u001b[0m\u001b[0mself\u001b[0m\u001b[0;34m,\u001b[0m \u001b[0mhook\u001b[0m\u001b[0;34m)\u001b[0m\u001b[0;34m:\u001b[0m\u001b[0;34m\u001b[0m\u001b[0;34m\u001b[0m\u001b[0m\n",
      "\u001b[0;32m/usr/local/lib/python3.6/dist-packages/torch/autograd/__init__.py\u001b[0m in \u001b[0;36mbackward\u001b[0;34m(tensors, grad_tensors, retain_graph, create_graph, grad_variables)\u001b[0m\n\u001b[1;32m     88\u001b[0m     Variable._execution_engine.run_backward(\n\u001b[1;32m     89\u001b[0m         \u001b[0mtensors\u001b[0m\u001b[0;34m,\u001b[0m \u001b[0mgrad_tensors\u001b[0m\u001b[0;34m,\u001b[0m \u001b[0mretain_graph\u001b[0m\u001b[0;34m,\u001b[0m \u001b[0mcreate_graph\u001b[0m\u001b[0;34m,\u001b[0m\u001b[0;34m\u001b[0m\u001b[0;34m\u001b[0m\u001b[0m\n\u001b[0;32m---> 90\u001b[0;31m         allow_unreachable=True)  # allow_unreachable flag\n\u001b[0m\u001b[1;32m     91\u001b[0m \u001b[0;34m\u001b[0m\u001b[0m\n\u001b[1;32m     92\u001b[0m \u001b[0;34m\u001b[0m\u001b[0m\n",
      "\u001b[0;31mKeyboardInterrupt\u001b[0m: "
     ]
    }
   ],
   "source": [
    "train(net, dataloader)"
   ]
  },
  {
   "cell_type": "code",
   "execution_count": 54,
   "metadata": {},
   "outputs": [],
   "source": [
    "torch.save(net.state_dict(), './first_try_pao_tfn.pth')"
   ]
  },
  {
   "cell_type": "code",
   "execution_count": 55,
   "metadata": {},
   "outputs": [],
   "source": [
    "coords, species, prim, mask, xblocks = dataset.__getitem__(0)\n",
    "channels = np.concatenate([species, prim], axis=0) # [S + P, N]\n",
    "coords = torch.from_numpy(coords).unsqueeze(0)\n",
    "channels = torch.from_numpy(channels).unsqueeze(0)  # [2, 6] + [13, 6] = [15, 6]\n",
    "# mask = torch.from_numpy(mask)  # Don't need this for now\n",
    "diff_M = se3cnn.point_utils.difference_matrix(coords)\n",
    "output = net(channels, diff_M)  # [B, C, N]"
   ]
  },
  {
   "cell_type": "code",
   "execution_count": 56,
   "metadata": {},
   "outputs": [
    {
     "data": {
      "text/plain": [
       "1.269823915231498"
      ]
     },
     "execution_count": 56,
     "metadata": {},
     "output_type": "execute_result"
    }
   ],
   "source": [
    "np.max(np.abs(xblocks - output.detach().numpy()))"
   ]
  },
  {
   "cell_type": "code",
   "execution_count": 72,
   "metadata": {},
   "outputs": [],
   "source": [
    "# xblocks.reshape(4, -1, 6)[:, 5, 0]"
   ]
  },
  {
   "cell_type": "code",
   "execution_count": 73,
   "metadata": {},
   "outputs": [],
   "source": [
    "# output.reshape(4, -1, 6)[:, 5, 0]"
   ]
  },
  {
   "cell_type": "code",
   "execution_count": null,
   "metadata": {},
   "outputs": [],
   "source": []
  }
 ],
 "metadata": {
  "kernelspec": {
   "display_name": "Python 3",
   "language": "python",
   "name": "python3"
  },
  "language_info": {
   "codemirror_mode": {
    "name": "ipython",
    "version": 3
   },
   "file_extension": ".py",
   "mimetype": "text/x-python",
   "name": "python",
   "nbconvert_exporter": "python",
   "pygments_lexer": "ipython3",
   "version": "3.6.7"
  }
 },
 "nbformat": 4,
 "nbformat_minor": 2
}
