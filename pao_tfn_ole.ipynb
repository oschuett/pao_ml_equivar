{
 "cells": [
  {
   "cell_type": "code",
   "execution_count": 1,
   "metadata": {},
   "outputs": [],
   "source": [
    "%load_ext autoreload\n",
    "%autoreload 2"
   ]
  },
  {
   "cell_type": "code",
   "execution_count": 2,
   "metadata": {},
   "outputs": [],
   "source": [
    "import torch\n",
    "torch.set_default_dtype(torch.float64)\n",
    "device = torch.device(\"cuda:2\" if torch.cuda.is_available() else \"cpu\")"
   ]
  },
  {
   "cell_type": "code",
   "execution_count": 3,
   "metadata": {},
   "outputs": [],
   "source": [
    "from os import path\n",
    "from glob import glob\n",
    "import numpy as np\n",
    "import matplotlib.pylab as plt\n",
    "\n",
    "from se3cnn.point_utils import difference_matrix\n",
    "from pao_file_utils import parse_pao_file, write_pao_file\n",
    "from pao_tfn_dataset import encode_kind\n",
    "from pao_tfn_trainer import train_pao_tfn, loss_function\n",
    "from cp2k_file_utils import read_energy"
   ]
  },
  {
   "cell_type": "code",
   "execution_count": 4,
   "metadata": {},
   "outputs": [],
   "source": [
    "# Load training data and hard code metadata.\n",
    "pao_files = sorted(glob(\"2H2O_MD/frame_*/2H2O_pao44-1_0.pao\"))\n",
    "\n",
    "prim_basis_shells = {\n",
    "    'H': [2, 1, 0], # two s-shells, one p-shell, no d-shells\n",
    "    'O': [2, 2, 1], # two s-shells, two p-shells, one d-shell\n",
    "}\n",
    "\n",
    "pao_basis_size = 4"
   ]
  },
  {
   "cell_type": "code",
   "execution_count": 5,
   "metadata": {},
   "outputs": [
    {
     "name": "stdout",
     "output_type": "stream",
     "text": [
      "Training NN for kind H using 40 samples.\n",
      "Epoch:     0  Loss: 1.9293e-01\n",
      "Epoch:    20  Loss: 1.5379e-02\n",
      "Epoch:    40  Loss: 5.6790e-03\n",
      "Epoch:    60  Loss: 4.1412e-03\n",
      "Epoch:    80  Loss: 2.3343e-03\n",
      "Epoch:   100  Loss: 1.5219e-03\n",
      "Epoch:   120  Loss: 1.3653e-03\n",
      "Epoch:   140  Loss: 1.3869e-03\n",
      "Epoch:   160  Loss: 1.8025e-03\n",
      "Epoch:   180  Loss: 4.6198e-04\n",
      "Epoch:   200  Loss: 3.5138e-04\n",
      "Training NN for kind O using 20 samples.\n",
      "Epoch:     0  Loss: 7.6501e-02\n",
      "Epoch:    20  Loss: 3.1888e-03\n",
      "Epoch:    40  Loss: 1.0912e-04\n",
      "Epoch:    60  Loss: 4.5908e-05\n",
      "Epoch:    80  Loss: 3.3086e-05\n",
      "Epoch:   100  Loss: 2.8310e-05\n",
      "Epoch:   120  Loss: 1.8861e-05\n",
      "Epoch:   140  Loss: 1.5635e-05\n",
      "Epoch:   160  Loss: 3.1965e-05\n",
      "Epoch:   180  Loss: 1.6162e-05\n",
      "Epoch:   200  Loss: 7.5901e-06\n"
     ]
    }
   ],
   "source": [
    "# Use the first few frames to train networks for Hydrogen and Oxygen.\n",
    "train_params = dict(\n",
    "    prim_basis_shells=prim_basis_shells,\n",
    "    pao_basis_size=pao_basis_size,\n",
    "    pao_files=pao_files[:10],  # number of frames used as training data\n",
    "    num_hidden=1,              # number of hidden layers\n",
    "    max_epochs=201,            # number of training epochs\n",
    ")\n",
    "\n",
    "net_H = train_pao_tfn(**train_params, kind_name=\"H\")\n",
    "net_O = train_pao_tfn(**train_params, kind_name=\"O\")"
   ]
  },
  {
   "cell_type": "code",
   "execution_count": 6,
   "metadata": {},
   "outputs": [
    {
     "data": {
      "image/png": "[encoded data removed]",
      "text/plain": [
       "<Figure size 432x288 with 1 Axes>"
      ]
     },
     "metadata": {
      "needs_background": "light"
     },
     "output_type": "display_data"
    }
   ],
   "source": [
    "# Use the trained networks to inferre xblocks for all frames and calc their loss.\n",
    "losses = []\n",
    "\n",
    "for fn in pao_files:\n",
    "    kinds, atom2kind, coords, xblocks = parse_pao_file(fn)\n",
    "    kind_onehot = encode_kind(atom2kind)\n",
    "    natoms = coords.shape[0]\n",
    "    losses.append(0.0)\n",
    "    xblocks_inferred = []\n",
    "    for iatom in range(natoms):\n",
    "        kind_onehot_torch = torch.as_tensor(kind_onehot)[None,...]\n",
    "        coords_torch = torch.as_tensor(coords)[None,...]\n",
    "        diff_M = difference_matrix(coords_torch)\n",
    "        if atom2kind[iatom] == \"H\":\n",
    "            output_net = net_H(kind_onehot_torch, diff_M)\n",
    "        elif atom2kind[iatom] == \"O\":\n",
    "            output_net = net_O(kind_onehot_torch, diff_M)\n",
    "        xblock_net = output_net[...,iatom]\n",
    "        xblocks_inferred.append(xblock_net.detach().numpy()[0,...])\n",
    "        loss = loss_function(xblock_net, torch.as_tensor(xblocks[iatom][None,...]))\n",
    "        losses[-1] += loss.item() / natoms\n",
    "    fn_inferred = path.dirname(fn) + \"/inferred.pao\"\n",
    "    write_pao_file(fn_inferred, kinds, atom2kind, coords, xblocks_inferred)\n",
    "\n",
    "plt.xlabel(\"Frame\")\n",
    "plt.ylabel(\"Loss\")\n",
    "plt.yscale('log')\n",
    "plt.plot(losses);"
   ]
  },
  {
   "cell_type": "code",
   "execution_count": 7,
   "metadata": {},
   "outputs": [
    {
     "name": "stdout",
     "output_type": "stream",
     "text": [
      "Frame: 0 Dir: 2H2O_MD/frame_0000 Loss: 2.0314e-04 Energy-diff: 2.0269e-04 Hartree\n",
      "Frame: 1 Dir: 2H2O_MD/frame_0025 Loss: 2.1587e-04 Energy-diff: 1.4332e-04 Hartree\n",
      "Frame: 2 Dir: 2H2O_MD/frame_0050 Loss: 2.9522e-04 Energy-diff: 1.0279e-04 Hartree\n",
      "Frame: 3 Dir: 2H2O_MD/frame_0075 Loss: 4.0869e-04 Energy-diff: 2.1890e-04 Hartree\n",
      "Frame: 4 Dir: 2H2O_MD/frame_0100 Loss: 1.0548e-04 Energy-diff: 1.9513e-04 Hartree\n",
      "Frame: 5 Dir: 2H2O_MD/frame_0125 Loss: 1.7247e-04 Energy-diff: 3.5048e-04 Hartree\n",
      "Frame: 6 Dir: 2H2O_MD/frame_0150 Loss: 2.0432e-04 Energy-diff: 2.3278e-04 Hartree\n",
      "Frame: 7 Dir: 2H2O_MD/frame_0175 Loss: 1.2771e-04 Energy-diff: 2.4107e-04 Hartree\n",
      "Frame: 8 Dir: 2H2O_MD/frame_0200 Loss: 1.6585e-04 Energy-diff: 3.2508e-04 Hartree\n",
      "Frame: 9 Dir: 2H2O_MD/frame_0225 Loss: 1.7653e-04 Energy-diff: 2.0421e-04 Hartree\n",
      "Frame: 10 Dir: 2H2O_MD/frame_0250 Loss: 1.2261e-03 Energy-diff: 6.0252e-04 Hartree\n",
      "Frame: 11 Dir: 2H2O_MD/frame_0275 Loss: 3.4890e-03 Energy-diff: 1.0070e-03 Hartree\n",
      "Frame: 12 Dir: 2H2O_MD/frame_0300 Loss: 7.0548e-03 Energy-diff: 1.2196e-03 Hartree\n",
      "Frame: 13 Dir: 2H2O_MD/frame_0325 Loss: 9.2093e-03 Energy-diff: 1.4104e-03 Hartree\n",
      "Frame: 14 Dir: 2H2O_MD/frame_0350 Loss: 1.4393e-02 Energy-diff: 1.6858e-03 Hartree\n",
      "Frame: 15 Dir: 2H2O_MD/frame_0375 Loss: 1.3427e-02 Energy-diff: 1.4132e-03 Hartree\n",
      "Frame: 16 Dir: 2H2O_MD/frame_0400 Loss: 1.3731e-02 Energy-diff: 1.3703e-03 Hartree\n",
      "Frame: 17 Dir: 2H2O_MD/frame_0425 Loss: 1.4655e-02 Energy-diff: 1.8023e-03 Hartree\n",
      "Frame: 18 Dir: 2H2O_MD/frame_0450 Loss: 9.5921e-03 Energy-diff: 2.5664e-03 Hartree\n",
      "Frame: 19 Dir: 2H2O_MD/frame_0475 Loss: 8.2175e-03 Energy-diff: 4.7445e-03 Hartree\n"
     ]
    }
   ],
   "source": [
    "# Run CP2K on a few of the inferred frames. DFT Energy difference below 1 milliHartree would be nice.\n",
    "verify_frames = range(20)\n",
    "\n",
    "for iframe in verify_frames:\n",
    "    frame_dir = path.dirname(pao_files[iframe])\n",
    "    ! cd $frame_dir; /opt/cp2k/exe/local/cp2k.ssmp -i 2H2O_pao44_inferred.inp > 2H2O_pao44_inferred.out\n",
    "    pao_energy = read_energy(frame_dir+\"/2H2O_pao44.out\")\n",
    "    pao_ml_energy = read_energy(frame_dir+\"/2H2O_pao44_inferred.out\")\n",
    "    energy_diff = pao_ml_energy - pao_energy\n",
    "    tmpl = \"Frame: {} Dir: {} Loss: {:0.4e} Energy-diff: {:0.4e} Hartree\"\n",
    "    print(tmpl.format(iframe, frame_dir, losses[iframe], energy_diff))"
   ]
  },
  {
   "cell_type": "code",
   "execution_count": null,
   "metadata": {},
   "outputs": [],
   "source": []
  }
 ],
 "metadata": {
  "kernelspec": {
   "display_name": "Python 3",
   "language": "python",
   "name": "python3"
  },
  "language_info": {
   "codemirror_mode": {
    "name": "ipython",
    "version": 3
   },
   "file_extension": ".py",
   "mimetype": "text/x-python",
   "name": "python",
   "nbconvert_exporter": "python",
   "pygments_lexer": "ipython3",
   "version": "3.6.7"
  }
 },
 "nbformat": 4,
 "nbformat_minor": 2
}
