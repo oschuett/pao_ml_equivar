{
 "cells": [
  {
   "cell_type": "code",
   "execution_count": 1,
   "metadata": {},
   "outputs": [],
   "source": [
    "%load_ext autoreload\n",
    "%autoreload 2"
   ]
  },
  {
   "cell_type": "code",
   "execution_count": 6,
   "metadata": {},
   "outputs": [],
   "source": [
    "import torch\n",
    "torch.set_default_dtype(torch.float64)\n",
    "device = torch.device(\"cuda:2\" if torch.cuda.is_available() else \"cpu\")"
   ]
  },
  {
   "cell_type": "code",
   "execution_count": 7,
   "metadata": {},
   "outputs": [],
   "source": [
    "from os import path\n",
    "from glob import glob\n",
    "import numpy as np\n",
    "import matplotlib.pylab as plt\n",
    "\n",
    "from se3cnn.point_utils import difference_matrix\n",
    "from pao_file_utils import parse_pao_file, write_pao_file\n",
    "from pao_tfn_dataset import encode_kind\n",
    "from pao_tfn_trainer import train_pao_tfn, loss_function\n",
    "from cp2k_file_utils import read_energy"
   ]
  },
  {
   "cell_type": "code",
   "execution_count": 8,
   "metadata": {},
   "outputs": [],
   "source": [
    "# Load training data and hard code metadata.\n",
    "pao_files = sorted(glob(\"2H2O_MD/frame_*/2H2O_pao44-1_0.pao\"))\n",
    "\n",
    "prim_basis_shells = {\n",
    "    'H': [2, 1, 0], # two s-shells, one p-shell, no d-shells\n",
    "    'O': [2, 2, 1], # two s-shells, two p-shells, one d-shell\n",
    "}\n",
    "\n",
    "pao_basis_size = 4"
   ]
  },
  {
   "cell_type": "code",
   "execution_count": 20,
   "metadata": {},
   "outputs": [
    {
     "name": "stdout",
     "output_type": "stream",
     "text": [
      "Training NN for kind H using 4 samples.\n",
      "Epoch: 0  Loss: 0.199926\n",
      "Epoch: 20  Loss: 0.111928\n",
      "Epoch: 40  Loss: 0.0914849\n",
      "Epoch: 60  Loss: 0.0452161\n",
      "Epoch: 80  Loss: 0.0123252\n",
      "Training NN for kind O using 2 samples.\n",
      "Epoch: 0  Loss: 0.0769081\n",
      "Epoch: 20  Loss: 0.0514195\n",
      "Epoch: 40  Loss: 0.0219114\n",
      "Epoch: 60  Loss: 0.00311472\n",
      "Epoch: 80  Loss: 0.000218142\n"
     ]
    }
   ],
   "source": [
    "# Use the first few frames to train networks for Hydrogen and Oxygen.\n",
    "train_params = dict(\n",
    "    prim_basis_shells=prim_basis_shells,\n",
    "    pao_basis_size=pao_basis_size,\n",
    "    pao_files=pao_files[:1],  # number of frames used as training data\n",
    "    num_hidden=1,  # number of hidden layers\n",
    "    max_epochs=100,  # number of training epochs\n",
    ")\n",
    "\n",
    "net_H = train_pao_tfn(**train_params, kind_name=\"H\")\n",
    "net_O = train_pao_tfn(**train_params, kind_name=\"O\")"
   ]
  },
  {
   "cell_type": "code",
   "execution_count": 22,
   "metadata": {},
   "outputs": [
    {
     "data": {
      "image/png": "[encoded data removed]",
      "text/plain": [
       "<Figure size 432x288 with 1 Axes>"
      ]
     },
     "metadata": {
      "needs_background": "light"
     },
     "output_type": "display_data"
    }
   ],
   "source": [
    "# Use the trained networks to inferre xblocks for all frames and calc their loss.\n",
    "xblocks_inferred = []\n",
    "losses = []\n",
    "\n",
    "for fn in pao_files:\n",
    "    kinds, atom2kind, coords, xblocks = parse_pao_file(fn)\n",
    "    kind_onehot = encode_kind(atom2kind)\n",
    "    natoms = coords.shape[0]\n",
    "    losses.append(0.0)\n",
    "    xblocks_inferred.append([])\n",
    "    for iatom in range(natoms):\n",
    "        kind_onehot_torch = torch.as_tensor(kind_onehot[None,...])\n",
    "        coords_torch = torch.as_tensor(coords[None,...])\n",
    "        diff_M = difference_matrix(coords_torch)\n",
    "        if atom2kind[iatom] == \"H\":\n",
    "            output_net = net_H(kind_onehot_torch, diff_M)\n",
    "            xblock_net = net_H.decode_xblock(output_net[0,:,0])\n",
    "        elif atom2kind[iatom] == \"O\":\n",
    "            output_net = net_O(kind_onehot_torch, diff_M)\n",
    "            xblock_net = net_O.decode_xblock(output_net[0,:,iatom])\n",
    "        xblocks_inferred[-1].append(xblock_net.detach().numpy())\n",
    "        loss = loss_function(xblock_net, torch.as_tensor(xblocks[iatom])) / natoms\n",
    "        losses[-1] += loss.item()\n",
    "\n",
    "plt.xlabel(\"Frame\")\n",
    "plt.ylabel(\"Loss\")\n",
    "plt.plot(losses);"
   ]
  },
  {
   "cell_type": "code",
   "execution_count": 7,
   "metadata": {},
   "outputs": [
    {
     "name": "stdout",
     "output_type": "stream",
     "text": [
      "Working on: 2H2O_MD/frame_0000/2H2O_pao44-1_0.pao\n",
      "Loss: 5.10554e-06 Energy-diff: 7.28263e-05 Hartree\n",
      "\n",
      "Working on: 2H2O_MD/frame_0025/2H2O_pao44-1_0.pao\n",
      "Loss: 8.89534e-06 Energy-diff: 7.73257e-05 Hartree\n",
      "\n",
      "Working on: 2H2O_MD/frame_0050/2H2O_pao44-1_0.pao\n",
      "Loss: 0.00152929 Energy-diff: 0.00194181 Hartree\n",
      "\n",
      "Working on: 2H2O_MD/frame_0075/2H2O_pao44-1_0.pao\n",
      "Loss: 0.00585866 Energy-diff: 0.00594532 Hartree\n",
      "\n",
      "Working on: 2H2O_MD/frame_0100/2H2O_pao44-1_0.pao\n",
      "Loss: 0.0104333 Energy-diff: 0.0102591 Hartree\n",
      "\n",
      "Working on: 2H2O_MD/frame_0250/2H2O_pao44-1_0.pao\n",
      "Loss: 0.0307013 Energy-diff: 0.06961 Hartree\n",
      "\n",
      "Working on: 2H2O_MD/frame_0500/2H2O_pao44-1_0.pao\n",
      "Loss: 0.0106711 Energy-diff: 0.0195768 Hartree\n",
      "\n"
     ]
    }
   ],
   "source": [
    "# Run CP2K on a few of the inferred frames. DFT Energy difference below 1 milliHartree would be nice.\n",
    "verify_frames = (0, 1, 2, 3, 4, 10, 20)\n",
    "\n",
    "for iframe, fn in enumerate(pao_files):\n",
    "    if iframe not in verify_frames:\n",
    "        continue\n",
    "    print(\"Working on: \"+fn)\n",
    "    kinds, atom2kind, coords, xblocks = parse_pao_file(fn)\n",
    "    frame_dir = path.dirname(fn)\n",
    "    fn_inferred = frame_dir + \"/inferred.pao\"\n",
    "    write_pao_file(fn_inferred, kinds, atom2kind, coords, xblocks_inferred[iframe])\n",
    "    ! cd $frame_dir; /opt/cp2k/exe/local/cp2k.ssmp -i 2H2O_pao44_inferred.inp > 2H2O_pao44_inferred.out\n",
    "    pao_energy = read_energy(frame_dir+\"/2H2O_pao44.out\")\n",
    "    pao_ml_energy = read_energy(frame_dir+\"/2H2O_pao44_inferred.out\")\n",
    "    print(\"Loss: {:g} Energy-diff: {:g} Hartree\\n\".format(losses[iframe], pao_ml_energy - pao_energy))"
   ]
  }
 ],
 "metadata": {
  "kernelspec": {
   "display_name": "Python 3",
   "language": "python",
   "name": "python3"
  },
  "language_info": {
   "codemirror_mode": {
    "name": "ipython",
    "version": 3
   },
   "file_extension": ".py",
   "mimetype": "text/x-python",
   "name": "python",
   "nbconvert_exporter": "python",
   "pygments_lexer": "ipython3",
   "version": "3.6.7"
  }
 },
 "nbformat": 4,
 "nbformat_minor": 2
}
