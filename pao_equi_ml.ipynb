{
 "cells": [
  {
   "cell_type": "markdown",
   "metadata": {},
   "source": [
    "# PAO-EquiML"
   ]
  },
  {
   "cell_type": "code",
   "execution_count": 1,
   "metadata": {},
   "outputs": [],
   "source": [
    "import logging\n",
    "import torch\n",
    "import numpy as np\n",
    "from matplotlib import pyplot as plt\n",
    "from matplotlib import colormaps\n",
    "#from torch_cluster import radius_graph\n",
    "#from torch_geometric.data import Data, DataLoader\n",
    "from torch_scatter import scatter\n",
    "from torch.utils.data import Dataset, DataLoader\n",
    "\n",
    "from e3nn import o3\n",
    "from e3nn.nn import FullyConnectedNet, Gate, models\n",
    "from e3nn.o3 import FullyConnectedTensorProduct\n",
    "from e3nn.math import soft_one_hot_linspace\n",
    "from e3nn.util.test import assert_equivariant\n",
    "\n",
    "from pathlib import Path\n",
    "from pao_file_utils import parse_pao_file, append_samples, write_pao_file, read_cp2k_energy\n",
    "\n",
    "t = torch.tensor"
   ]
  },
  {
   "cell_type": "code",
   "execution_count": 7,
   "metadata": {},
   "outputs": [],
   "source": [
    "change_of_coord = t([\n",
    "    # this specifies the change of basis yzx -> xyz\n",
    "    [0., 0., 1.],\n",
    "    [1., 0., 0.],\n",
    "    [0., 1., 0.]\n",
    "])\n",
    "prim_basis_specs = {\n",
    "    \"O\": \"2x0e + 2x1o + 1x2e\", # DZVP-MOLOPT-GTH for Oxygen: two s-shells, two p-shells, one d-shell\n",
    "    \"H\": \"2x0e + 1x1o\" # DZVP-MOLOPT-GTH for Hydrogen: two s-shells, one p-shell\n",
    "}\n",
    "pao_basis_size = 4"
   ]
  },
  {
   "cell_type": "code",
   "execution_count": 3,
   "metadata": {},
   "outputs": [],
   "source": [
    "class PAO_Object:\n",
    "    def __init__(self, kind, atomkind, coords, xblock):\n",
    "        self.kind = kind\n",
    "        self.atomkind = atomkind\n",
    "        self.coords = coords\n",
    "        self.xblock = xblock\n",
    "        self.label = xblock.T @ torch.inverse(xblock @ xblock.T) @ xblock\n",
    "        #U, S, Vh = torch.linalg.svd(xblock, full_matrices=False)\n",
    "        #self.label = Vh\n",
    "\n",
    "class PAO_dataset(Dataset):\n",
    "    def __init__(self, pao_objects):\n",
    "        self.labels = [pao_object.label for pao_object in pao_objects]\n",
    "        self.atomkinds = [generate_f_in(pao_object) for pao_object in pao_objects]\n",
    "        self.coords = [pao_object.coords for pao_object in pao_objects]\n",
    "\n",
    "    def __len__(self):\n",
    "        return len(self.labels)\n",
    "\n",
    "    def __getitem__(self, idx):\n",
    "        coords = self.coords[idx]\n",
    "        label = self.labels[idx]\n",
    "        atomkind = self.atomkinds[idx]\n",
    "        return coords, atomkind, label"
   ]
  },
  {
   "cell_type": "code",
   "execution_count": 4,
   "metadata": {},
   "outputs": [],
   "source": [
    "def parse_pao_file_torch(path: Path):\n",
    "    kinds, atom2kind, coords, xblocks = parse_pao_file(path)\n",
    "    return kinds, atom2kind, t(coords, dtype=torch.float32), [t(x, dtype=torch.float32) for x in xblocks]\n",
    "\n",
    "# Remove central atom and create PAO object from PAO file\n",
    "def generate_pao_object_from_file(file_path):\n",
    "    pao_objects = []\n",
    "    kinds, atom2kind, coords, xblocks = parse_pao_file_torch(file_path)\n",
    "    for idx, atom in enumerate(atom2kind):\n",
    "#        coords = torch.roll(coords, -1, 1)\n",
    "        rel_coords = coords - coords[idx]\n",
    "        idxs = list(range(len(atom2kind)))\n",
    "        idxs.pop(idx)\n",
    "        pao_objects.append(PAO_Object(kinds[atom], [atom2kind[atom] for atom in idxs], rel_coords[idxs], xblocks[idx]))\n",
    "    return pao_objects"
   ]
  },
  {
   "cell_type": "code",
   "execution_count": 5,
   "metadata": {},
   "outputs": [],
   "source": [
    "def generate_irreps_output(pao_basis_size, atom_species):\n",
    "    prim_basis_specs = {\n",
    "    \"O\": \"2x0e + 2x1o + 1x2e\", # DZVP-MOLOPT-GTH for Oxygen: two s-shells, two p-shells, one d-shell\n",
    "    \"H\": \"2x0e + 1x1o\" # DZVP-MOLOPT-GTH for Hydrogen: two s-shells, one p-shell\n",
    "    }\n",
    "    prim_basis_spec = prim_basis_specs[atom_species]\n",
    "    prim_basis_size = o3.Irreps(prim_basis_spec).dim\n",
    "    irreps_output = o3.Irreps(\" + \".join(pao_basis_size*[prim_basis_spec]))\n",
    "    return irreps_output"
   ]
  },
  {
   "cell_type": "code",
   "execution_count": 8,
   "metadata": {},
   "outputs": [],
   "source": [
    "pao_objects = []\n",
    "#for phi in [\"00\"]:\n",
    "#    pao_objects.extend(generate_pao_object_from_file(Path(f\"2H2O_rotations/phi_{phi}/2H2O_pao44-1_0.pao\")))\n",
    "pao_objects.extend(generate_pao_object_from_file(Path(f\"2H2O_rotations/phi_00/2H2O_pao44-1_0.pao\")))\n",
    "pao_objects_O = [pao_object for pao_object in pao_objects if pao_object.kind.atomic_number==8]\n",
    "pao_objects_H = [pao_object for pao_object in pao_objects if pao_object.kind.atomic_number==1]\n",
    "kinds, atom2kind, coords, _ = parse_pao_file_torch(Path(\"2H2O_rotations/phi_00/2H2O_pao44-1_0.pao\"))\n",
    "\n",
    "# Irreps Input\n",
    "irreps_input = o3.Irreps(\"2x0e\") # features: is_hydrogen, is_oxygen\n",
    "\n",
    "# Irreps Spherical Harmonics\n",
    "irreps_sh = o3.Irreps.spherical_harmonics(lmax=3)"
   ]
  },
  {
   "cell_type": "code",
   "execution_count": 9,
   "metadata": {},
   "outputs": [
    {
     "name": "stdout",
     "output_type": "stream",
     "text": [
      "2\n",
      "2x0e+2x1o+1x2e+2x0e+2x1o+1x2e+2x0e+2x1o+1x2e+2x0e+2x1o+1x2e\n",
      "4\n",
      "2x0e+1x1o+2x0e+1x1o+2x0e+1x1o+2x0e+1x1o\n"
     ]
    }
   ],
   "source": [
    "print(len(pao_objects_O))\n",
    "print(generate_irreps_output(4,\"O\"))\n",
    "print(len(pao_objects_H))\n",
    "print(generate_irreps_output(4,\"H\"))"
   ]
  },
  {
   "cell_type": "code",
   "execution_count": 10,
   "metadata": {},
   "outputs": [],
   "source": [
    "# Preprocessing, model, and loss functions.\n",
    "max_radius = 4\n",
    "num_neighbours=5\n",
    "\n",
    "def edge_vec(coords):\n",
    "    assert coords.shape[0] == num_neighbors\n",
    "    return coords\n",
    "\n",
    "def normalize(xblock):\n",
    "    return xblock / torch.norm(xblock, dim=1)[:,None]\n",
    "\n",
    "def labelfy(xblock):\n",
    "    # The loss_functions requires orthonormal labels.\n",
    "    U, S, Vh = torch.linalg.svd(xblock, full_matrices=False)\n",
    "    return Vh\n",
    "\n",
    "def generate_f_in(pao_object):  \n",
    "    f_in = t([(k==\"H\", k==\"O\") for k in pao_object.atomkind], dtype=torch.float32)\n",
    "    return f_in\n",
    "\n",
    "def regularization(label):\n",
    "    return 0.1 * (1 - torch.norm(label, dim=1)).pow(2).sum()\n",
    "\n",
    "def loss_function_1(pred, label):\n",
    "    loss = torch.sum(torch.sum((pred - label).pow(2), dim=2), dim=1).mean()\n",
    "    return loss\n",
    "\n",
    "def loss_function_2(pred, label):\n",
    "    pred_projector = torch.bmm(torch.transpose(pred, dim0=1, dim1=2), pred)\n",
    "    label_projector = torch.bmm(torch.transpose(label, dim0=1, dim1=2), label)\n",
    "    residual = pred_projector - label_projector\n",
    "#    return residual.pow(2).sum() + regularization(pred)\n",
    "#    return torch.sum(torch.sum(residual.pow(2), dim=2), dim=1).mean()\n",
    "#    return torch.sum(torch.sum(residual.pow(2), dim=2), dim=1).mean()\n",
    "#    return residual.abs().mean()\n",
    "    return residual.pow(2).mean()"
   ]
  },
  {
   "cell_type": "code",
   "execution_count": 22,
   "metadata": {},
   "outputs": [],
   "source": [
    "def model_O(edge_vec, f_in):\n",
    "    sh = o3.spherical_harmonics(irreps_sh, edge_vec, normalize=True, normalization='component')\n",
    "    emb = soft_one_hot_linspace(edge_vec.norm(dim=2), 0.0, max_radius, num_distances,\n",
    "                                basis='smooth_finite', cutoff=True).mul(num_distances**0.5)\n",
    "    flat_xyz = tp_O(f_in, sh, fc_O(emb)).sum(dim=1).div(num_neighbours**0.5)\n",
    "    flat_yzx = torch.matmul(flat_xyz, D_O)\n",
    "    return flat_yzx.reshape(batch_size, pao_basis_size, prim_basis_size)"
   ]
  },
  {
   "cell_type": "code",
   "execution_count": 23,
   "metadata": {},
   "outputs": [
    {
     "name": "stderr",
     "output_type": "stream",
     "text": [
      "/data/vdella/software/anaconda3/envs/e3nn/lib/python3.12/site-packages/torch/jit/_check.py:178: UserWarning: The TorchScript type system doesn't support instance-level annotations on empty non-base types in `__init__`. Instead, either 1) use a type annotation in the class body, or 2) wrap the type in `torch.jit.Attribute`.\n",
      "  warnings.warn(\n"
     ]
    }
   ],
   "source": [
    "tp_O = o3.FullyConnectedTensorProduct(irreps_input, irreps_sh, generate_irreps_output(4, \"O\"), shared_weights=False)"
   ]
  },
  {
   "cell_type": "code",
   "execution_count": 24,
   "metadata": {},
   "outputs": [
    {
     "name": "stdout",
     "output_type": "stream",
     "text": [
      "Oxygen, Number of parameters:  800\n"
     ]
    }
   ],
   "source": [
    "# Perceptron\n",
    "num_distances = 10\n",
    "num_layers = 16\n",
    "fc_O = FullyConnectedNet([num_distances, num_layers, tp_O.weight_numel], torch.relu)\n",
    "print(\"Oxygen, Number of parameters: \", sum(p.numel() for p in fc_O.parameters()))"
   ]
  },
  {
   "cell_type": "code",
   "execution_count": 25,
   "metadata": {},
   "outputs": [],
   "source": [
    "batch_size = 2\n",
    "dataset_O = PAO_dataset(pao_objects_O)\n",
    "training_loader_O = DataLoader(dataset_O, batch_size=batch_size, shuffle=True)\n",
    "prim_basis_spec = prim_basis_specs[\"O\"]\n",
    "prim_basis_size = o3.Irreps(prim_basis_spec).dim\n",
    "irreps_output = o3.Irreps(\" + \".join(pao_basis_size*[prim_basis_spec]))\n",
    "D_O = irreps_output.D_from_matrix(change_of_coord)"
   ]
  },
  {
   "cell_type": "code",
   "execution_count": 26,
   "metadata": {},
   "outputs": [
    {
     "name": "stdout",
     "output_type": "stream",
     "text": [
      "training     0 | loss 1.61607277e+00\n",
      "training  1000 | loss 1.54349096e-02\n",
      "training  2000 | loss 1.02250380e-02\n",
      "training  3000 | loss 6.83666253e-03\n",
      "training  4000 | loss 6.13324670e-03\n",
      "training  5000 | loss 6.01068558e-03\n",
      "training  6000 | loss 5.97839477e-03\n",
      "training  7000 | loss 5.96207706e-03\n",
      "training  8000 | loss 5.95002901e-03\n",
      "training  9000 | loss 5.94040751e-03\n",
      "training 10000 | loss 5.93343005e-03\n",
      "training 11000 | loss 5.92907844e-03\n",
      "training 12000 | loss 5.92637993e-03\n",
      "training 13000 | loss 5.92453964e-03\n",
      "training 14000 | loss 5.92321344e-03\n",
      "training 15000 | loss 5.92202274e-03\n",
      "training 16000 | loss 5.92081714e-03\n",
      "training 17000 | loss 5.91920828e-03\n",
      "training 18000 | loss 5.91744250e-03\n",
      "training 19000 | loss 5.91576053e-03\n",
      "training 20000 | loss 5.91385597e-03\n",
      "training 21000 | loss 5.91112487e-03\n",
      "training 22000 | loss 5.90607803e-03\n",
      "training 23000 | loss 5.89450449e-03\n",
      "training 24000 | loss 5.86366188e-03\n",
      "training 25000 | loss 5.78642963e-03\n",
      "training 26000 | loss 5.62995858e-03\n",
      "training 27000 | loss 5.31173451e-03\n",
      "training 28000 | loss 4.76745190e-03\n",
      "training 29000 | loss 4.05926676e-03\n",
      "training 30000 | loss 3.38427769e-03\n",
      "training 31000 | loss 3.01280711e-03\n",
      "training 32000 | loss 2.92025646e-03\n",
      "training 33000 | loss 2.90894555e-03\n",
      "training 34000 | loss 2.90527614e-03\n",
      "training 35000 | loss 2.90094269e-03\n",
      "training 36000 | loss 2.89602368e-03\n",
      "training 37000 | loss 2.88706063e-03\n",
      "training 38000 | loss 2.87620910e-03\n",
      "training 39000 | loss 2.86387349e-03\n",
      "training 40000 | loss 2.84927711e-03\n",
      "training 41000 | loss 2.80623860e-03\n",
      "training 42000 | loss 2.76871142e-03\n",
      "training 43000 | loss 2.72948341e-03\n",
      "training 44000 | loss 2.68627563e-03\n",
      "training 45000 | loss 2.63811811e-03\n",
      "training 46000 | loss 2.58445251e-03\n",
      "training 47000 | loss 2.52417824e-03\n",
      "training 48000 | loss 2.45720334e-03\n",
      "training 49000 | loss 2.38221418e-03\n",
      "training 50000 | loss 2.29889224e-03\n",
      "training 51000 | loss 2.20857747e-03\n",
      "training 52000 | loss 2.11647921e-03\n",
      "training 53000 | loss 2.01749778e-03\n",
      "training 54000 | loss 1.91365136e-03\n",
      "training 55000 | loss 1.80430152e-03\n",
      "training 56000 | loss 1.69134315e-03\n",
      "training 57000 | loss 1.57531095e-03\n",
      "training 58000 | loss 1.45771832e-03\n",
      "training 59000 | loss 1.33657397e-03\n",
      "training 60000 | loss 1.21673767e-03\n",
      "training 61000 | loss 1.09762372e-03\n",
      "training 62000 | loss 9.82203637e-04\n",
      "training 63000 | loss 8.71778349e-04\n",
      "training 64000 | loss 7.65265548e-04\n",
      "training 65000 | loss 6.63703599e-04\n",
      "training 66000 | loss 5.68456308e-04\n",
      "training 67000 | loss 4.79512062e-04\n",
      "training 68000 | loss 3.98427481e-04\n",
      "training 69000 | loss 3.25794535e-04\n",
      "training 70000 | loss 2.60785455e-04\n",
      "training 71000 | loss 2.03286254e-04\n",
      "training 72000 | loss 1.56152702e-04\n",
      "training 73000 | loss 1.17269694e-04\n",
      "training 74000 | loss 8.53808306e-05\n",
      "training 75000 | loss 6.14907112e-05\n",
      "training 76000 | loss 4.46725171e-05\n",
      "training 77000 | loss 3.24042776e-05\n",
      "training 78000 | loss 2.40307763e-05\n",
      "training 79000 | loss 1.87233236e-05\n",
      "training 80000 | loss 1.52810826e-05\n",
      "training 81000 | loss 1.30912504e-05\n",
      "training 82000 | loss 1.28831407e-05\n",
      "training 83000 | loss 1.08057293e-05\n",
      "training 84000 | loss 9.74440718e-06\n",
      "training 85000 | loss 8.97675091e-06\n",
      "training 86000 | loss 8.34019920e-06\n",
      "training 87000 | loss 1.10373503e-05\n",
      "training 88000 | loss 8.35893388e-06\n",
      "training 89000 | loss 7.52396090e-06\n",
      "training 90000 | loss 7.04075546e-06\n",
      "training 91000 | loss 6.77007802e-06\n",
      "training 92000 | loss 6.60914156e-06\n",
      "training 93000 | loss 6.37494577e-06\n",
      "training 94000 | loss 6.12656731e-06\n",
      "training 95000 | loss 5.93215373e-06\n",
      "training 96000 | loss 5.89978799e-06\n",
      "training 97000 | loss 5.64525908e-06\n",
      "training 98000 | loss 5.49675133e-06\n",
      "training 99000 | loss 5.44603517e-06\n",
      "training 100000 | loss 5.22079790e-06\n"
     ]
    }
   ],
   "source": [
    "# Train the model.\n",
    "optim = torch.optim.Adam(fc_O.parameters(), lr=1e-3)\n",
    "train_loss = []\n",
    "\n",
    "#for step in range(10001):\n",
    "#    edge_vecs, atomkinds, label = next(iter(training_loader_O))\n",
    "#    pred = model_O(edge_vecs, atomkinds)\n",
    "#    loss = loss_function_1(pred, label)\n",
    "#    optim.zero_grad()\n",
    "#    loss.backward()\n",
    "#    optim.step()\n",
    "#    if step % 1000 == 0:\n",
    "#        print(f\"warm up  {step:5d} | loss {loss:.8e}\")\n",
    "\n",
    "for step in range(100001): \n",
    "    edge_vecs, atomkinds, label = next(iter(training_loader_O))\n",
    "    pred = model_O(edge_vecs, atomkinds)\n",
    "    loss = loss_function_2(pred, label)\n",
    "    optim.zero_grad()\n",
    "    loss.backward()\n",
    "    optim.step()\n",
    "    if step % 1000 == 0:\n",
    "        train_loss.append(loss.detach())\n",
    "        print(f\"training {step:5d} | loss {loss:.8e}\")"
   ]
  },
  {
   "cell_type": "code",
   "execution_count": 27,
   "metadata": {},
   "outputs": [
    {
     "data": {
      "image/png": "[encoded data removed]",
      "text/plain": [
       "<Figure size 640x480 with 1 Axes>"
      ]
     },
     "metadata": {},
     "output_type": "display_data"
    }
   ],
   "source": [
    "plt.plot(list(range(0, 100001,1000)), train_loss)\n",
    "plt.yscale(\"log\")\n",
    "plt.show()"
   ]
  },
  {
   "cell_type": "code",
   "execution_count": 28,
   "metadata": {},
   "outputs": [
    {
     "data": {
      "image/png": "[encoded data removed]",
      "text/plain": [
       "<Figure size 640x480 with 2 Axes>"
      ]
     },
     "metadata": {},
     "output_type": "display_data"
    },
    {
     "name": "stdout",
     "output_type": "stream",
     "text": [
      "pao_ml_equivar/2H2O_rotations/rand_07/2H2O_pao44-1_0.pao: 7.141072e-04\n"
     ]
    },
    {
     "data": {
      "image/png": "[encoded data removed]",
      "text/plain": [
       "<Figure size 640x480 with 2 Axes>"
      ]
     },
     "metadata": {},
     "output_type": "display_data"
    },
    {
     "name": "stdout",
     "output_type": "stream",
     "text": [
      "pao_ml_equivar/2H2O_rotations/rand_07/2H2O_pao44-1_0.pao: 1.019183e-03\n"
     ]
    }
   ],
   "source": [
    "batch_size = 1\n",
    "path = Path(\"2H2O_rotations/rand_07/2H2O_pao44-1_0.pao\")\n",
    "test_pao_objects = generate_pao_object_from_file(path)\n",
    "test_pao_objects_O = [pao_object for pao_object in test_pao_objects if pao_object.kind.atomic_number==8]\n",
    "test_dataset_O = PAO_dataset(pao_objects_O)\n",
    "#test_loader_O = DataLoader(test_dataset_O, batch_size=1, shuffle=False)\n",
    "\n",
    "for pao_object in test_dataset_O:\n",
    "    fig, axs = plt.subplots(nrows=1, ncols=2)\n",
    "    edge_vecs, atomkinds, label = pao_object\n",
    "    pred = model_O(edge_vecs.unsqueeze(0), atomkinds)\n",
    "    label_projector = label.T @ label\n",
    "    pred_projector = pred.squeeze().T @ pred.squeeze()\n",
    "    #residual = torch.transpose(pred, dim0=1, dim1=2) - torch.bmm(label, torch.transpose(pred, dim0=1, dim1=2))\n",
    "    axs[0].imshow(pred_projector.detach(), cmap=\"RdBu\",vmin=-1, vmax=1)\n",
    "    axs[1].imshow(label_projector.detach(), cmap=\"RdBu\",vmin=-1, vmax=1)\n",
    "    #plt.imshow((label_projector @ pred.squeeze().T).T.detach(), cmap=\"RdBu\")\n",
    "    #axs[0].imshow(pred.squeeze().detach(), cmap=\"RdBu\", vmin=-1, vmax=1)\n",
    "    #axs[1].imshow(pao_objects_O[i].label.detach(), cmap=\"RdBu\", vmin=-1, vmax=1)\n",
    "    plt.show()\n",
    "    #plt.colorbar()\n",
    "    #plt.show()\n",
    "    test_mae = (label_projector-pred_projector).abs().mean()\n",
    "    print(f\"{path}: {test_mae:e}\")"
   ]
  },
  {
   "cell_type": "code",
   "execution_count": 29,
   "metadata": {},
   "outputs": [
    {
     "name": "stdout",
     "output_type": "stream",
     "text": [
      "Hydrogen, Number of parameters:  1088\n"
     ]
    }
   ],
   "source": [
    "batch_size = 4\n",
    "dataset_H = PAO_dataset(pao_objects_H)\n",
    "training_loader_H = DataLoader(dataset_H, batch_size=batch_size, shuffle=False)\n",
    "tp_H = o3.FullyConnectedTensorProduct(irreps_input, irreps_sh, generate_irreps_output(4, \"H\"), shared_weights=False)\n",
    "num_distances = 10\n",
    "num_layers = 32\n",
    "fc_H = FullyConnectedNet([num_distances, num_layers, tp_H.weight_numel], torch.relu)\n",
    "print(\"Hydrogen, Number of parameters: \", sum(p.numel() for p in fc_H.parameters()))"
   ]
  },
  {
   "cell_type": "code",
   "execution_count": 33,
   "metadata": {},
   "outputs": [],
   "source": [
    "prim_basis_size = o3.Irreps(prim_basis_specs[\"H\"]).dim\n",
    "prim_basis_spec = prim_basis_specs[\"H\"]\n",
    "irreps_output = generate_irreps_output(pao_basis_size, \"H\")\n",
    "D_H = irreps_output.D_from_matrix(change_of_coord)\n",
    "#plt.imshow(D_H, cmap=\"RdBu\", vmin=-1, vmax=1)\n",
    "#plt.colorbar()"
   ]
  },
  {
   "cell_type": "code",
   "execution_count": 34,
   "metadata": {},
   "outputs": [],
   "source": [
    "def model_H(edge_vec, f_in):\n",
    "    sh = o3.spherical_harmonics(irreps_sh, edge_vec, normalize=True, normalization='component')\n",
    "    emb = soft_one_hot_linspace(edge_vec.norm(dim=2), 0.0, max_radius, num_distances,\n",
    "                                basis='smooth_finite', cutoff=True).mul(num_distances**0.5)\n",
    "    flat_xyz = tp_H(f_in, sh, fc_H(emb)).sum(dim=1).div(num_neighbours**0.5)\n",
    "    flat_yzx = torch.matmul(flat_xyz, D_H)\n",
    "    return flat_xyz.reshape(batch_size, pao_basis_size, prim_basis_size)"
   ]
  },
  {
   "cell_type": "code",
   "execution_count": 35,
   "metadata": {},
   "outputs": [
    {
     "name": "stdout",
     "output_type": "stream",
     "text": [
      "training     0 | loss 1.23426890e+00\n",
      "training  1000 | loss 4.05116118e-02\n",
      "training  2000 | loss 3.47156413e-02\n",
      "training  3000 | loss 3.37243639e-02\n",
      "training  4000 | loss 3.33006606e-02\n",
      "training  5000 | loss 3.29496972e-02\n",
      "training  6000 | loss 3.24275196e-02\n",
      "training  7000 | loss 3.16255316e-02\n",
      "training  8000 | loss 3.08308341e-02\n",
      "training  9000 | loss 2.99351569e-02\n",
      "training 10000 | loss 2.88566835e-02\n",
      "training 11000 | loss 2.73592360e-02\n",
      "training 12000 | loss 2.52161715e-02\n",
      "training 13000 | loss 2.29983497e-02\n",
      "training 14000 | loss 2.17847917e-02\n",
      "training 15000 | loss 2.13568732e-02\n",
      "training 16000 | loss 2.11702157e-02\n",
      "training 17000 | loss 2.10832637e-02\n",
      "training 18000 | loss 2.10370496e-02\n",
      "training 19000 | loss 2.10147593e-02\n",
      "training 20000 | loss 2.10003350e-02\n",
      "training 21000 | loss 2.09893342e-02\n",
      "training 22000 | loss 2.09803674e-02\n",
      "training 23000 | loss 2.09722426e-02\n",
      "training 24000 | loss 2.09640022e-02\n",
      "training 25000 | loss 2.09559612e-02\n",
      "training 26000 | loss 2.09471099e-02\n",
      "training 27000 | loss 2.09376477e-02\n",
      "training 28000 | loss 2.09278744e-02\n",
      "training 29000 | loss 2.09177081e-02\n",
      "training 30000 | loss 2.09068805e-02\n",
      "training 31000 | loss 2.08958369e-02\n",
      "training 32000 | loss 2.08839830e-02\n",
      "training 33000 | loss 2.08721049e-02\n",
      "training 34000 | loss 2.08591893e-02\n",
      "training 35000 | loss 2.08460800e-02\n",
      "training 36000 | loss 2.08326858e-02\n",
      "training 37000 | loss 2.08187718e-02\n",
      "training 38000 | loss 2.08046157e-02\n",
      "training 39000 | loss 2.07901113e-02\n",
      "training 40000 | loss 2.07751822e-02\n",
      "training 41000 | loss 2.07601115e-02\n",
      "training 42000 | loss 2.07453556e-02\n",
      "training 43000 | loss 2.07291171e-02\n",
      "training 44000 | loss 2.07132418e-02\n",
      "training 45000 | loss 2.06970796e-02\n",
      "training 46000 | loss 2.06807759e-02\n",
      "training 47000 | loss 2.06644963e-02\n",
      "training 48000 | loss 2.06479318e-02\n",
      "training 49000 | loss 2.06315257e-02\n",
      "training 50000 | loss 2.06150133e-02\n",
      "training 51000 | loss 2.05984395e-02\n",
      "training 52000 | loss 2.05820892e-02\n",
      "training 53000 | loss 2.05659103e-02\n",
      "training 54000 | loss 2.05496997e-02\n",
      "training 55000 | loss 2.05336548e-02\n",
      "training 56000 | loss 2.05177665e-02\n",
      "training 57000 | loss 2.05026381e-02\n",
      "training 58000 | loss 2.04868838e-02\n",
      "training 59000 | loss 2.04714183e-02\n",
      "training 60000 | loss 2.04578284e-02\n",
      "training 61000 | loss 2.04415377e-02\n",
      "training 62000 | loss 2.04270910e-02\n",
      "training 63000 | loss 2.04128176e-02\n",
      "training 64000 | loss 2.03994662e-02\n",
      "training 65000 | loss 2.03853250e-02\n",
      "training 66000 | loss 2.03581601e-02\n",
      "training 67000 | loss 2.03380920e-02\n",
      "training 68000 | loss 2.03195326e-02\n",
      "training 69000 | loss 2.03030612e-02\n",
      "training 70000 | loss 2.02847123e-02\n",
      "training 71000 | loss 2.02671941e-02\n",
      "training 72000 | loss 2.02512965e-02\n",
      "training 73000 | loss 2.02361513e-02\n",
      "training 74000 | loss 2.02204660e-02\n",
      "training 75000 | loss 2.02062204e-02\n",
      "training 76000 | loss 2.01935172e-02\n",
      "training 77000 | loss 2.01794486e-02\n",
      "training 78000 | loss 2.01680139e-02\n",
      "training 79000 | loss 2.01553199e-02\n",
      "training 80000 | loss 2.01428812e-02\n",
      "training 81000 | loss 2.01325919e-02\n",
      "training 82000 | loss 2.01223511e-02\n",
      "training 83000 | loss 2.01117322e-02\n",
      "training 84000 | loss 2.01031398e-02\n",
      "training 85000 | loss 2.00952366e-02\n",
      "training 86000 | loss 2.00856160e-02\n",
      "training 87000 | loss 2.00769845e-02\n",
      "training 88000 | loss 2.00707335e-02\n",
      "training 89000 | loss 2.00640801e-02\n",
      "training 90000 | loss 2.00571362e-02\n",
      "training 91000 | loss 2.00505964e-02\n",
      "training 92000 | loss 2.00449508e-02\n",
      "training 93000 | loss 2.00394280e-02\n",
      "training 94000 | loss 2.00356655e-02\n",
      "training 95000 | loss 2.00299788e-02\n",
      "training 96000 | loss 2.00261194e-02\n",
      "training 97000 | loss 2.00223699e-02\n",
      "training 98000 | loss 2.00200099e-02\n",
      "training 99000 | loss 2.00157948e-02\n",
      "training 100000 | loss 2.00131778e-02\n"
     ]
    }
   ],
   "source": [
    "# Train the model.\n",
    "#M_H = Network(generate_irreps_output(4, \"H\"))\n",
    "optim = torch.optim.Adam(fc_H.parameters(), lr=1e-3)\n",
    "train_loss_H = []\n",
    "\n",
    "#for step in range(20001):\n",
    "#    edge_vecs, atomkinds, label = next(iter(training_loader_H))\n",
    "#    pred = model_H(edge_vecs, atomkinds)\n",
    "#    loss = loss_function_1(pred, label)\n",
    "#    optim.zero_grad()\n",
    "#    loss.backward()\n",
    "#    optim.step()\n",
    "#    if step % 1000 == 0:\n",
    "#        print(f\"warm up  {step:5d} | loss {loss:.8e}\")\n",
    "\n",
    "for step in range(100001): \n",
    "    edge_vecs, atomkinds, label = next(iter(training_loader_H))\n",
    "    pred = model_H(edge_vecs, atomkinds)\n",
    "    #pred = M_H(edge_vecs, atomkinds)\n",
    "    loss = loss_function_2(pred, label)\n",
    "    optim.zero_grad()\n",
    "    loss.backward()\n",
    "    optim.step()\n",
    "    if step % 1000 == 0:\n",
    "        train_loss_H.append(loss.detach())\n",
    "        print(f\"training {step:5d} | loss {loss:.8e}\")"
   ]
  },
  {
   "cell_type": "code",
   "execution_count": 36,
   "metadata": {},
   "outputs": [
    {
     "data": {
      "image/png": "[encoded data removed]",
      "text/plain": [
       "<Figure size 640x480 with 1 Axes>"
      ]
     },
     "metadata": {},
     "output_type": "display_data"
    }
   ],
   "source": [
    "plt.plot(list(range(0, 100001,1000)), train_loss_H)\n",
    "plt.yscale(\"log\")\n",
    "plt.show()"
   ]
  },
  {
   "cell_type": "code",
   "execution_count": 37,
   "metadata": {},
   "outputs": [
    {
     "data": {
      "image/png": "[encoded data removed]",
      "text/plain": [
       "<Figure size 640x480 with 2 Axes>"
      ]
     },
     "metadata": {},
     "output_type": "display_data"
    },
    {
     "name": "stdout",
     "output_type": "stream",
     "text": [
      "pao_ml_equivar/2H2O_rotations/phi_00/2H2O_pao44-1_0.pao: 2.065914e-03\n"
     ]
    },
    {
     "data": {
      "image/png": "[encoded data removed]",
      "text/plain": [
       "<Figure size 640x480 with 2 Axes>"
      ]
     },
     "metadata": {},
     "output_type": "display_data"
    },
    {
     "name": "stdout",
     "output_type": "stream",
     "text": [
      "pao_ml_equivar/2H2O_rotations/phi_00/2H2O_pao44-1_0.pao: 3.579215e-03\n"
     ]
    },
    {
     "data": {
      "image/png": "[encoded data removed]",
      "text/plain": [
       "<Figure size 640x480 with 2 Axes>"
      ]
     },
     "metadata": {},
     "output_type": "display_data"
    },
    {
     "name": "stdout",
     "output_type": "stream",
     "text": [
      "pao_ml_equivar/2H2O_rotations/phi_00/2H2O_pao44-1_0.pao: 7.835554e-02\n"
     ]
    },
    {
     "data": {
      "image/png": "[encoded data removed]",
      "text/plain": [
       "<Figure size 640x480 with 2 Axes>"
      ]
     },
     "metadata": {},
     "output_type": "display_data"
    },
    {
     "name": "stdout",
     "output_type": "stream",
     "text": [
      "pao_ml_equivar/2H2O_rotations/phi_00/2H2O_pao44-1_0.pao: 1.044305e-01\n"
     ]
    }
   ],
   "source": [
    "batch_size=1\n",
    "path = Path(\"2H2O_rotations/phi_00/2H2O_pao44-1_0.pao\")\n",
    "pao_objects = generate_pao_object_from_file(path)\n",
    "pao_objects_H = [pao_object for pao_object in pao_objects if pao_object.kind.atomic_number==1]\n",
    "dataset = PAO_dataset(pao_objects_H)\n",
    "training_loader = DataLoader(dataset, batch_size=batch_size, shuffle=False)\n",
    "\n",
    "for pao_object in dataset:\n",
    "    fig, axs = plt.subplots(nrows=1, ncols=2)\n",
    "    edge_vecs, atomkinds, label = pao_object\n",
    "    pred = model_H(edge_vecs.unsqueeze(0), atomkinds)\n",
    "    label_projector = label.T @ label\n",
    "    pred_projector = pred.squeeze().T @ pred.squeeze()\n",
    "\n",
    "    axs[0].imshow(pred_projector.detach(), cmap=\"RdBu\",vmin=-1, vmax=1)\n",
    "    axs[1].imshow(label_projector.detach(), cmap=\"RdBu\",vmin=-1, vmax=1)\n",
    "    #axs[0].imshow(pred.squeeze().detach(), cmap=\"RdBu\", vmin=-1, vmax=1)\n",
    "    #axs[1].imshow(pao_object.xblock.detach(), cmap=\"RdBu\", vmin=-1, vmax=1)\n",
    "    plt.show()\n",
    "    test_mae = (label_projector-pred_projector).abs().mean()\n",
    "    print(f\"{path}: {test_mae:e}\")"
   ]
  },
  {
   "cell_type": "code",
   "execution_count": 38,
   "metadata": {},
   "outputs": [
    {
     "name": "stdout",
     "output_type": "stream",
     "text": [
      "pao_ml_equivar/2H2O_rotations/rand_00/2H2O_pao44-1_0.pao: Relative Energy Diff: -3.245910e-04\n",
      " SCF run converged in     9 steps.\n",
      "pao_ml_equivar/2H2O_rotations/rand_01/2H2O_pao44-1_0.pao: Relative Energy Diff: -3.348057e-04\n",
      " SCF run converged in     9 steps.\n",
      "pao_ml_equivar/2H2O_rotations/rand_02/2H2O_pao44-1_0.pao: Relative Energy Diff: -3.657424e-04\n",
      " SCF run converged in     9 steps.\n",
      "pao_ml_equivar/2H2O_rotations/rand_03/2H2O_pao44-1_0.pao: Relative Energy Diff: -5.046782e-04\n",
      " SCF run converged in     9 steps.\n",
      "pao_ml_equivar/2H2O_rotations/rand_04/2H2O_pao44-1_0.pao: Relative Energy Diff: -5.646279e-04\n",
      " SCF run converged in     9 steps.\n",
      "pao_ml_equivar/2H2O_rotations/rand_05/2H2O_pao44-1_0.pao: Relative Energy Diff: -5.647302e-04\n",
      " SCF run converged in     9 steps.\n",
      "pao_ml_equivar/2H2O_rotations/rand_06/2H2O_pao44-1_0.pao: Relative Energy Diff: -4.777157e-04\n",
      " SCF run converged in     9 steps.\n",
      "pao_ml_equivar/2H2O_rotations/rand_07/2H2O_pao44-1_0.pao: Relative Energy Diff: -4.405068e-04\n",
      " SCF run converged in     9 steps.\n",
      "pao_ml_equivar/2H2O_rotations/rand_08/2H2O_pao44-1_0.pao: Relative Energy Diff: -5.374271e-04\n",
      " SCF run converged in     9 steps.\n",
      "pao_ml_equivar/2H2O_rotations/rand_09/2H2O_pao44-1_0.pao: Relative Energy Diff: -2.733886e-04\n",
      " SCF run converged in     9 steps.\n",
      "pao_ml_equivar/2H2O_rotations/rand_10/2H2O_pao44-1_0.pao: Relative Energy Diff: -3.076845e-04\n",
      " SCF run converged in     9 steps.\n",
      "pao_ml_equivar/2H2O_rotations/rand_11/2H2O_pao44-1_0.pao: Relative Energy Diff: -5.561880e-04\n",
      " SCF run converged in     9 steps.\n",
      "pao_ml_equivar/2H2O_rotations/rand_12/2H2O_pao44-1_0.pao: Relative Energy Diff: -5.396388e-04\n",
      " SCF run converged in     9 steps.\n",
      "pao_ml_equivar/2H2O_rotations/rand_13/2H2O_pao44-1_0.pao: Relative Energy Diff: -5.435404e-04\n",
      " SCF run converged in     9 steps.\n",
      "pao_ml_equivar/2H2O_rotations/rand_14/2H2O_pao44-1_0.pao: Relative Energy Diff: -3.357749e-04\n",
      " SCF run converged in     9 steps.\n",
      "pao_ml_equivar/2H2O_rotations/rand_15/2H2O_pao44-1_0.pao: Relative Energy Diff: -3.526480e-04\n",
      " SCF run converged in     9 steps.\n",
      "pao_ml_equivar/2H2O_rotations/rand_16/2H2O_pao44-1_0.pao: Relative Energy Diff: -4.682544e-04\n",
      " SCF run converged in     9 steps.\n",
      "pao_ml_equivar/2H2O_rotations/rand_17/2H2O_pao44-1_0.pao: Relative Energy Diff: -2.627534e-04\n",
      " SCF run converged in     9 steps.\n",
      "pao_ml_equivar/2H2O_rotations/rand_18/2H2O_pao44-1_0.pao: Relative Energy Diff: -5.119719e-04\n",
      " SCF run converged in     9 steps.\n",
      "pao_ml_equivar/2H2O_rotations/rand_19/2H2O_pao44-1_0.pao: Relative Energy Diff: -4.584920e-04\n",
      " SCF run converged in     9 steps.\n"
     ]
    }
   ],
   "source": [
    "batch_size=1\n",
    "for path in sorted(Path().glob(\"2H2O_rotations/rand_*/2H2O_pao44-1_0.pao\")):\n",
    "    pao_objects = generate_pao_object_from_file(path)\n",
    "    pao_objects_O = [pao_object for pao_object in pao_objects if pao_object.kind.atomic_number==8]\n",
    "    pao_objects_H = [pao_object for pao_object in pao_objects if pao_object.kind.atomic_number==1]\n",
    "    kinds, atom2kind, sample_coords, sample_xblocks = parse_pao_file_torch(path)\n",
    "    pred_xblocks = sample_xblocks.copy()\n",
    "    \n",
    "    prim_basis_size = o3.Irreps(prim_basis_specs[\"O\"]).dim    \n",
    "    pred_xblocks[0] = model_O(pao_objects_O[0].coords.unsqueeze(dim=0), generate_f_in(pao_objects_O[0]).unsqueeze(dim=0)).squeeze()\n",
    "    pred_xblocks[3] = model_O(pao_objects_O[1].coords.unsqueeze(dim=0), generate_f_in(pao_objects_O[1]).unsqueeze(dim=0)).squeeze()\n",
    "    \n",
    "    prim_basis_size = o3.Irreps(prim_basis_specs[\"H\"]).dim\n",
    "    pred_xblocks[1] = model_H(pao_objects_H[0].coords.unsqueeze(dim=0), generate_f_in(pao_objects_H[0]).unsqueeze(dim=0)).squeeze()\n",
    "    pred_xblocks[2] = model_H(pao_objects_H[1].coords.unsqueeze(dim=0), generate_f_in(pao_objects_H[1]).unsqueeze(dim=0)).squeeze()\n",
    "    pred_xblocks[4] = model_H(pao_objects_H[2].coords.unsqueeze(dim=0), generate_f_in(pao_objects_H[2]).unsqueeze(dim=0)).squeeze()\n",
    "    pred_xblocks[5] = model_H(pao_objects_H[3].coords.unsqueeze(dim=0), generate_f_in(pao_objects_H[3]).unsqueeze(dim=0)).squeeze()\n",
    "    \n",
    "    write_pao_file(path.parent / \"2H2O_pao44_eval.pao\", kinds, atom2kind, sample_coords, pred_xblocks)\n",
    "    ! cd {path.parent}; OMP_NUM_THREADS=8 /data/vdella/software/cp2k/exe/local/cp2k.sdbg 2H2O_pao44_eval.inp > 2H2O_pao44_eval.out\n",
    "    test_energy = read_cp2k_energy(path.parent / \"2H2O_pao44_eval.out\")\n",
    "    ref_energy = read_cp2k_energy(path.parent / \"2H2O_pao44.out\")\n",
    "    rel_diff_energy = (test_energy - ref_energy) / ref_energy\n",
    "    print(f\"{path}: Relative Energy Diff: {rel_diff_energy:e}\")\n",
    "    ! grep \"SCF run converged in\" {path.parent}/2H2O_pao44_eval.out"
   ]
  },
  {
   "cell_type": "code",
   "execution_count": 589,
   "metadata": {},
   "outputs": [],
   "source": [
    "# Classes to build own neural network, potentially with more convolutional layers\n",
    "class Convolution(torch.nn.Module):\n",
    "    def __init__(self, irreps_in, irreps_sh, irreps_out, num_neighbors) -> None:\n",
    "        super().__init__()\n",
    "\n",
    "        self.num_neighbors = num_neighbors\n",
    "\n",
    "        tp = FullyConnectedTensorProduct(\n",
    "            irreps_in1=irreps_in,\n",
    "            irreps_in2=irreps_sh,\n",
    "            irreps_out=irreps_out,\n",
    "            internal_weights=False,\n",
    "            shared_weights=False,\n",
    "        )\n",
    "        self.fc = FullyConnectedNet([10, 64, tp.weight_numel], torch.relu)\n",
    "        self.tp = tp\n",
    "        self.irreps_out = self.tp.irreps_out\n",
    "\n",
    "    def forward(self, f_in, sh, emb) -> torch.Tensor:\n",
    "        weight = self.fc(emb)\n",
    "        output = self.tp(f_in, sh, weight).div(self.num_neighbors**0.5)\n",
    "        return output\n",
    "\n",
    "\n",
    "class Network(torch.nn.Module):\n",
    "    def __init__(self, irreps_output) -> None:\n",
    "        super().__init__()\n",
    "        self.num_neighbors = 5  # typical number of neighbors\n",
    "        self.irreps_sh = o3.Irreps.spherical_harmonics(3)\n",
    "        self.irreps_out = irreps_output\n",
    "\n",
    "        irreps = self.irreps_sh\n",
    "\n",
    "        # First layer with gate\n",
    "        gate = Gate(\n",
    "            \"16x0e + 16x0o\", [torch.relu, torch.abs],  # scalar\n",
    "            \"8x0e + 8x0o + 8x0e + 8x0o\", [torch.relu, torch.tanh, torch.relu, torch.tanh],  # gates (scalars)\n",
    "            \"16x1o + 16x1e\"  # gated tensors, num_irreps has to match with gates\n",
    "        )\n",
    "        self.conv = Convolution(irreps_input, self.irreps_sh, gate.irreps_in, self.num_neighbors)\n",
    "        self.gate = gate\n",
    "        irreps = self.gate.irreps_out\n",
    "\n",
    "        # Final layer\n",
    "        self.final = Convolution(self.gate.irreps_out, self.irreps_sh, generate_irreps_output(4, \"H\"), self.num_neighbors)\n",
    "        self.irreps_out = self.final.irreps_out\n",
    "\n",
    "    def forward(self, edge_vecs, atomkinds) -> torch.Tensor:\n",
    "        num_nodes = 5  # typical number of nodes\n",
    "\n",
    "        edge_attr = o3.spherical_harmonics(\n",
    "            l=self.irreps_sh,\n",
    "            x=edge_vecs,\n",
    "            normalize=True,\n",
    "            normalization='component'\n",
    "        )\n",
    "        edge_length_embedded = soft_one_hot_linspace(\n",
    "            x=edge_vecs.norm(dim=2),\n",
    "            start=0.0,\n",
    "            end=4.0,\n",
    "            number=10,\n",
    "            basis='smooth_finite',\n",
    "            cutoff=True\n",
    "        ) * 10**0.5\n",
    "\n",
    "        x = self.conv(atomkinds, edge_attr, edge_length_embedded)\n",
    "        x = self.gate(x)\n",
    "        x = torch.sum(self.final(x, edge_attr, edge_length_embedded), dim=1)\n",
    "        x = torch.matmul(x, D_H)\n",
    "\n",
    "        return x.reshape(batch_size, pao_basis_size, prim_basis_size)"
   ]
  },
  {
   "cell_type": "code",
   "execution_count": null,
   "metadata": {},
   "outputs": [],
   "source": []
  }
 ],
 "metadata": {
  "kernelspec": {
   "display_name": "Python 3 (ipykernel)",
   "language": "python",
   "name": "python3"
  },
  "language_info": {
   "codemirror_mode": {
    "name": "ipython",
    "version": 3
   },
   "file_extension": ".py",
   "mimetype": "text/x-python",
   "name": "python",
   "nbconvert_exporter": "python",
   "pygments_lexer": "ipython3",
   "version": "3.9.7"
  }
 },
 "nbformat": 4,
 "nbformat_minor": 2
}
