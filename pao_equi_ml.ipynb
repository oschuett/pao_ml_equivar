{
 "cells": [
  {
   "cell_type": "markdown",
   "metadata": {},
   "source": [
    "# PAO-EquiML"
   ]
  },
  {
   "cell_type": "code",
   "execution_count": 40,
   "metadata": {},
   "outputs": [],
   "source": [
    "import logging\n",
    "import torch\n",
    "import numpy as np\n",
    "from matplotlib import pyplot as plt\n",
    "from matplotlib import colormaps\n",
    "#from torch_cluster import radius_graph\n",
    "#from torch_geometric.data import Data, DataLoader\n",
    "from torch_scatter import scatter\n",
    "from torch.utils.data import Dataset, DataLoader\n",
    "\n",
    "from e3nn import o3\n",
    "from e3nn.nn import FullyConnectedNet, Gate, models\n",
    "from e3nn.o3 import FullyConnectedTensorProduct\n",
    "from e3nn.math import soft_one_hot_linspace\n",
    "from e3nn.util.test import assert_equivariant\n",
    "\n",
    "from pathlib import Path\n",
    "from pao_file_utils import parse_pao_file, append_samples, write_pao_file, read_cp2k_energy\n",
    "\n",
    "t = torch.tensor"
   ]
  },
  {
   "cell_type": "code",
   "execution_count": 41,
   "metadata": {},
   "outputs": [],
   "source": [
    "change_of_coord = t([\n",
    "    # this specifies the change of basis yzx -> xyz\n",
    "    [0., 0., 1.],\n",
    "    [1., 0., 0.],\n",
    "    [0., 1., 0.]\n",
    "])\n",
    "prim_basis_specs = {\n",
    "    \"O\": \"2x0e + 2x1o + 1x2e\", # DZVP-MOLOPT-GTH for Oxygen: two s-shells, two p-shells, one d-shell\n",
    "    \"H\": \"2x0e + 1x1o\" # DZVP-MOLOPT-GTH for Hydrogen: two s-shells, one p-shell\n",
    "}\n",
    "pao_basis_size = 4"
   ]
  },
  {
   "cell_type": "code",
   "execution_count": 42,
   "metadata": {},
   "outputs": [],
   "source": [
    "class PAO_Object:\n",
    "    def __init__(self, kind, atomkind, coords, xblock):\n",
    "        self.kind = kind\n",
    "        self.atomkind = atomkind\n",
    "        self.coords = coords\n",
    "        self.xblock = xblock\n",
    "        self.label = xblock.T @ torch.inverse(xblock @ xblock.T) @ xblock\n",
    "        #U, S, Vh = torch.linalg.svd(xblock, full_matrices=False)\n",
    "        #self.label = Vh\n",
    "\n",
    "class PAO_dataset(Dataset):\n",
    "    def __init__(self, pao_objects):\n",
    "        self.labels = [pao_object.label for pao_object in pao_objects]\n",
    "        self.atomkinds = [generate_f_in(pao_object) for pao_object in pao_objects]\n",
    "        self.coords = [pao_object.coords for pao_object in pao_objects]\n",
    "\n",
    "    def __len__(self):\n",
    "        return len(self.labels)\n",
    "\n",
    "    def __getitem__(self, idx):\n",
    "        coords = self.coords[idx]\n",
    "        label = self.labels[idx]\n",
    "        atomkind = self.atomkinds[idx]\n",
    "        return coords, atomkind, label"
   ]
  },
  {
   "cell_type": "code",
   "execution_count": 43,
   "metadata": {},
   "outputs": [],
   "source": [
    "def parse_pao_file_torch(path: Path):\n",
    "    kinds, atom2kind, coords, xblocks = parse_pao_file(path)\n",
    "    return kinds, atom2kind, t(coords, dtype=torch.float32), [t(x, dtype=torch.float32) for x in xblocks]\n",
    "\n",
    "# Remove central atom and create PAO object from PAO file\n",
    "def generate_pao_object_from_file(file_path):\n",
    "    pao_objects = []\n",
    "    kinds, atom2kind, coords, xblocks = parse_pao_file_torch(file_path)\n",
    "    #coords = torch.roll(coords, -1, 1)\n",
    "    for idx, atom in enumerate(atom2kind):\n",
    "        rel_coords = coords - coords[idx]\n",
    "        idxs = list(range(len(atom2kind)))\n",
    "        idxs.pop(idx)\n",
    "        pao_objects.append(PAO_Object(kinds[atom], [atom2kind[atom] for atom in idxs], rel_coords[idxs], xblocks[idx]))\n",
    "    return pao_objects"
   ]
  },
  {
   "cell_type": "code",
   "execution_count": 44,
   "metadata": {},
   "outputs": [],
   "source": [
    "def generate_irreps_output(pao_basis_size, atom_species):\n",
    "    prim_basis_specs = {\n",
    "    \"O\": \"2x0e + 2x1o + 1x2e\", # DZVP-MOLOPT-GTH for Oxygen: two s-shells, two p-shells, one d-shell\n",
    "    \"H\": \"2x0e + 1x1o\" # DZVP-MOLOPT-GTH for Hydrogen: two s-shells, one p-shell\n",
    "    }\n",
    "    prim_basis_spec = prim_basis_specs[atom_species]\n",
    "    prim_basis_size = o3.Irreps(prim_basis_spec).dim\n",
    "    irreps_output = o3.Irreps(\" + \".join(pao_basis_size*[prim_basis_spec]))\n",
    "    return irreps_output"
   ]
  },
  {
   "cell_type": "code",
   "execution_count": 46,
   "metadata": {},
   "outputs": [],
   "source": [
    "pao_objects = []\n",
    "#for phi in [\"00\"]:\n",
    "#    pao_objects.extend(generate_pao_object_from_file(Path(f\"pao_ml_equivar/2H2O_rotations/phi_{phi}/2H2O_pao44-1_0.pao\")))\n",
    "pao_objects.extend(generate_pao_object_from_file(Path(f\"2H2O_rotations/phi_00/2H2O_pao44-1_0.pao\")))\n",
    "pao_objects_O = [pao_object for pao_object in pao_objects if pao_object.kind.atomic_number==8]\n",
    "pao_objects_H = [pao_object for pao_object in pao_objects if pao_object.kind.atomic_number==1]\n",
    "kinds, atom2kind, coords, _ = parse_pao_file_torch(Path(\"2H2O_rotations/phi_00/2H2O_pao44-1_0.pao\"))\n",
    "\n",
    "# Irreps Input\n",
    "irreps_input = o3.Irreps(\"2x0e\") # features: is_hydrogen, is_oxygen\n",
    "\n",
    "# Irreps Spherical Harmonics\n",
    "irreps_sh = o3.Irreps.spherical_harmonics(lmax=2)"
   ]
  },
  {
   "cell_type": "code",
   "execution_count": 47,
   "metadata": {},
   "outputs": [
    {
     "name": "stdout",
     "output_type": "stream",
     "text": [
      "2\n",
      "2x0e+2x1o+1x2e+2x0e+2x1o+1x2e+2x0e+2x1o+1x2e+2x0e+2x1o+1x2e\n",
      "4\n",
      "2x0e+1x1o+2x0e+1x1o+2x0e+1x1o+2x0e+1x1o\n"
     ]
    }
   ],
   "source": [
    "print(len(pao_objects_O))\n",
    "print(generate_irreps_output(4,\"O\"))\n",
    "print(len(pao_objects_H))\n",
    "print(generate_irreps_output(4,\"H\"))"
   ]
  },
  {
   "cell_type": "code",
   "execution_count": 48,
   "metadata": {},
   "outputs": [],
   "source": [
    "# Preprocessing, model, and loss functions.\n",
    "max_radius = 4\n",
    "num_neighbours=5\n",
    "\n",
    "def edge_vec(coords):\n",
    "    assert coords.shape[0] == num_neighbors\n",
    "    return coords\n",
    "\n",
    "def normalize(xblock):\n",
    "    return xblock / torch.norm(xblock, dim=1)[:,None]\n",
    "\n",
    "def labelfy(xblock):\n",
    "    # The loss_functions requires orthonormal labels.\n",
    "    U, S, Vh = torch.linalg.svd(xblock, full_matrices=False)\n",
    "    return Vh\n",
    "\n",
    "def generate_f_in(pao_object):  \n",
    "    f_in = t([(k==\"H\", k==\"O\") for k in pao_object.atomkind], dtype=torch.float32)\n",
    "    return f_in\n",
    "\n",
    "def regularization(label):\n",
    "    return 0.1 * (1 - torch.norm(label, dim=1)).pow(2).sum()\n",
    "\n",
    "def loss_function_1(pred, label):\n",
    "    loss = torch.sum(torch.sum((pred - label).pow(2), dim=2), dim=1).mean()\n",
    "    return loss\n",
    "\n",
    "def loss_function_2(pred, label):\n",
    "    pred_projector = torch.bmm(torch.transpose(pred, dim0=1, dim1=2), pred)\n",
    "#    label_projector = torch.bmm(torch.transpose(label, dim0=1, dim1=2), label)\n",
    "    label_projector = label\n",
    "    residual = pred_projector - label_projector\n",
    "#    return residual.pow(2).sum() + regularization(pred)\n",
    "#    return torch.sum(torch.sum(residual.pow(2), dim=2), dim=1).mean()\n",
    "#    return torch.sum(torch.sum(residual.pow(2), dim=2), dim=1).mean()\n",
    "#    return residual.abs().mean()\n",
    "    return residual.pow(2).mean()"
   ]
  },
  {
   "cell_type": "code",
   "execution_count": 54,
   "metadata": {},
   "outputs": [],
   "source": [
    "def model_O(edge_vec, f_in):\n",
    "    sh = o3.spherical_harmonics(irreps_sh, edge_vec, normalize=True, normalization='component')\n",
    "    emb = soft_one_hot_linspace(edge_vec.norm(dim=2), 0.0, max_radius, num_distances,\n",
    "                                basis='smooth_finite', cutoff=True).mul(num_distances**0.5)\n",
    "    flat_xyz = tp_O(f_in, sh, fc_O(emb)).sum(dim=1).div(num_neighbours**0.5)\n",
    "    flat_yzx = torch.matmul(flat_xyz, D_O)\n",
    "    return flat_yzx.reshape(batch_size, pao_basis_size, prim_basis_size)"
   ]
  },
  {
   "cell_type": "code",
   "execution_count": 59,
   "metadata": {},
   "outputs": [],
   "source": [
    "tp_O = o3.FullyConnectedTensorProduct(irreps_input, irreps_sh, generate_irreps_output(4, \"O\"), shared_weights=False)"
   ]
  },
  {
   "cell_type": "code",
   "execution_count": 60,
   "metadata": {},
   "outputs": [
    {
     "name": "stdout",
     "output_type": "stream",
     "text": [
      "Oxygen, Number of parameters:  800\n"
     ]
    }
   ],
   "source": [
    "# Perceptron\n",
    "num_distances = 10\n",
    "num_layers = 16\n",
    "fc_O = FullyConnectedNet([num_distances, num_layers, tp_O.weight_numel], torch.relu)\n",
    "print(\"Oxygen, Number of parameters: \", sum(p.numel() for p in fc_O.parameters()))"
   ]
  },
  {
   "cell_type": "code",
   "execution_count": 61,
   "metadata": {},
   "outputs": [],
   "source": [
    "batch_size = 2\n",
    "dataset_O = PAO_dataset(pao_objects_O)\n",
    "training_loader_O = DataLoader(dataset_O, batch_size=batch_size, shuffle=True)\n",
    "prim_basis_spec = prim_basis_specs[\"O\"]\n",
    "prim_basis_size = o3.Irreps(prim_basis_spec).dim\n",
    "irreps_output = o3.Irreps(\" + \".join(pao_basis_size*[prim_basis_spec]))\n",
    "D_O = irreps_output.D_from_matrix(change_of_coord)"
   ]
  },
  {
   "cell_type": "code",
   "execution_count": 62,
   "metadata": {},
   "outputs": [
    {
     "name": "stdout",
     "output_type": "stream",
     "text": [
      "training     0 | loss 1.62940776e+00\n",
      "training  1000 | loss 1.74441654e-02\n",
      "training  2000 | loss 8.51557683e-03\n",
      "training  3000 | loss 6.92661060e-03\n",
      "training  4000 | loss 6.40175026e-03\n",
      "training  5000 | loss 6.15386898e-03\n",
      "training  6000 | loss 6.04124414e-03\n",
      "training  7000 | loss 5.99310733e-03\n",
      "training  8000 | loss 5.97089343e-03\n",
      "training  9000 | loss 5.95610449e-03\n",
      "training 10000 | loss 5.94289554e-03\n",
      "training 11000 | loss 5.93249686e-03\n",
      "training 12000 | loss 5.92672266e-03\n",
      "training 13000 | loss 5.92392031e-03\n",
      "training 14000 | loss 5.92228770e-03\n",
      "training 15000 | loss 5.92088420e-03\n",
      "training 16000 | loss 5.91994962e-03\n",
      "training 17000 | loss 5.91948349e-03\n",
      "training 18000 | loss 5.91928372e-03\n",
      "training 19000 | loss 5.91917802e-03\n",
      "training 20000 | loss 5.91910165e-03\n",
      "training 21000 | loss 5.91903552e-03\n",
      "training 22000 | loss 5.91896754e-03\n",
      "training 23000 | loss 5.91885112e-03\n",
      "training 24000 | loss 5.91869326e-03\n",
      "training 25000 | loss 5.91848092e-03\n",
      "training 26000 | loss 5.91820246e-03\n",
      "training 27000 | loss 5.91787929e-03\n",
      "training 28000 | loss 5.91748161e-03\n",
      "training 29000 | loss 5.91693260e-03\n",
      "training 30000 | loss 5.91610605e-03\n",
      "training 31000 | loss 5.91454795e-03\n",
      "training 32000 | loss 5.91163710e-03\n",
      "training 33000 | loss 5.90470154e-03\n",
      "training 34000 | loss 5.88710932e-03\n",
      "training 35000 | loss 5.83986752e-03\n",
      "training 36000 | loss 5.72461449e-03\n",
      "training 37000 | loss 5.54947369e-03\n",
      "training 38000 | loss 5.29138464e-03\n",
      "training 39000 | loss 4.89113759e-03\n",
      "training 40000 | loss 4.34248056e-03\n",
      "training 41000 | loss 3.70024052e-03\n",
      "training 42000 | loss 3.06550716e-03\n",
      "training 43000 | loss 2.58793891e-03\n",
      "training 44000 | loss 2.33883015e-03\n",
      "training 45000 | loss 2.22854479e-03\n",
      "training 46000 | loss 2.14719051e-03\n",
      "training 47000 | loss 2.06258707e-03\n",
      "training 48000 | loss 1.97231234e-03\n",
      "training 49000 | loss 1.87658274e-03\n",
      "training 50000 | loss 1.77661760e-03\n",
      "training 51000 | loss 1.65914395e-03\n",
      "training 52000 | loss 1.50170887e-03\n",
      "training 53000 | loss 1.34268717e-03\n",
      "training 54000 | loss 1.18122878e-03\n",
      "training 55000 | loss 1.04579318e-03\n",
      "training 56000 | loss 9.20919119e-04\n",
      "training 57000 | loss 7.99652305e-04\n",
      "training 58000 | loss 6.83307007e-04\n",
      "training 59000 | loss 5.69435302e-04\n",
      "training 60000 | loss 4.62290482e-04\n",
      "training 61000 | loss 3.63195955e-04\n",
      "training 62000 | loss 2.73633050e-04\n",
      "training 63000 | loss 1.96106092e-04\n",
      "training 64000 | loss 1.31973444e-04\n",
      "training 65000 | loss 8.21957219e-05\n",
      "training 66000 | loss 4.68816979e-05\n",
      "training 67000 | loss 2.53112830e-05\n",
      "training 68000 | loss 1.32772057e-05\n",
      "training 69000 | loss 7.96927452e-06\n",
      "training 70000 | loss 5.39824214e-06\n",
      "training 71000 | loss 4.51367896e-06\n",
      "training 72000 | loss 3.77847891e-06\n",
      "training 73000 | loss 3.64320726e-06\n",
      "training 74000 | loss 3.60732611e-06\n",
      "training 75000 | loss 4.17360070e-06\n",
      "training 76000 | loss 1.42520057e-05\n",
      "training 77000 | loss 3.59332898e-06\n",
      "training 78000 | loss 3.84721170e-06\n",
      "training 79000 | loss 3.59244950e-06\n",
      "training 80000 | loss 3.61322577e-06\n",
      "training 81000 | loss 3.59256433e-06\n",
      "training 82000 | loss 3.61524121e-06\n",
      "training 83000 | loss 3.59992487e-06\n",
      "training 84000 | loss 3.83288352e-06\n",
      "training 85000 | loss 3.59165415e-06\n",
      "training 86000 | loss 4.01778470e-06\n",
      "training 87000 | loss 3.59142132e-06\n",
      "training 88000 | loss 3.61069146e-06\n",
      "training 89000 | loss 3.64371544e-06\n",
      "training 90000 | loss 3.59333171e-06\n",
      "training 91000 | loss 3.59085675e-06\n",
      "training 92000 | loss 3.59196451e-06\n",
      "training 93000 | loss 3.61416710e-06\n",
      "training 94000 | loss 3.59031060e-06\n",
      "training 95000 | loss 3.66468521e-06\n",
      "training 96000 | loss 3.79658673e-06\n",
      "training 97000 | loss 3.70771477e-06\n",
      "training 98000 | loss 3.58975285e-06\n",
      "training 99000 | loss 4.13384623e-06\n",
      "training 100000 | loss 3.70098974e-06\n"
     ]
    }
   ],
   "source": [
    "# Train the model.\n",
    "optim = torch.optim.Adam(fc_O.parameters(), lr=1e-3)\n",
    "train_loss = []\n",
    "\n",
    "#for step in range(10001):\n",
    "#    edge_vecs, atomkinds, label = next(iter(training_loader_O))\n",
    "#    pred = model_O(edge_vecs, atomkinds)\n",
    "#    loss = loss_function_1(pred, label)\n",
    "#    optim.zero_grad()\n",
    "#    loss.backward()\n",
    "#    optim.step()\n",
    "#    if step % 1000 == 0:\n",
    "#        print(f\"warm up  {step:5d} | loss {loss:.8e}\")\n",
    "\n",
    "for step in range(100001): \n",
    "    edge_vecs, atomkinds, label = next(iter(training_loader_O))\n",
    "    pred = model_O(edge_vecs, atomkinds)\n",
    "    loss = loss_function_2(pred, label)\n",
    "    optim.zero_grad()\n",
    "    loss.backward()\n",
    "    optim.step()\n",
    "    if step % 1000 == 0:\n",
    "        train_loss.append(loss.detach())\n",
    "        print(f\"training {step:5d} | loss {loss:.8e}\")"
   ]
  },
  {
   "cell_type": "code",
   "execution_count": 63,
   "metadata": {},
   "outputs": [
    {
     "data": {
      "image/png": "[encoded data removed]",
      "text/plain": [
       "<Figure size 640x480 with 1 Axes>"
      ]
     },
     "metadata": {},
     "output_type": "display_data"
    }
   ],
   "source": [
    "plt.plot(list(range(0, 100001,1000)), train_loss)\n",
    "plt.yscale(\"log\")\n",
    "plt.show()"
   ]
  },
  {
   "cell_type": "code",
   "execution_count": 89,
   "metadata": {},
   "outputs": [
    {
     "data": {
      "image/png": "[encoded data removed]",
      "text/plain": [
       "<Figure size 640x480 with 3 Axes>"
      ]
     },
     "metadata": {},
     "output_type": "display_data"
    },
    {
     "name": "stdout",
     "output_type": "stream",
     "text": [
      "2H2O_rotations/rand_10/2H2O_pao44-1_0.pao: 2.363356e-04\n"
     ]
    },
    {
     "data": {
      "image/png": "[encoded data removed]",
      "text/plain": [
       "<Figure size 640x480 with 3 Axes>"
      ]
     },
     "metadata": {},
     "output_type": "display_data"
    },
    {
     "name": "stdout",
     "output_type": "stream",
     "text": [
      "2H2O_rotations/rand_10/2H2O_pao44-1_0.pao: 1.014191e-03\n"
     ]
    }
   ],
   "source": [
    "batch_size = 1\n",
    "path = Path(\"2H2O_rotations/rand_10/2H2O_pao44-1_0.pao\")\n",
    "test_pao_objects = generate_pao_object_from_file(path)\n",
    "test_pao_objects_O = [pao_object for pao_object in test_pao_objects if pao_object.kind.atomic_number==8]\n",
    "test_dataset_O = PAO_dataset(pao_objects_O)\n",
    "prim_basis_spec = prim_basis_specs[\"O\"]\n",
    "prim_basis_size = o3.Irreps(prim_basis_spec).dim\n",
    "#test_loader_O = DataLoader(test_dataset_O, batch_size=1, shuffle=False)\n",
    "\n",
    "for idx, pao_object in enumerate(test_dataset_O):\n",
    "    fig, axs = plt.subplots(nrows=1, ncols=3)\n",
    "    edge_vecs, atomkinds, label = pao_object\n",
    "    pred = model_O(edge_vecs.unsqueeze(0), atomkinds)\n",
    "    label_projector = label\n",
    "    pred_projector = pred.squeeze().T @ pred.squeeze()\n",
    "    #residual = torch.transpose(pred, dim0=1, dim1=2) - torch.bmm(label, torch.transpose(pred, dim0=1, dim1=2))\n",
    "    axs[0].imshow(pred_projector.detach(), cmap=\"RdBu\",vmin=-0.5, vmax=1)\n",
    "    axs[1].imshow(label_projector.detach(), cmap=\"RdBu\",vmin=-0.5, vmax=1)\n",
    "    axs[2].imshow((label_projector-pred_projector).abs().detach(), cmap=\"Reds\", vmin=0, vmax=2e-2)\n",
    "    #plt.imshow((label_projector @ pred.squeeze().T).T.detach(), cmap=\"RdBu\")\n",
    "    #axs[0].imshow(pred.squeeze().detach(), cmap=\"RdBu\", vmin=-1, vmax=1)\n",
    "    #axs[1].imshow(test_pao_objects_O[idx].xblock.detach(), cmap=\"RdBu\", vmin=-1, vmax=1)\n",
    "    plt.show()\n",
    "    #plt.colorbar()\n",
    "    #plt.show()\n",
    "    test_mae = (label_projector-pred_projector).abs().mean()\n",
    "    print(f\"{path}: {test_mae:e}\")"
   ]
  },
  {
   "cell_type": "code",
   "execution_count": null,
   "metadata": {},
   "outputs": [],
   "source": [
    "batch_size=1\n",
    "for path in sorted(Path().glob(\"2H2O_rotations/rand_*/2H2O_pao44-1_0.pao\")):\n",
    "    pao_objects = generate_pao_object_from_file(path)\n",
    "    pao_objects_O = [pao_object for pao_object in pao_objects if pao_object.kind.atomic_number==8]\n",
    "    kinds, atom2kind, sample_coords, sample_xblocks = parse_pao_file_torch(path)\n",
    "    pred_xblocks = sample_xblocks.copy()\n",
    "    pred_xblocks[0] = model_O(pao_objects_O[0].coords.unsqueeze(dim=0), generate_f_in(pao_objects_O[0]).unsqueeze(dim=0)).squeeze()\n",
    "    pred_xblocks[3] = model_O(pao_objects_O[1].coords.unsqueeze(dim=0), generate_f_in(pao_objects_O[1]).unsqueeze(dim=0)).squeeze()\n",
    "    write_pao_file(path.parent / \"2H2O_pao44_eval.pao\", kinds, atom2kind, sample_coords, pred_xblocks)\n",
    "    ! cd {path.parent}; OMP_NUM_THREADS=8 /data/vdella/software/cp2k/exe/local/cp2k.sdbg 2H2O_pao44_eval.inp > 2H2O_pao44_eval.out\n",
    "    test_energy = read_cp2k_energy(path.parent / \"2H2O_pao44_eval.out\")\n",
    "    ref_energy = read_cp2k_energy(path.parent / \"2H2O_pao44.out\")\n",
    "    rel_diff_energy = (test_energy - ref_energy) / ref_energy\n",
    "    print(f\"{path}: Relative Energy Diff: {rel_diff_energy:e}\")"
   ]
  },
  {
   "cell_type": "code",
   "execution_count": 75,
   "metadata": {},
   "outputs": [
    {
     "name": "stdout",
     "output_type": "stream",
     "text": [
      "Hydrogen, Number of parameters:  1088\n"
     ]
    }
   ],
   "source": [
    "batch_size = 4\n",
    "dataset_H = PAO_dataset(pao_objects_H)\n",
    "training_loader_H = DataLoader(dataset_H, batch_size=batch_size, shuffle=True)\n",
    "tp_H = o3.FullyConnectedTensorProduct(irreps_input, irreps_sh, generate_irreps_output(4, \"H\"), shared_weights=False)\n",
    "num_distances = 10\n",
    "num_layers = 32\n",
    "fc_H = FullyConnectedNet([num_distances, num_layers, tp_H.weight_numel], torch.relu)\n",
    "print(\"Hydrogen, Number of parameters: \", sum(p.numel() for p in fc_H.parameters()))"
   ]
  },
  {
   "cell_type": "code",
   "execution_count": 76,
   "metadata": {},
   "outputs": [],
   "source": [
    "prim_basis_size = o3.Irreps(prim_basis_specs[\"H\"]).dim\n",
    "prim_basis_spec = prim_basis_specs[\"H\"]\n",
    "irreps_output = generate_irreps_output(pao_basis_size, \"H\")\n",
    "D_H = irreps_output.D_from_matrix(change_of_coord)\n",
    "#plt.imshow(D_H, cmap=\"RdBu\", vmin=-1, vmax=1)\n",
    "#plt.colorbar()"
   ]
  },
  {
   "cell_type": "code",
   "execution_count": 77,
   "metadata": {},
   "outputs": [],
   "source": [
    "def model_H(edge_vec, f_in):\n",
    "    sh = o3.spherical_harmonics(irreps_sh, edge_vec, normalize=True, normalization='component')\n",
    "    emb = soft_one_hot_linspace(edge_vec.norm(dim=2), 0.0, max_radius, num_distances,\n",
    "                                basis='smooth_finite', cutoff=True).mul(num_distances**0.5)\n",
    "    flat_xyz = tp_H(f_in, sh, fc_H(emb)).sum(dim=1).div(num_neighbours**0.5)\n",
    "    flat_yzx = torch.matmul(flat_xyz, D_H)\n",
    "    return flat_yzx.reshape(batch_size, pao_basis_size, prim_basis_size)\n",
    "    #return flat_xyz.reshape(batch_size, pao_basis_size, prim_basis_size)"
   ]
  },
  {
   "cell_type": "code",
   "execution_count": 78,
   "metadata": {},
   "outputs": [
    {
     "name": "stdout",
     "output_type": "stream",
     "text": [
      "training     0 | loss 2.07599330e+00\n",
      "training  1000 | loss 3.84395570e-02\n",
      "training  2000 | loss 2.53532249e-02\n",
      "training  3000 | loss 2.33962964e-02\n",
      "training  4000 | loss 2.32074857e-02\n",
      "training  5000 | loss 2.30617840e-02\n",
      "training  6000 | loss 2.29019970e-02\n",
      "training  7000 | loss 2.26813070e-02\n",
      "training  8000 | loss 2.23731585e-02\n",
      "training  9000 | loss 2.22104974e-02\n",
      "training 10000 | loss 2.21124012e-02\n",
      "training 11000 | loss 2.20183078e-02\n",
      "training 12000 | loss 2.18881033e-02\n",
      "training 13000 | loss 2.16705855e-02\n",
      "training 14000 | loss 2.13636104e-02\n",
      "training 15000 | loss 2.10994817e-02\n",
      "training 16000 | loss 2.09092237e-02\n",
      "training 17000 | loss 2.07991786e-02\n",
      "training 18000 | loss 2.07394436e-02\n",
      "training 19000 | loss 2.06994638e-02\n",
      "training 20000 | loss 2.06792690e-02\n",
      "training 21000 | loss 2.06659120e-02\n",
      "training 22000 | loss 2.06564646e-02\n",
      "training 23000 | loss 2.06480213e-02\n",
      "training 24000 | loss 2.06381846e-02\n",
      "training 25000 | loss 2.06291843e-02\n",
      "training 26000 | loss 2.06192974e-02\n",
      "training 27000 | loss 2.06092764e-02\n",
      "training 28000 | loss 2.06000544e-02\n",
      "training 29000 | loss 2.05886140e-02\n",
      "training 30000 | loss 2.05778386e-02\n",
      "training 31000 | loss 2.05644611e-02\n",
      "training 32000 | loss 2.05529779e-02\n",
      "training 33000 | loss 2.05389373e-02\n",
      "training 34000 | loss 2.05274541e-02\n",
      "training 35000 | loss 2.05124021e-02\n",
      "training 36000 | loss 2.05000490e-02\n",
      "training 37000 | loss 2.04817113e-02\n",
      "training 38000 | loss 2.04662029e-02\n",
      "training 39000 | loss 2.04500575e-02\n",
      "training 40000 | loss 2.04346236e-02\n",
      "training 41000 | loss 2.04183292e-02\n",
      "training 42000 | loss 2.04051584e-02\n",
      "training 43000 | loss 2.03919932e-02\n",
      "training 44000 | loss 2.03722268e-02\n",
      "training 45000 | loss 2.03566030e-02\n",
      "training 46000 | loss 2.03377865e-02\n",
      "training 47000 | loss 2.03228854e-02\n",
      "training 48000 | loss 2.03076713e-02\n",
      "training 49000 | loss 2.02889331e-02\n",
      "training 50000 | loss 2.02724319e-02\n",
      "training 51000 | loss 2.02584267e-02\n",
      "training 52000 | loss 2.02418473e-02\n",
      "training 53000 | loss 2.02280376e-02\n",
      "training 54000 | loss 2.02141646e-02\n",
      "training 55000 | loss 2.02002618e-02\n",
      "training 56000 | loss 2.01866087e-02\n",
      "training 57000 | loss 2.01733094e-02\n",
      "training 58000 | loss 2.01636888e-02\n",
      "training 59000 | loss 2.01505590e-02\n",
      "training 60000 | loss 2.01383736e-02\n",
      "training 61000 | loss 2.01269239e-02\n",
      "training 62000 | loss 2.01161876e-02\n",
      "training 63000 | loss 2.01071911e-02\n",
      "training 64000 | loss 2.00992636e-02\n",
      "training 65000 | loss 2.00888626e-02\n",
      "training 66000 | loss 2.00833306e-02\n",
      "training 67000 | loss 2.00744011e-02\n",
      "training 68000 | loss 2.00655404e-02\n",
      "training 69000 | loss 2.00602133e-02\n",
      "training 70000 | loss 2.00533029e-02\n",
      "training 71000 | loss 2.00480893e-02\n",
      "training 72000 | loss 2.00437419e-02\n",
      "training 73000 | loss 2.00387854e-02\n",
      "training 74000 | loss 2.00339537e-02\n",
      "training 75000 | loss 2.00291704e-02\n",
      "training 76000 | loss 2.00243574e-02\n",
      "training 77000 | loss 2.00212672e-02\n",
      "training 78000 | loss 2.00200696e-02\n",
      "training 79000 | loss 2.00158972e-02\n",
      "training 80000 | loss 2.00142544e-02\n",
      "training 81000 | loss 2.00117119e-02\n",
      "training 82000 | loss 2.00101044e-02\n",
      "training 83000 | loss 2.00084001e-02\n",
      "training 84000 | loss 2.00072248e-02\n",
      "training 85000 | loss 2.00061705e-02\n",
      "training 86000 | loss 2.00056601e-02\n",
      "training 87000 | loss 2.00045723e-02\n",
      "training 88000 | loss 2.00044103e-02\n",
      "training 89000 | loss 2.00036950e-02\n",
      "training 90000 | loss 2.00027656e-02\n",
      "training 91000 | loss 2.00024899e-02\n",
      "training 92000 | loss 2.00022813e-02\n",
      "training 93000 | loss 2.00019721e-02\n",
      "training 94000 | loss 2.00013779e-02\n",
      "training 95000 | loss 2.00017020e-02\n",
      "training 96000 | loss 2.00011190e-02\n",
      "training 97000 | loss 2.00010128e-02\n",
      "training 98000 | loss 2.00008657e-02\n",
      "training 99000 | loss 2.00007372e-02\n",
      "training 100000 | loss 2.00008973e-02\n"
     ]
    }
   ],
   "source": [
    "# Train the model.\n",
    "#M_H = Network(generate_irreps_output(4, \"H\"))\n",
    "optim = torch.optim.Adam(fc_H.parameters(), lr=1e-3)\n",
    "train_loss_H = []\n",
    "\n",
    "#for step in range(20001):\n",
    "#    edge_vecs, atomkinds, label = next(iter(training_loader_H))\n",
    "#    pred = model_H(edge_vecs, atomkinds)\n",
    "#    loss = loss_function_1(pred, label)\n",
    "#    optim.zero_grad()\n",
    "#    loss.backward()\n",
    "#    optim.step()\n",
    "#    if step % 1000 == 0:\n",
    "#        print(f\"warm up  {step:5d} | loss {loss:.8e}\")\n",
    "\n",
    "for step in range(100001): \n",
    "    edge_vecs, atomkinds, label = next(iter(training_loader_H))\n",
    "    pred = model_H(edge_vecs, atomkinds)\n",
    "    #pred = M_H(edge_vecs, atomkinds)\n",
    "    loss = loss_function_2(pred, label)\n",
    "    optim.zero_grad()\n",
    "    loss.backward()\n",
    "    optim.step()\n",
    "    if step % 1000 == 0:\n",
    "        train_loss_H.append(loss.detach())\n",
    "        print(f\"training {step:5d} | loss {loss:.8e}\")"
   ]
  },
  {
   "cell_type": "code",
   "execution_count": 79,
   "metadata": {},
   "outputs": [
    {
     "data": {
      "image/png": "[encoded data removed]",
      "text/plain": [
       "<Figure size 640x480 with 1 Axes>"
      ]
     },
     "metadata": {},
     "output_type": "display_data"
    }
   ],
   "source": [
    "plt.plot(list(range(0, 100001,1000)), train_loss_H)\n",
    "plt.yscale(\"log\")\n",
    "plt.show()"
   ]
  },
  {
   "cell_type": "code",
   "execution_count": 90,
   "metadata": {},
   "outputs": [
    {
     "data": {
      "image/png": "[encoded data removed]",
      "text/plain": [
       "<Figure size 640x480 with 3 Axes>"
      ]
     },
     "metadata": {},
     "output_type": "display_data"
    },
    {
     "name": "stdout",
     "output_type": "stream",
     "text": [
      "2H2O_rotations/rand_10/2H2O_pao44-1_0.pao: 4.592306e-03\n"
     ]
    },
    {
     "data": {
      "image/png": "[encoded data removed]",
      "text/plain": [
       "<Figure size 640x480 with 3 Axes>"
      ]
     },
     "metadata": {},
     "output_type": "display_data"
    },
    {
     "name": "stdout",
     "output_type": "stream",
     "text": [
      "2H2O_rotations/rand_10/2H2O_pao44-1_0.pao: 4.416815e-03\n"
     ]
    },
    {
     "data": {
      "image/png": "[encoded data removed]",
      "text/plain": [
       "<Figure size 640x480 with 3 Axes>"
      ]
     },
     "metadata": {},
     "output_type": "display_data"
    },
    {
     "name": "stdout",
     "output_type": "stream",
     "text": [
      "2H2O_rotations/rand_10/2H2O_pao44-1_0.pao: 6.990694e-02\n"
     ]
    },
    {
     "data": {
      "image/png": "[encoded data removed]",
      "text/plain": [
       "<Figure size 640x480 with 3 Axes>"
      ]
     },
     "metadata": {},
     "output_type": "display_data"
    },
    {
     "name": "stdout",
     "output_type": "stream",
     "text": [
      "2H2O_rotations/rand_10/2H2O_pao44-1_0.pao: 7.206249e-02\n"
     ]
    }
   ],
   "source": [
    "batch_size=1\n",
    "path = Path(\"2H2O_rotations/rand_10/2H2O_pao44-1_0.pao\")\n",
    "test_pao_objects = generate_pao_object_from_file(path)\n",
    "test_pao_objects_H = [pao_object for pao_object in pao_objects if pao_object.kind.atomic_number==1]\n",
    "test_dataset_H = PAO_dataset(test_pao_objects_H)\n",
    "prim_basis_spec = prim_basis_specs[\"H\"]\n",
    "prim_basis_size = o3.Irreps(prim_basis_spec).dim\n",
    "#training_loader = DataLoader(dataset, batch_size=batch_size, shuffle=False)\n",
    "\n",
    "for idx, pao_object in enumerate(test_dataset_H):\n",
    "    fig, axs = plt.subplots(nrows=1, ncols=3)\n",
    "    edge_vecs, atomkinds, label = pao_object\n",
    "    pred = model_H(edge_vecs.unsqueeze(0), atomkinds)\n",
    "    label_projector = label\n",
    "    pred_projector = pred.squeeze().T @ pred.squeeze()\n",
    "    axs[0].imshow(pred_projector.detach(), cmap=\"RdBu\",vmin=-0.5, vmax=1)\n",
    "    axs[1].imshow(label_projector.detach(), cmap=\"RdBu\",vmin=-0.5, vmax=1)\n",
    "    axs[2].imshow((label_projector-pred_projector).abs().detach(), cmap=\"Reds\",vmin=0, vmax=5e-2)\n",
    "    #axs[0].imshow(pred.squeeze().detach(), cmap=\"RdBu\", vmin=-1, vmax=1)\n",
    "    #axs[1].imshow(test_pao_objects_H[idx].xblock.detach(), cmap=\"RdBu\", vmin=-1, vmax=1)\n",
    "    plt.show()\n",
    "    test_mae = (label_projector-pred_projector).abs().mean()\n",
    "    print(f\"{path}: {test_mae:e}\")"
   ]
  },
  {
   "cell_type": "code",
   "execution_count": 83,
   "metadata": {},
   "outputs": [
    {
     "name": "stdout",
     "output_type": "stream",
     "text": [
      "2H2O_rotations/rand_00/2H2O_pao44-1_0.pao: Relative Energy Diff: -3.829161e-04\n",
      " SCF run converged in     9 steps.\n",
      "2H2O_rotations/rand_01/2H2O_pao44-1_0.pao: Relative Energy Diff: -3.802680e-04\n",
      " SCF run converged in     9 steps.\n",
      "2H2O_rotations/rand_02/2H2O_pao44-1_0.pao: Relative Energy Diff: -3.810466e-04\n",
      " SCF run converged in     9 steps.\n",
      "2H2O_rotations/rand_03/2H2O_pao44-1_0.pao: Relative Energy Diff: -3.808213e-04\n",
      " SCF run converged in     9 steps.\n",
      "2H2O_rotations/rand_04/2H2O_pao44-1_0.pao: Relative Energy Diff: -3.815911e-04\n",
      " SCF run converged in     9 steps.\n",
      "2H2O_rotations/rand_05/2H2O_pao44-1_0.pao: Relative Energy Diff: -3.798847e-04\n",
      " SCF run converged in     9 steps.\n",
      "2H2O_rotations/rand_06/2H2O_pao44-1_0.pao: Relative Energy Diff: -3.826509e-04\n",
      " SCF run converged in     9 steps.\n",
      "2H2O_rotations/rand_07/2H2O_pao44-1_0.pao: Relative Energy Diff: -3.817588e-04\n",
      " SCF run converged in     9 steps.\n",
      "2H2O_rotations/rand_08/2H2O_pao44-1_0.pao: Relative Energy Diff: -3.819883e-04\n",
      " SCF run converged in     9 steps.\n",
      "2H2O_rotations/rand_09/2H2O_pao44-1_0.pao: Relative Energy Diff: -3.820929e-04\n",
      " SCF run converged in     9 steps.\n",
      "2H2O_rotations/rand_10/2H2O_pao44-1_0.pao: Relative Energy Diff: -3.800925e-04\n",
      " SCF run converged in     9 steps.\n",
      "2H2O_rotations/rand_11/2H2O_pao44-1_0.pao: Relative Energy Diff: -3.810725e-04\n",
      " SCF run converged in     9 steps.\n",
      "2H2O_rotations/rand_12/2H2O_pao44-1_0.pao: Relative Energy Diff: -3.820560e-04\n",
      " SCF run converged in     9 steps.\n",
      "2H2O_rotations/rand_13/2H2O_pao44-1_0.pao: Relative Energy Diff: -3.812995e-04\n",
      " SCF run converged in     9 steps.\n",
      "2H2O_rotations/rand_14/2H2O_pao44-1_0.pao: Relative Energy Diff: -3.795310e-04\n",
      " SCF run converged in     9 steps.\n",
      "2H2O_rotations/rand_15/2H2O_pao44-1_0.pao: Relative Energy Diff: -3.809104e-04\n",
      " SCF run converged in     9 steps.\n",
      "2H2O_rotations/rand_16/2H2O_pao44-1_0.pao: Relative Energy Diff: -3.806437e-04\n",
      " SCF run converged in     9 steps.\n",
      "2H2O_rotations/rand_17/2H2O_pao44-1_0.pao: Relative Energy Diff: -3.793811e-04\n",
      " SCF run converged in     9 steps.\n",
      "2H2O_rotations/rand_18/2H2O_pao44-1_0.pao: Relative Energy Diff: -3.830478e-04\n",
      " SCF run converged in     9 steps.\n",
      "2H2O_rotations/rand_19/2H2O_pao44-1_0.pao: Relative Energy Diff: -3.815598e-04\n",
      " SCF run converged in     9 steps.\n"
     ]
    }
   ],
   "source": [
    "batch_size=1\n",
    "for path in sorted(Path().glob(\"2H2O_rotations/rand_*/2H2O_pao44-1_0.pao\")):\n",
    "    pao_objects = generate_pao_object_from_file(path)\n",
    "    pao_objects_O = [pao_object for pao_object in pao_objects if pao_object.kind.atomic_number==8]\n",
    "    pao_objects_H = [pao_object for pao_object in pao_objects if pao_object.kind.atomic_number==1]\n",
    "    kinds, atom2kind, sample_coords, sample_xblocks = parse_pao_file_torch(path)\n",
    "    pred_xblocks = sample_xblocks.copy()\n",
    "    \n",
    "    prim_basis_size = o3.Irreps(prim_basis_specs[\"O\"]).dim    \n",
    "    pred_xblocks[0] = model_O(pao_objects_O[0].coords.unsqueeze(dim=0), generate_f_in(pao_objects_O[0]).unsqueeze(dim=0)).squeeze()\n",
    "    pred_xblocks[3] = model_O(pao_objects_O[1].coords.unsqueeze(dim=0), generate_f_in(pao_objects_O[1]).unsqueeze(dim=0)).squeeze()\n",
    "    \n",
    "    prim_basis_size = o3.Irreps(prim_basis_specs[\"H\"]).dim\n",
    "    pred_xblocks[1] = model_H(pao_objects_H[0].coords.unsqueeze(dim=0), generate_f_in(pao_objects_H[0]).unsqueeze(dim=0)).squeeze()\n",
    "    pred_xblocks[2] = model_H(pao_objects_H[1].coords.unsqueeze(dim=0), generate_f_in(pao_objects_H[1]).unsqueeze(dim=0)).squeeze()\n",
    "    pred_xblocks[4] = model_H(pao_objects_H[2].coords.unsqueeze(dim=0), generate_f_in(pao_objects_H[2]).unsqueeze(dim=0)).squeeze()\n",
    "    pred_xblocks[5] = model_H(pao_objects_H[3].coords.unsqueeze(dim=0), generate_f_in(pao_objects_H[3]).unsqueeze(dim=0)).squeeze()\n",
    "    \n",
    "    write_pao_file(path.parent / \"2H2O_pao44_eval.pao\", kinds, atom2kind, sample_coords, pred_xblocks)\n",
    "    ! cd {path.parent}; OMP_NUM_THREADS=8 /data/vdella/software/cp2k/exe/local/cp2k.sdbg 2H2O_pao44_eval.inp > 2H2O_pao44_eval.out\n",
    "    test_energy = read_cp2k_energy(path.parent / \"2H2O_pao44_eval.out\")\n",
    "    ref_energy = read_cp2k_energy(path.parent / \"2H2O_pao44.out\")\n",
    "    rel_diff_energy = (test_energy - ref_energy) / ref_energy\n",
    "    print(f\"{path}: Relative Energy Diff: {rel_diff_energy:e}\")\n",
    "    ! grep \"SCF run converged in\" {path.parent}/2H2O_pao44_eval.out"
   ]
  },
  {
   "cell_type": "code",
   "execution_count": 93,
   "metadata": {},
   "outputs": [],
   "source": [
    "# Classes to build own neural network, potentially with more convolutional layers\n",
    "class Convolution(torch.nn.Module):\n",
    "    def __init__(self, irreps_in, irreps_sh, irreps_out, num_neighbors) -> None:\n",
    "        super().__init__()\n",
    "\n",
    "        self.num_neighbors = num_neighbors\n",
    "\n",
    "        tp = FullyConnectedTensorProduct(\n",
    "            irreps_in1=irreps_in,\n",
    "            irreps_in2=irreps_sh,\n",
    "            irreps_out=irreps_out,\n",
    "            internal_weights=False,\n",
    "            shared_weights=False,\n",
    "        )\n",
    "        self.fc = FullyConnectedNet([10, 256, tp.weight_numel], torch.relu)\n",
    "        self.tp = tp\n",
    "        self.irreps_out = self.tp.irreps_out\n",
    "\n",
    "    def forward(self, f_in, sh, emb) -> torch.Tensor:\n",
    "        weight = self.fc(emb)\n",
    "        output = self.tp(f_in, sh, weight).div(self.num_neighbors**0.5)\n",
    "        return output\n",
    "\n",
    "\n",
    "class Network(torch.nn.Module):\n",
    "    def __init__(self, irreps_output) -> None:\n",
    "        super().__init__()\n",
    "        self.num_neighbors = 5  # typical number of neighbors\n",
    "        self.irreps_sh = o3.Irreps.spherical_harmonics(3)\n",
    "        self.irreps_out = irreps_output\n",
    "\n",
    "        irreps = self.irreps_sh\n",
    "\n",
    "        # First layer with gate\n",
    "        gate = Gate(\n",
    "            \"16x0e + 16x0o\", [torch.relu, torch.abs],  # scalar\n",
    "            \"8x0e + 8x0o + 8x0e + 8x0o\", [torch.relu, torch.tanh, torch.relu, torch.tanh],  # gates (scalars)\n",
    "            \"16x1o + 16x1e\"  # gated tensors, num_irreps has to match with gates\n",
    "        )\n",
    "        self.conv = Convolution(irreps_input, self.irreps_sh, gate.irreps_in, self.num_neighbors)\n",
    "        self.gate = gate\n",
    "        irreps = self.gate.irreps_out\n",
    "\n",
    "        # Final layer\n",
    "        self.final = Convolution(self.gate.irreps_out, self.irreps_sh, generate_irreps_output(4, \"H\"), self.num_neighbors)\n",
    "        self.irreps_out = self.final.irreps_out\n",
    "\n",
    "    def forward(self, edge_vecs, atomkinds) -> torch.Tensor:\n",
    "        num_nodes = 5  # typical number of nodes\n",
    "\n",
    "        edge_attr = o3.spherical_harmonics(\n",
    "            l=self.irreps_sh,\n",
    "            x=edge_vecs,\n",
    "            normalize=True,\n",
    "            normalization='component'\n",
    "        )\n",
    "        edge_length_embedded = soft_one_hot_linspace(\n",
    "            x=edge_vecs.norm(dim=2),\n",
    "            start=0.0,\n",
    "            end=4.0,\n",
    "            number=10,\n",
    "            basis='smooth_finite',\n",
    "            cutoff=True\n",
    "        ) * 10**0.5\n",
    "\n",
    "        x = self.conv(atomkinds, edge_attr, edge_length_embedded)\n",
    "        x = self.gate(x)\n",
    "        x = torch.sum(self.final(x, edge_attr, edge_length_embedded), dim=1)\n",
    "        x = torch.matmul(x, D_H)\n",
    "\n",
    "        return x.reshape(batch_size, pao_basis_size, prim_basis_size)"
   ]
  },
  {
   "cell_type": "code",
   "execution_count": null,
   "metadata": {},
   "outputs": [],
   "source": []
  }
 ],
 "metadata": {
  "kernelspec": {
   "display_name": "e3nn",
   "language": "python",
   "name": "e3nn"
  },
  "language_info": {
   "codemirror_mode": {
    "name": "ipython",
    "version": 3
   },
   "file_extension": ".py",
   "mimetype": "text/x-python",
   "name": "python",
   "nbconvert_exporter": "python",
   "pygments_lexer": "ipython3",
   "version": "3.12.0"
  }
 },
 "nbformat": 4,
 "nbformat_minor": 2
}
