{
 "cells": [
  {
   "cell_type": "code",
   "execution_count": 1,
   "metadata": {},
   "outputs": [],
   "source": [
    "%load_ext autoreload\n",
    "%autoreload 2"
   ]
  },
  {
   "cell_type": "code",
   "execution_count": 2,
   "metadata": {},
   "outputs": [],
   "source": [
    "from glob import glob\n",
    "from pao_utils import parse_pao_file, append_samples\n",
    "import pandas as pd\n",
    "import numpy as np\n",
    "\n",
    "import torch\n",
    "import torch.utils.data\n",
    "import se3cnn\n",
    "import livelossplot as llp\n",
    "\n",
    "import sys, os\n",
    "import random\n",
    "import numpy as np\n",
    "\n",
    "from se3cnn.utils import torch_default_dtype\n",
    "import se3cnn.point_utils as point_utils\n",
    "from se3cnn.non_linearities import NormSoftplus\n",
    "from se3cnn.convolution import SE3PointConvolution\n",
    "from se3cnn.blocks.point_norm_block import PointNormBlock \n",
    "from se3cnn.point_kernel import gaussian_radial_function\n",
    "from se3cnn.SO3 import torch_default_dtype\n",
    "\n",
    "from functools import partial\n",
    "\n",
    "torch.set_default_dtype(torch.float64)\n",
    "device = torch.device(\"cuda:2\" if torch.cuda.is_available() else \"cpu\")"
   ]
  },
  {
   "cell_type": "code",
   "execution_count": 3,
   "metadata": {},
   "outputs": [],
   "source": [
    "# Find and parse all .pao files.\n",
    "# Each file corresponds to a molecular configuration, ie. a frame.\n",
    "# Since the system contains multiple atoms, each .pao file contains multiple samples.\n",
    "samples = []\n",
    "for fn in glob(\"2H2O_MD/frame_*/2H2O_pao44-1_0.pao\"):\n",
    "    kinds, atom2kind, coords, xblocks = parse_pao_file(fn)\n",
    "    samples.append({\n",
    "        \"kinds\": kinds,\n",
    "        \"atom2kind\": atom2kind,\n",
    "        \"coords\": coords,\n",
    "        \"xblocks\": xblocks,\n",
    "    })"
   ]
  },
  {
   "cell_type": "code",
   "execution_count": 4,
   "metadata": {},
   "outputs": [],
   "source": [
    "df = pd.DataFrame.from_dict(samples)"
   ]
  },
  {
   "cell_type": "code",
   "execution_count": 5,
   "metadata": {},
   "outputs": [],
   "source": [
    "class PAODataset(object):\n",
    "    def __init__(self, dataframe, max_prim=None, species_list=None, prim_by_species=None, num_pao=4):\n",
    "        self.df = dataframe\n",
    "        self.max_prim = max_prim if max_prim else [2, 2, 1]  # 2 s, 2 p and 2 d shell\n",
    "        self.N = [len(coord) for coord in dataframe['coords']]\n",
    "        self.N_max = np.max(self.N)\n",
    "        self.species_list = species_list if species_list else ['H', 'O']\n",
    "        self.prim_by_species = prim_by_species if prim_by_species else {'H' : [2, 1, 0], 'O' : [2, 2, 1]}\n",
    "        self.num_pao = num_pao\n",
    "                        \n",
    "    def xblock_to_rect(self, prim, xblock):\n",
    "        rect = []\n",
    "        cur_block_index = 0\n",
    "        for l,m in enumerate(self.max_prim):\n",
    "            for i in range(m):\n",
    "                if i <= prim[l] - 1:\n",
    "                    rect.append(xblock[:, cur_block_index:cur_block_index+ (2 * l + 1)])\n",
    "                    cur_block_index += 2 * l + 1\n",
    "                else:\n",
    "                    rect.append(np.zeros([self.num_pao, 2 * l + 1]))\n",
    "        return rect  \n",
    "    \n",
    "    def prim_enc_to_onehot(self, prim):\n",
    "        enc = []\n",
    "        for l,m in enumerate(self.max_prim):\n",
    "            for i in range(m):\n",
    "                if i <= prim[l] - 1:\n",
    "                    enc.append(np.ones(2 * l + 1))\n",
    "                else:\n",
    "                    enc.append(np.zeros(2 * l + 1))\n",
    "        return enc\n",
    "    \n",
    "    def __getitem__(self, index):\n",
    "        data = self.df.loc[index]\n",
    "        species, coords, xblocks = data['atom2kind'], data['coords'], data['xblocks']\n",
    "        N = self.N[index] \n",
    "        \n",
    "        species_onehot = np.zeros([len(self.species_list), self.N_max])  # [species_channels, N]\n",
    "        species_onehot[list(map(self.species_list.index, species)), range(N)] = 1.0\n",
    "        \n",
    "        prim_onehot = np.concatenate([\n",
    "            np.concatenate(\n",
    "                self.prim_enc_to_onehot(\n",
    "                    self.prim_by_species[specie])).reshape(-1, 1) for specie in species\n",
    "        ], axis=-1)  # [prim_channels, N]\n",
    "        \n",
    "        coords_rect = np.zeros([self.N_max, 3])\n",
    "        coords_rect[:N] = coords\n",
    "        \n",
    "        # Not needed for this dataset because N always equals N_max\n",
    "        # but we are showing this for completeness.\n",
    "        mask = np.zeros(self.N_max)\n",
    "        mask[:N] = 1.0\n",
    "        \n",
    "        xblocks_rect = []\n",
    "        for i, (xblock, specie) in enumerate(zip(xblocks, species)):\n",
    "            xblocks_rect.append(\n",
    "                np.concatenate(\n",
    "                    self.xblock_to_rect(self.prim_by_species[specie], xblock), axis=-1).reshape(-1, 1))\n",
    "        xblocks_rect = np.concatenate(xblocks_rect, axis=-1)  # [output_channels, N]\n",
    "            \n",
    "        return (coords_rect, species_onehot, prim_onehot, mask, xblocks_rect)\n",
    "\n",
    "    def __len__(self):\n",
    "        return len(self.df)"
   ]
  },
  {
   "cell_type": "code",
   "execution_count": 6,
   "metadata": {},
   "outputs": [],
   "source": [
    "class PAONet(torch.nn.Module):\n",
    "    def __init__(self, num_radial=4, max_radius=2.5):\n",
    "        super(PAONet, self).__init__()\n",
    "        # atoms types 2 channels [H, O]\n",
    "        features = [(4, 2, 1),  # 2 L=0 for atom type + 2 L=0, 2 L=1, 2 L=2 channels for primitive basis (use 1 and 0 to encode)\n",
    "                    (8, 8, 8),  # hidden layers with filters L=0,1,2\n",
    "                    (8, 8, 8),  # hidden layers with filters L=0,1,2\n",
    "                    (4 * 2, 4 * 2, 4 * 1)]  # 4 pao functions * 2 max channels for prim basis that are linear combinations of different shells\n",
    "        self.num_features = len(features)\n",
    "        \n",
    "        nonlinearity = lambda x: torch.log(0.5 * torch.exp(x) + 0.5)\n",
    "        \n",
    "        sigma = max_radius / num_radial\n",
    "\n",
    "        kwargs = {\n",
    "            'radii': torch.linspace(0, max_radius, steps=num_radial, dtype=torch.float64),\n",
    "            'activation': nonlinearity,\n",
    "            'radial_function': partial(gaussian_radial_function, sigma=2*sigma)\n",
    "        }\n",
    "        # Convolutions with Norm nonlinearity\n",
    "        self.layers = torch.nn.ModuleList([PointNormBlock(features[i], features[i+1], **kwargs) for i in range(0, len(features) - 2)])\n",
    "        # Final layer\n",
    "        self.layers.extend([SE3PointConvolution(self.__Rs_repr(features[-2]), \n",
    "                                               self.__Rs_repr(features[-1]), \n",
    "                                               kwargs['radii'], \n",
    "                                               kwargs['radial_function'])])\n",
    "\n",
    "    def forward(self, input, difference_mat, relative_mask=None):\n",
    "        output = input # [B, N, C]\n",
    "        for layer in self.layers:\n",
    "            output = layer(output, difference_mat, relative_mask)\n",
    "        return output\n",
    "\n",
    "    def __Rs_repr(self, features):\n",
    "        return [(m, l) for l, m in enumerate(features)]\n",
    "\n",
    "    def __capsule_dims(self, Rs):\n",
    "        return [2 * n + 1 for mul, n in Rs for i in range(mul)]"
   ]
  },
  {
   "cell_type": "code",
   "execution_count": 51,
   "metadata": {},
   "outputs": [],
   "source": [
    "def train(net, dataloader):\n",
    "    liveloss = llp.PlotLosses()\n",
    "    net.train()\n",
    "    loss_fn = torch.nn.MSELoss()\n",
    "    optimizer = torch.optim.Adam(net.parameters(),\n",
    "                                 lr=1e-2)\n",
    "    max_epochs = 100\n",
    "    \n",
    "    for epoch in range(max_epochs):\n",
    "        logs = {}\n",
    "        epoch_loss = 0\n",
    "        for data in dataloader:\n",
    "            coords, species, prim, mask, xblocks = data\n",
    "            diff_M = se3cnn.point_utils.difference_matrix(coords)\n",
    "            input = torch.cat([species, prim], dim=-2)\n",
    "            output = net(input, diff_M)\n",
    "            \n",
    "            # Compute loss\n",
    "            loss = loss_fn(output, xblocks)\n",
    "\n",
    "            optimizer.zero_grad()\n",
    "            loss.backward()\n",
    "            optimizer.step()\n",
    "\n",
    "            epoch_loss += loss.item()\n",
    "            \n",
    "        logs['loss'] = epoch_loss / len(dataloader)\n",
    "        liveloss.update(logs)\n",
    "        liveloss.draw()\n",
    "    return net, liveloss"
   ]
  },
  {
   "cell_type": "code",
   "execution_count": 52,
   "metadata": {},
   "outputs": [
    {
     "name": "stdout",
     "output_type": "stream",
     "text": [
      "81\n"
     ]
    }
   ],
   "source": [
    "dataset = PAODataset(df)\n",
    "print(len(dataset))\n",
    "batch_size = 5\n",
    "dataloader = torch.utils.data.DataLoader(dataset, batch_size=batch_size, shuffle=True)\n",
    "net = PAONet()"
   ]
  },
  {
   "cell_type": "code",
   "execution_count": 53,
   "metadata": {},
   "outputs": [
    {
     "data": {
      "image/png": "[encoded data removed]",
      "text/plain": [
       "<Figure size 864x576 with 1 Axes>"
      ]
     },
     "metadata": {
      "needs_background": "light"
     },
     "output_type": "display_data"
    },
    {
     "name": "stdout",
     "output_type": "stream",
     "text": [
      "loss:\n",
      "training   (min:    0.055, max:    0.135, cur:    0.056)\n"
     ]
    },
    {
     "data": {
      "text/plain": [
       "(PAONet(\n",
       "   (layers): ModuleList(\n",
       "     (0): PointNormBlock(\n",
       "       (conv): SE3PointConvolution (SE3PointKernel ([(4, 0), (2, 1), (1, 2)] -> [(8, 0), (8, 1), (8, 2)], radii=tensor([0.0000, 0.8333, 1.6667, 2.5000])), kwargs={})\n",
       "       (act): NormSoftplus()\n",
       "     )\n",
       "     (1): PointNormBlock(\n",
       "       (conv): SE3PointConvolution (SE3PointKernel ([(8, 0), (8, 1), (8, 2)] -> [(8, 0), (8, 1), (8, 2)], radii=tensor([0.0000, 0.8333, 1.6667, 2.5000])), kwargs={})\n",
       "       (act): NormSoftplus()\n",
       "     )\n",
       "     (2): SE3PointConvolution (SE3PointKernel ([(8, 0), (8, 1), (8, 2)] -> [(8, 0), (8, 1), (4, 2)], radii=tensor([0.0000, 0.8333, 1.6667, 2.5000])), kwargs={})\n",
       "   )\n",
       " ), <livelossplot.generic_plot.PlotLosses at 0x7f2c21c14400>)"
      ]
     },
     "execution_count": 53,
     "metadata": {},
     "output_type": "execute_result"
    }
   ],
   "source": [
    "train(net, dataloader)"
   ]
  },
  {
   "cell_type": "code",
   "execution_count": 54,
   "metadata": {},
   "outputs": [],
   "source": [
    "torch.save(net.state_dict(), './first_try_pao_tfn.pth')"
   ]
  },
  {
   "cell_type": "code",
   "execution_count": 55,
   "metadata": {},
   "outputs": [],
   "source": [
    "coords, species, prim, mask, xblocks = dataset.__getitem__(0)\n",
    "channels = np.concatenate([species, prim], axis=0) # [S + P, N]\n",
    "coords = torch.from_numpy(coords).unsqueeze(0)\n",
    "channels = torch.from_numpy(channels).unsqueeze(0)  # [2, 6] + [13, 6] = [15, 6]\n",
    "# mask = torch.from_numpy(mask)  # Don't need this for now\n",
    "diff_M = se3cnn.point_utils.difference_matrix(coords)\n",
    "output = net(channels, diff_M)  # [B, C, N]"
   ]
  },
  {
   "cell_type": "code",
   "execution_count": 56,
   "metadata": {},
   "outputs": [
    {
     "data": {
      "text/plain": [
       "1.269823915231498"
      ]
     },
     "execution_count": 56,
     "metadata": {},
     "output_type": "execute_result"
    }
   ],
   "source": [
    "np.max(np.abs(xblocks - output.detach().numpy()))"
   ]
  },
  {
   "cell_type": "code",
   "execution_count": 72,
   "metadata": {},
   "outputs": [],
   "source": [
    "# xblocks.reshape(4, -1, 6)[:, 5, 0]"
   ]
  },
  {
   "cell_type": "code",
   "execution_count": 73,
   "metadata": {},
   "outputs": [],
   "source": [
    "# output.reshape(4, -1, 6)[:, 5, 0]"
   ]
  },
  {
   "cell_type": "code",
   "execution_count": null,
   "metadata": {},
   "outputs": [],
   "source": []
  }
 ],
 "metadata": {
  "kernelspec": {
   "display_name": "Python 3",
   "language": "python",
   "name": "python3"
  },
  "language_info": {
   "codemirror_mode": {
    "name": "ipython",
    "version": 3
   },
   "file_extension": ".py",
   "mimetype": "text/x-python",
   "name": "python",
   "nbconvert_exporter": "python",
   "pygments_lexer": "ipython3",
   "version": "3.6.6"
  }
 },
 "nbformat": 4,
 "nbformat_minor": 2
}
