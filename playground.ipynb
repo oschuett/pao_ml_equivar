{
 "cells": [
  {
   "cell_type": "code",
   "execution_count": 1,
   "metadata": {},
   "outputs": [],
   "source": [
    "%load_ext autoreload\n",
    "%autoreload 2"
   ]
  },
  {
   "cell_type": "code",
   "execution_count": 2,
   "metadata": {},
   "outputs": [],
   "source": [
    "import numpy as np\n",
    "from glob import glob\n",
    "import itertools\n",
    "from pao_file_utils import parse_pao_file\n",
    "from sympy.physics.quantum.cg import CG"
   ]
  },
  {
   "cell_type": "code",
   "execution_count": 3,
   "metadata": {},
   "outputs": [],
   "source": [
    "#https://github.com/cp2k/cp2k/blob/master/src/common/spherical_harmonics.F\n",
    "def Y_l(r, l):\n",
    "    \"\"\"Real Spherical Harmonics\"\"\"\n",
    "    assert r.shape[-1] == 3\n",
    "\n",
    "    if l < 0:\n",
    "        raise Exceptoin(\"Negative l value\")\n",
    "    elif l == 0:\n",
    "        return np.sqrt(1.0 / (4.0 * np.pi))\n",
    "    elif l == 1:\n",
    "        pf = np.sqrt(3.0 / (4.0 * np.pi))\n",
    "        return pf * r\n",
    "    elif l == 2:\n",
    "        x = r[..., 0]\n",
    "        y = r[..., 1]\n",
    "        z = r[..., 2]\n",
    "        result = np.zeros(5)\n",
    "        # m = 2\n",
    "        pf = np.sqrt(15.0 / (16.0 * np.pi))\n",
    "        result[0] = pf * x**2 - y**2\n",
    "        # m = 1\n",
    "        pf = np.sqrt(15.0 / (4.0 * np.pi))\n",
    "        result[1] = pf * z * x\n",
    "        # m = 0\n",
    "        pf = np.sqrt(5.0 / (16.0 * np.pi))\n",
    "        result[2] = pf * (3.0 * z**2 - 1.0)\n",
    "        # m = -1\n",
    "        pf = np.sqrt(15.0 / (4.0 * np.pi))\n",
    "        result[3] = pf * z * y\n",
    "        # m = -2\n",
    "        pf = np.sqrt(15.0 / (16.0 * np.pi))\n",
    "        result[4] = pf * 2.0 * x * y\n",
    "    return result"
   ]
  },
  {
   "cell_type": "code",
   "execution_count": 72,
   "metadata": {},
   "outputs": [],
   "source": [
    "def convolute(coords, kinds, central_atom):\n",
    "    natoms = coords.shape[0]\n",
    "    assert coords.shape[1] == 3\n",
    "\n",
    "    integrals = []\n",
    "    for l in range(3):  #max_l = 2\n",
    "        for sigma in [0.5, 1.0, 2.0, 3.0, 4.0]:\n",
    "            for ikind in sorted(kinds):\n",
    "                integrals.append(np.zeros(2*l + 1))\n",
    "                for iatom in range(natoms):\n",
    "                    if atom2kind[iatom] == ikind and iatom != central_atom:\n",
    "                        r = coords[central_atom] - coords[iatom]\n",
    "                        angular_part = Y_l(r, l)\n",
    "                        radial_part = np.exp(- np.dot(r,r) / sigma**2)\n",
    "                        integrals[-1] += radial_part * angular_part\n",
    "    return integrals"
   ]
  },
  {
   "cell_type": "code",
   "execution_count": 95,
   "metadata": {},
   "outputs": [],
   "source": [
    "cg_cache = dict()\n",
    "\n",
    "def get_clebsch_gordan_coefficients(li, lj, lo):\n",
    "    global cg_cache\n",
    "    key = (li, lj, lo)\n",
    "    if key not in cg_cache:\n",
    "        coeffs = np.zeros(shape=(2*li+1, 2*lj+1, 2*lo+1))\n",
    "        for mi in range(-li, li+1):\n",
    "            for mj in range(-lj, lj+1):\n",
    "                for mo in range(-lo, lo+1):\n",
    "                    # https://docs.sympy.org/latest/modules/physics/quantum/cg.html\n",
    "                    cg = CG(li, mi, lj, mj, lo, mo).doit() #TODO: cache and vectorize\n",
    "                    coeffs[mi+li, mj+lj, mo+lo] = cg\n",
    "        cg_cache[key] = coeffs\n",
    "    return cg_cache[key]"
   ]
  },
  {
   "cell_type": "code",
   "execution_count": 96,
   "metadata": {},
   "outputs": [],
   "source": [
    "def combinations(channels, max_l):\n",
    "    \"\"\" returns all possbile combinations of input channels up to given max_l \"\"\"\n",
    "    output_channels = list()\n",
    "    for channel_i, channel_j in itertools.combinations_with_replacement(channels, 2):\n",
    "        assert len(channel_i.shape) == len(channel_j.shape) == 1\n",
    "        li = (channel_i.size - 1) // 2\n",
    "        lj = (channel_j.size - 1) // 2\n",
    "        # There li + lj possible ways to combine the two channels.\n",
    "        # We do all of them up to a max_l.\n",
    "        for lo in range(min(max_l, li+lj) + 1): # l of output\n",
    "            channel_o = np.zeros(2*lo+1)\n",
    "            cg = get_clebsch_gordan_coefficients(li, lj, lo)\n",
    "            channel_o = np.einsum(\"i,j,ijo->o\", channel_i, channel_j, cg)\n",
    "            output_channels.append(channel_o)\n",
    "    return output_channels"
   ]
  },
  {
   "cell_type": "code",
   "execution_count": 104,
   "metadata": {},
   "outputs": [
    {
     "name": "stdout",
     "output_type": "stream",
     "text": [
      "initial_channels:  30\n",
      "channel combinations:  1185\n",
      "s channels:  465\n"
     ]
    }
   ],
   "source": [
    "samples = []\n",
    "pao_files = sorted(glob(\"2H2O_MD/frame_*/2H2O_pao44-1_0.pao\"))\n",
    "kinds, atom2kind, coords, xblocks = parse_pao_file(pao_files[0])\n",
    "\n",
    "\n",
    "initial_channels = convolute(coords, kinds, 0)\n",
    "print(\"initial_channels: \", len(initial_channels))\n",
    "\n",
    "comb_channels = combinations(initial_channels, max_l=2)\n",
    "print(\"channel combinations: \", len(comb_channels))\n",
    "\n",
    "s_channels = [c for c in comb_channels if c.size == 1]\n",
    "print(\"s channels: \", len(s_channels))\n",
    "\n",
    "#TODO: build pao basis vector from linear combinations of comb_channels using coefficients w\n",
    "#TODO: build NN that maps takes s_channels as input and outputs coefficients w"
   ]
  }
 ],
 "metadata": {
  "kernelspec": {
   "display_name": "Python 3",
   "language": "python",
   "name": "python3"
  },
  "language_info": {
   "codemirror_mode": {
    "name": "ipython",
    "version": 3
   },
   "file_extension": ".py",
   "mimetype": "text/x-python",
   "name": "python",
   "nbconvert_exporter": "python",
   "pygments_lexer": "ipython3",
   "version": "3.6.7"
  }
 },
 "nbformat": 4,
 "nbformat_minor": 2
}
