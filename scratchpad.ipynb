{
 "cells": [
  {
   "cell_type": "markdown",
   "id": "38d5c969",
   "metadata": {},
   "source": [
    "# Scratchpad"
   ]
  },
  {
   "cell_type": "code",
   "execution_count": null,
   "id": "1ebd52ff",
   "metadata": {},
   "outputs": [],
   "source": [
    "# Torch module for learnable rotation matrix\n",
    "class RotationMatrix(torch.nn.Module):\n",
    "    def __init__(self, dim):\n",
    "        super().__init__()\n",
    "        self.dim = dim\n",
    "        # TODO unse only n_angle params\n",
    "        #num_angles = (dim-1) * dim // 2 \n",
    "        self.angles = torch.nn.Parameter(torch.zeros(dim, dim))\n",
    "        self.eye = torch.eye(dim)\n",
    "\n",
    "    def forward(self, x):\n",
    "        rotation_matrix = self.eye\n",
    "        for i in range(self.dim):\n",
    "            for j in range(i + 1, self.dim):\n",
    "                vi = self.eye[i]\n",
    "                vj = self.eye[j]\n",
    "                V = torch.outer(vi, vi) + torch.outer(vj, vj)\n",
    "                W = torch.outer(vi, vj) - torch.outer(vj, vi)\n",
    "                angle = self.angles[i, j]  # TODO unse only n_angle params\n",
    "                cos_term = torch.cos(angle) - 1\n",
    "                sin_term = torch.sin(angle)\n",
    "                rot_ij = self.eye + cos_term * V  + sin_term * W\n",
    "                rotation_matrix = rot_ij @ rotation_matrix\n",
    "        return rotation_matrix @ x"
   ]
  },
  {
   "cell_type": "code",
   "execution_count": null,
   "id": "b2fa5f14",
   "metadata": {},
   "outputs": [],
   "source": [
    "def align(label, pred):\n",
    "    \n",
    "    target = pred.detach()\n",
    "    rot = RotationMatrix(pao_basis_size)\n",
    "    optim = torch.optim.Adam(rot.parameters())\n",
    "\n",
    "    for step in range(1000):\n",
    "        rotated_label = rot(label)\n",
    "        loss = - (target * rotated_label).sum().pow(2)\n",
    "        optim.zero_grad()\n",
    "        loss.backward()\n",
    "        optim.step()\n",
    "    #if step % 10 == 0:\n",
    "    #    print(f\"rot  {step:5d} | loss {loss:.8e}\")\n",
    "\n",
    "    angles_sum = rot.angles.abs().sum()\n",
    "    print(f\"aligned, total angle sum: {angles_sum:.1f}, loss: {loss}\")\n",
    "    return rotated_label.detach()"
   ]
  },
  {
   "cell_type": "code",
   "execution_count": null,
   "id": "765d534d",
   "metadata": {},
   "outputs": [],
   "source": [
    "labels = [align(label, model(edge_vec)) for edge_vec, label in zip(edge_vecs, labels)]"
   ]
  }
 ],
 "metadata": {
  "kernelspec": {
   "display_name": "Python 3 (ipykernel)",
   "language": "python",
   "name": "python3"
  },
  "language_info": {
   "codemirror_mode": {
    "name": "ipython",
    "version": 3
   },
   "file_extension": ".py",
   "mimetype": "text/x-python",
   "name": "python",
   "nbconvert_exporter": "python",
   "pygments_lexer": "ipython3",
   "version": "3.10.12"
  }
 },
 "nbformat": 4,
 "nbformat_minor": 5
}
