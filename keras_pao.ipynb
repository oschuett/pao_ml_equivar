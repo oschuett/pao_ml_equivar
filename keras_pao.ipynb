{
 "cells": [
  {
   "cell_type": "code",
   "execution_count": 1,
   "metadata": {},
   "outputs": [],
   "source": [
    "%load_ext autoreload\n",
    "%autoreload 2"
   ]
  },
  {
   "cell_type": "code",
   "execution_count": 2,
   "metadata": {},
   "outputs": [],
   "source": [
    "import numpy as np\n",
    "from glob import glob\n",
    "import itertools\n",
    "from pao_file_utils import parse_pao_file\n",
    "\n",
    "import tensorflow as tf\n",
    "from tensorflow import keras\n",
    "from tensorflow.keras import layers\n",
    "import matplotlib.pyplot as plt"
   ]
  },
  {
   "cell_type": "code",
   "execution_count": 3,
   "metadata": {},
   "outputs": [],
   "source": [
    "from spherical_harmonics import Y_l, get_clebsch_gordan_coefficients_sympy, get_clebsch_gordan_coefficients_table #, get_clebsch_gordan_coefficients_new\n",
    "get_clebsch_gordan_coefficients = get_clebsch_gordan_coefficients_sympy\n",
    "#get_clebsch_gordan_coefficients = get_clebsch_gordan_coefficients_table\n",
    "#get_clebsch_gordan_coefficients = get_clebsch_gordan_coefficients_new\n"
   ]
  },
  {
   "cell_type": "code",
   "execution_count": 4,
   "metadata": {},
   "outputs": [],
   "source": [
    "def convolute(coords, atom2kind, central_atom, max_l):\n",
    "    natoms = coords.shape[0]\n",
    "    assert coords.shape[1] == 3\n",
    "    kind_names = list(sorted(set(atom2kind)))\n",
    "    integrals = []\n",
    "    for l in range(max_l + 1):\n",
    "        for sigma in [0.5, 1.0, 2.0, 3.0, 4.0]:\n",
    "            for ikind in kind_names:\n",
    "                integrals.append(np.zeros(2*l + 1))\n",
    "                for iatom in range(natoms):\n",
    "                    if atom2kind[iatom] == ikind and iatom != central_atom:\n",
    "                        r = coords[central_atom] - coords[iatom]\n",
    "                        angular_part = Y_l(r, l)\n",
    "                        radial_part = np.exp(- np.dot(r,r) / sigma**2)\n",
    "                        integrals[-1] += radial_part * angular_part\n",
    "    return integrals"
   ]
  },
  {
   "cell_type": "code",
   "execution_count": 5,
   "metadata": {},
   "outputs": [],
   "source": [
    "def combinations(channels, max_l):\n",
    "    \"\"\" returns all possbile combinations of input channels up to given max_l \"\"\"\n",
    "    output_channels = list()\n",
    "    for channel_i, channel_j in itertools.combinations_with_replacement(channels, 2):\n",
    "        assert len(channel_i.shape) == len(channel_j.shape) == 1\n",
    "        li = (channel_i.size - 1) // 2\n",
    "        lj = (channel_j.size - 1) // 2\n",
    "        # There li + lj possible ways to combine the two channels.\n",
    "        # We do all of them up to a max_l.\n",
    "        lo_min = abs(li-lj)\n",
    "        lo_max = min(li+lj, max_l)\n",
    "        for lo in range(lo_min, lo_max + 1): # l of output\n",
    "            channel_o = np.zeros(2*lo+1)\n",
    "            cg = get_clebsch_gordan_coefficients(li, lj, lo)\n",
    "            channel_o = np.einsum(\"i,j,ijo->o\", channel_i, channel_j, cg)\n",
    "            output_channels.append(channel_o)\n",
    "    return output_channels"
   ]
  },
  {
   "cell_type": "code",
   "execution_count": 6,
   "metadata": {},
   "outputs": [],
   "source": [
    "# Load training data and hard code metadata.\n",
    "#pao_files = sorted(glob(\"2H2O_MD/frame_*/2H2O_pao44-1_0.pao\"))\n",
    "#pao_files = sorted(glob(\"2H2O_rotations/phi_*/2H2O_pao44-1_0.pao\"))\n",
    "pao_files = sorted(glob(\"2H2O_rotations/*/2H2O_pao44-1_0.pao\"))\n",
    "\n",
    "prim_basis_shells = {\n",
    "    'H': [2, 1, 0], # two s-shells, one p-shell, no d-shells\n",
    "    'O': [2, 2, 1], # two s-shells, two p-shells, one d-shell\n",
    "}\n",
    "\n",
    "pao_basis_size = 4"
   ]
  },
  {
   "cell_type": "code",
   "execution_count": 7,
   "metadata": {},
   "outputs": [
    {
     "name": "stdout",
     "output_type": "stream",
     "text": [
      "\n",
      "Dataset for:  H\n",
      "samples:  224\n",
      "s channels:  110\n",
      "p channels:  155\n",
      "d channels:  0\n",
      "\n",
      "Dataset for:  O\n",
      "samples:  112\n",
      "s channels:  165\n",
      "p channels:  310\n",
      "d channels:  310\n"
     ]
    }
   ],
   "source": [
    "class Sample:\n",
    "    def __init__(self, channels, xblock, iatom, coords):\n",
    "        self.channels = channels\n",
    "        self.xblock = xblock\n",
    "        self.iatom = iatom # just for debugging\n",
    "        self.coords = coords # just for debugging\n",
    "        #TODO generalize\n",
    "        self.s_channel_list = [c for c in channels if c.size == 1]\n",
    "        self.p_channel_list = [c for c in channels if c.size == 3]\n",
    "        self.d_channel_list = [c for c in channels if c.size == 5]\n",
    "\n",
    "        self.s_channels = np.concatenate(self.s_channel_list)\n",
    "        self.p_channels = np.stack(self.p_channel_list).T\n",
    "        if (self.d_channel_list):\n",
    "            self.d_channels = np.stack(self.d_channel_list).T\n",
    "        else:\n",
    "            self.d_channels = np.zeros(shape=[])\n",
    "\n",
    "def build_dataset(kind_name, max_l):\n",
    "    samples = []\n",
    "    for fn in pao_files:\n",
    "        kinds, atom2kind, coords, xblocks = parse_pao_file(fn)\n",
    "        natoms = coords.shape[0]\n",
    "        for iatom in range(natoms):\n",
    "            if atom2kind[iatom] == kind_name:\n",
    "                initial_channels = convolute(coords, atom2kind, iatom, max_l)\n",
    "                if True: # apply combination\n",
    "                    comb_channels = combinations(initial_channels, max_l)\n",
    "                    sample = Sample(comb_channels, xblocks[iatom], iatom, coords)\n",
    "                else:\n",
    "                    sample = Sample(initial_channels, xblocks[iatom], iatom, coords)\n",
    "                samples.append(sample)\n",
    "\n",
    "    print(\"\\nDataset for: \", kind_name)\n",
    "    print(\"samples: \", len(samples))\n",
    "    print(\"s channels: \", len(samples[0].s_channel_list))\n",
    "    print(\"p channels: \", len(samples[0].p_channel_list))\n",
    "    print(\"d channels: \", len(samples[0].d_channel_list))\n",
    "    return samples\n",
    "    \n",
    "def samples2xy(samples):\n",
    "    s_input = np.array([s.s_channels for s in samples], np.float32)\n",
    "    p_input = np.array([s.p_channels for s in samples], np.float32)\n",
    "    d_input = np.array([s.d_channels for s in samples], np.float32)\n",
    "    x_data = [s_input, p_input, d_input]\n",
    "    y_data = np.array([s.xblock for s in samples], np.float32)\n",
    "    return x_data, y_data\n",
    "\n",
    "H_dataset = build_dataset(\"H\", max_l=1)\n",
    "O_dataset = build_dataset(\"O\", max_l=2)"
   ]
  },
  {
   "cell_type": "code",
   "execution_count": 8,
   "metadata": {},
   "outputs": [],
   "source": [
    "#TODO implement custom layer instead of Dense + Lambda:\n",
    "def contract(args):\n",
    "    assert len(args) == 2\n",
    "    coeffs = args[0]\n",
    "    channels = args[1]\n",
    "    return tf.reduce_sum(coeffs[...,None,:] * channels, axis=-1)\n",
    "\n",
    "def build_model(first_sample, pao_basis_size, prim_basis_shells, num_hidden_layers, hidden_layers_width):\n",
    "    \n",
    "    prim_basis_size = sum([(2*l+1)*n for l, n in enumerate(prim_basis_shells)])\n",
    "    num_p_channels = len(first_sample.p_channel_list)\n",
    "    num_d_channels = len(first_sample.d_channel_list)\n",
    "    \n",
    "    # define two sets of inputs\n",
    "    s_input = layers.Input(shape=first_sample.s_channels.shape, name=\"s_input\")\n",
    "    p_input = layers.Input(shape=first_sample.p_channels.shape, name=\"p_input\")\n",
    "    d_input = layers.Input(shape=first_sample.d_channels.shape, name=\"d_input\")\n",
    "    \n",
    "    #TODO: add more hidden layers\n",
    "    hidden_out = s_input\n",
    "    for i in range(num_hidden_layers):\n",
    "        hidden_out = layers.Dense(hidden_layers_width, activation='softmax', name=f\"hidden_layer_{i}\")(hidden_out)\n",
    "            \n",
    "    pao_output = []\n",
    "    for i in range(pao_basis_size):\n",
    "        for l, n in enumerate(prim_basis_shells):\n",
    "            for j in range(n):\n",
    "                name = f\"{i}{l}{j}\"\n",
    "                if l == 0:\n",
    "                    s_out = layers.Dense(1, name=\"coeffs_\"+name)(hidden_out)\n",
    "                    pao_output.append(s_out)\n",
    "                elif l == 1:\n",
    "                    p_coeffs = layers.Dense(num_p_channels, name=\"coeffs_\"+name)(hidden_out)\n",
    "                    contract_layer = layers.Lambda(contract, name=\"contr_\"+name)\n",
    "                    p_out = contract_layer([p_coeffs, p_input])\n",
    "                    pao_output.append(p_out)\n",
    "                elif l == 2:\n",
    "                    d_coeffs = layers.Dense(num_d_channels, name=\"coeffs_\"+name)(hidden_out)\n",
    "                    contract_layer = layers.Lambda(contract, name=\"contr_\"+name)\n",
    "                    d_out = contract_layer([d_coeffs, d_input])\n",
    "                    pao_output.append(d_out)\n",
    "                else:\n",
    "                    raise Exception(\"Not implemented\")\n",
    "    \n",
    "    xvec = layers.concatenate(pao_output)\n",
    "    xblock = layers.Reshape((pao_basis_size, prim_basis_size))(xvec) #TODO: maybe transpose?\n",
    "\n",
    "    inputs = [s_input, p_input, d_input]\n",
    "    model = keras.Model(inputs=inputs, outputs=xblock)\n",
    "    #model.summary()\n",
    "    return(model)\n",
    "\n",
    "H_model = build_model(H_dataset[0], pao_basis_size, prim_basis_shells['H'], num_hidden_layers=10, hidden_layers_width=10)\n",
    "O_model = build_model(O_dataset[0], pao_basis_size, prim_basis_shells['O'], num_hidden_layers=10, hidden_layers_width=10)"
   ]
  },
  {
   "cell_type": "code",
   "execution_count": 9,
   "metadata": {},
   "outputs": [],
   "source": [
    "def loss_function(xblock_true, xblock_pred):\n",
    "    #TODO: This might not be ideal as it implicitly forces the predicted basis vectors to be orthonormal.\n",
    "    projector = tf.matmul(xblock_pred, xblock_pred, transpose_a=True)\n",
    "    residual = xblock_true - tf.matmul(xblock_true, projector)\n",
    "    return tf.reduce_mean(tf.pow(residual, 2))\n",
    "\n",
    "optimizer = tf.keras.optimizers.Adam(learning_rate=1e-2)\n",
    "H_model.compile(optimizer, loss=loss_function)\n",
    "O_model.compile(optimizer, loss=loss_function)"
   ]
  },
  {
   "cell_type": "code",
   "execution_count": 10,
   "metadata": {},
   "outputs": [],
   "source": [
    "class TrainingLogger(keras.callbacks.Callback):\n",
    "    def on_train_begin(self, logs={}):\n",
    "        self.epoch_counter = 0\n",
    "    def on_epoch_end(self, epoch, logs={}):\n",
    "        self.epoch_counter += 1\n",
    "        if self.epoch_counter % 50 == 0:\n",
    "            print(\"Epoch: {} Loss: {}\".format(self.epoch_counter, logs['loss']))"
   ]
  },
  {
   "cell_type": "code",
   "execution_count": 11,
   "metadata": {},
   "outputs": [
    {
     "name": "stdout",
     "output_type": "stream",
     "text": [
      "Epoch: 50 Loss: 0.0185531172901392\n",
      "Epoch: 100 Loss: 3.237586861359887e-05\n",
      "Epoch: 150 Loss: 2.9464860062944354e-07\n",
      "Epoch: 200 Loss: 9.124578315145015e-10\n",
      "Epoch: 250 Loss: 6.0346788330334356e-12\n",
      "Epoch: 300 Loss: 7.141162661206124e-14\n",
      "Epoch: 350 Loss: 3.87329066186431e-15\n",
      "Epoch: 400 Loss: 2.4605318206771505e-15\n",
      "Epoch: 450 Loss: 1.4944990029048567e-14\n",
      "Epoch: 500 Loss: 4.016231706878209e-15\n",
      "Epoch: 550 Loss: 1.3060385767121006e-14\n",
      "Epoch: 600 Loss: 3.592959178739868e-15\n",
      "Epoch: 650 Loss: 5.258987859177878e-15\n",
      "Epoch: 700 Loss: 1.082814393704723e-14\n",
      "Epoch: 750 Loss: 5.184741609702776e-15\n",
      "Epoch: 800 Loss: 9.35987415638705e-15\n",
      "Epoch: 850 Loss: 5.0584536559483695e-15\n",
      "Epoch: 900 Loss: 9.387629732002679e-15\n",
      "Epoch: 950 Loss: 9.332812300755222e-15\n",
      "Epoch: 1000 Loss: 3.709532511622215e-15\n"
     ]
    },
    {
     "data": {
      "image/png": "[encoded data removed]",
      "text/plain": [
       "<Figure size 432x288 with 1 Axes>"
      ]
     },
     "metadata": {
      "needs_background": "light"
     },
     "output_type": "display_data"
    }
   ],
   "source": [
    "H1_dataset = [s for s in H_dataset if s.iatom==1]\n",
    "x_train, y_train = samples2xy(H1_dataset[0:1])\n",
    "H_model.fit(x_train, y_train, epochs=1000, verbose=0, callbacks=[TrainingLogger()]);\n",
    "\n",
    "losses = []\n",
    "for s in H1_dataset:\n",
    "    x_test, y_test = samples2xy([s])\n",
    "    loss = H_model.evaluate(x_test, y_test, verbose=0)\n",
    "    losses.append(loss)\n",
    "\n",
    "plt.yscale('log')\n",
    "plt.plot(losses);"
   ]
  },
  {
   "cell_type": "code",
   "execution_count": null,
   "metadata": {},
   "outputs": [],
   "source": [
    "O3_dataset = [s for s in O_dataset if s.iatom==3]\n",
    "x_train, y_train = samples2xy(O3_dataset[0:1])\n",
    "O_model.fit(x_train, y_train, epochs=1000, verbose=0, callbacks=[TrainingLogger()]);\n",
    "\n",
    "losses = []\n",
    "for s in O3_dataset:\n",
    "    x_test, y_test = samples2xy([s])\n",
    "    loss = O_model.evaluate(x_test, y_test, verbose=0)\n",
    "    losses.append(loss)\n",
    "\n",
    "plt.yscale('log')\n",
    "plt.plot(losses);"
   ]
  },
  {
   "cell_type": "code",
   "execution_count": null,
   "metadata": {},
   "outputs": [],
   "source": [
    "#x_test, y_test = samples2xy(O3_dataset[1:2])\n",
    "#print(O_model.predict(x_test)[0,0,:])\n",
    "print(O_model.predict(x_train)[0,0,:])\n",
    "#print(y_test[0,0,:])\n",
    "print(y_train[0,0,:])"
   ]
  },
  {
   "cell_type": "code",
   "execution_count": null,
   "metadata": {},
   "outputs": [],
   "source": [
    "len(H_dataset)"
   ]
  },
  {
   "cell_type": "code",
   "execution_count": null,
   "metadata": {},
   "outputs": [],
   "source": [
    "get_clebsch_gordan_coefficients_new(1,1,1)"
   ]
  },
  {
   "cell_type": "code",
   "execution_count": null,
   "metadata": {},
   "outputs": [],
   "source": [
    "from sympy.physics.quantum.cg import CG, Wigner3j"
   ]
  },
  {
   "cell_type": "code",
   "execution_count": null,
   "metadata": {},
   "outputs": [],
   "source": [
    "CG(1, 0, 1, 1, 1, 2).doit() "
   ]
  },
  {
   "cell_type": "code",
   "execution_count": null,
   "metadata": {},
   "outputs": [],
   "source": [
    "Wigner3j(1, 0, 1, 0, 1, 0).doit() "
   ]
  },
  {
   "cell_type": "code",
   "execution_count": null,
   "metadata": {},
   "outputs": [],
   "source": [
    "get_clebsch_gordan_coefficients_sympy(1,1,0)[:,:,0]"
   ]
  },
  {
   "cell_type": "code",
   "execution_count": null,
   "metadata": {},
   "outputs": [],
   "source": [
    "get_clebsch_gordan_coefficients_table(1,1,0)[:,:,0]"
   ]
  },
  {
   "cell_type": "code",
   "execution_count": null,
   "metadata": {},
   "outputs": [],
   "source": [
    "O_dataset[0].d_channels"
   ]
  },
  {
   "cell_type": "code",
   "execution_count": null,
   "metadata": {},
   "outputs": [],
   "source": [
    "j1 = 0.5\n",
    "j2 = 0.5\n",
    "j3 = 0\n",
    "m1 = -0.5\n",
    "m2 = 0.5\n",
    "m3 = 0.0\n",
    "CG(j1, m1, j2, m2, j3, m3).doit() "
   ]
  },
  {
   "cell_type": "code",
   "execution_count": null,
   "metadata": {},
   "outputs": [],
   "source": [
    "import numpy as np"
   ]
  },
  {
   "cell_type": "code",
   "execution_count": null,
   "metadata": {},
   "outputs": [],
   "source": [
    "def get_clebsch_gordan_coefficients_new(li, lj, lo):\n",
    "    from sympy.physics.quantum.cg import Wigner3j\n",
    "    #TODO maybe rename lo -> lk ?\n",
    "    assert abs(li-lj) <= lo <= abs(li+lj)\n",
    "\n",
    "    #cg0 = CG(li, 0, lj, 0, lo, 0).doit() \n",
    "    #numerator = (2*li+1) * (2*lj+1)\n",
    "    #denominator = 4 * np.pi * (2*lo+1)\n",
    "    #pre_factor = cg0 * np.sqrt(numerator \n",
    "\n",
    "    coeffs = np.zeros(shape=(2*li+1, 2*lj+1, 2*lo+1))\n",
    "    for mi in range(-li, li+1):\n",
    "        for mj in range(-lj, lj+1):\n",
    "            for mo in range(-lo, lo+1):\n",
    "                cg = Wigner3j(li, mi, lj, mj, lo, mo).doit()\n",
    "                coeffs[mi+li, mj+lj, mo+lo]\n",
    "    return coeffs\n",
    "\n",
    "get_clebsch_gordan_coefficients_new(1,1,0)[:,:,0]"
   ]
  },
  {
   "cell_type": "code",
   "execution_count": null,
   "metadata": {},
   "outputs": [],
   "source": [
    "def get_clebsch_gordan_coefficients_sympy(li, lj, lo):\n",
    "    from sympy.physics.quantum.cg import CG\n",
    "    #TODO maybe rename lo -> lk ?\n",
    "    assert abs(li-lj) <= lo <= abs(li+lj)\n",
    "    coeffs = np.zeros(shape=(2*li+1, 2*lj+1, 2*lo+1))\n",
    "    for mi in range(-li, li+1):\n",
    "        for mj in range(-lj, lj+1):\n",
    "            for mo in range(-lo, lo+1):  \n",
    "                # https://docs.sympy.org/latest/modules/physics/quantum/cg.html\n",
    "                cg = CG(li, mi, lj, mj, lo, mo).doit()\n",
    "                #cg = CG(lo, mo, li, mi, lj, mj).doit()\n",
    "                #factor = pow(-1, mj+1)\n",
    "                factor = 1.0\n",
    "                coeffs[mi+li, mj+lj, mo+lo] = cg * factor\n",
    "    return coeffs\n",
    "\n",
    "get_clebsch_gordan_coefficients_sympy(1,1,0)[:,:,0]"
   ]
  },
  {
   "cell_type": "code",
   "execution_count": null,
   "metadata": {},
   "outputs": [],
   "source": [
    "get_clebsch_gordan_coefficients_sympy(1,1,1)[:,:,0]"
   ]
  },
  {
   "cell_type": "code",
   "execution_count": null,
   "metadata": {},
   "outputs": [],
   "source": [
    "get_clebsch_gordan_coefficients_table(1,1,1)[:,:,0]"
   ]
  },
  {
   "cell_type": "code",
   "execution_count": null,
   "metadata": {},
   "outputs": [],
   "source": [
    "get_clebsch_gordan_coefficients_table(1,1,1)[:,:,1]"
   ]
  },
  {
   "cell_type": "code",
   "execution_count": null,
   "metadata": {},
   "outputs": [],
   "source": [
    "get_clebsch_gordan_coefficients_table(1,1,1)[:,:,2]"
   ]
  },
  {
   "cell_type": "code",
   "execution_count": 14,
   "metadata": {},
   "outputs": [],
   "source": [
    "from sympy.physics.quantum.spin import WignerD\n",
    "from sympy import pi"
   ]
  },
  {
   "cell_type": "code",
   "execution_count": 32,
   "metadata": {},
   "outputs": [
    {
     "data": {
      "text/latex": [
       "$\\displaystyle 1$"
      ],
      "text/plain": [
       "1"
      ]
     },
     "execution_count": 32,
     "metadata": {},
     "output_type": "execute_result"
    }
   ],
   "source": [
    "j=1\n",
    "m=0\n",
    "mp=0\n",
    "alpha=pi/10\n",
    "beta=0\n",
    "gamma=0\n",
    "for m1\n",
    "WignerD(j, m, mp, alpha, beta, gamma).doit()"
   ]
  },
  {
   "cell_type": "code",
   "execution_count": 36,
   "metadata": {},
   "outputs": [
    {
     "data": {
      "text/plain": [
       "array([[0.26749883+0.96355819j, 0.        +0.j        ,\n",
       "        0.        +0.j        ],\n",
       "       [0.        +0.j        , 1.        +0.j        ,\n",
       "        0.        +0.j        ],\n",
       "       [0.        +0.j        , 0.        +0.j        ,\n",
       "        0.26749883-0.96355819j]])"
      ]
     },
     "execution_count": 36,
     "metadata": {},
     "output_type": "execute_result"
    }
   ],
   "source": [
    "def get_wignerD_matrix(l, alpha=0, beta=0, gamma=0):\n",
    "    D = np.zeros(shape=(2*l+1, 2*l+1), dtype=complex)\n",
    "    for mi in range(-l, l+1):\n",
    "        for mo in range(-l, l+1):\n",
    "            D[mi+l, mo+l] = WignerD(j, mi, mo, alpha, beta, gamma).doit()\n",
    "    return D\n",
    "\n",
    "get_wignerD_matrix(l=1, alpha=1.3)"
   ]
  },
  {
   "cell_type": "code",
   "execution_count": null,
   "metadata": {},
   "outputs": [],
   "source": [
    "cg_matrix = get_clebsch_gordan_coefficients_sympy(1,1,1)"
   ]
  },
  {
   "cell_type": "code",
   "execution_count": 4,
   "metadata": {},
   "outputs": [
    {
     "ename": "ModuleNotFoundError",
     "evalue": "No module named 'pinchon_hoggan'",
     "output_type": "error",
     "traceback": [
      "\u001b[0;31m---------------------------------------------------------------------------\u001b[0m",
      "\u001b[0;31mModuleNotFoundError\u001b[0m                       Traceback (most recent call last)",
      "\u001b[0;32m<ipython-input-4-66686dde8e04>\u001b[0m in \u001b[0;36m<module>\u001b[0;34m\u001b[0m\n\u001b[1;32m      1\u001b[0m \u001b[0;31m#lie_learn/representations/SO3/clebsch_gordan_numerical.\u001b[0m\u001b[0;34m\u001b[0m\u001b[0;34m\u001b[0m\u001b[0;34m\u001b[0m\u001b[0m\n\u001b[0;32m----> 2\u001b[0;31m \u001b[0;32mfrom\u001b[0m \u001b[0mlie_learn\u001b[0m\u001b[0;34m.\u001b[0m\u001b[0mrepresentations\u001b[0m\u001b[0;34m.\u001b[0m\u001b[0mSO3\u001b[0m \u001b[0;32mimport\u001b[0m \u001b[0mclebsch_gordan_numerical\u001b[0m\u001b[0;34m\u001b[0m\u001b[0;34m\u001b[0m\u001b[0m\n\u001b[0m",
      "\u001b[0;32m/usr/local/lib/python3.6/dist-packages/lie_learn/representations/SO3/clebsch_gordan_numerical.py\u001b[0m in \u001b[0;36m<module>\u001b[0;34m\u001b[0m\n\u001b[1;32m     29\u001b[0m \u001b[0;34m\u001b[0m\u001b[0m\n\u001b[1;32m     30\u001b[0m \u001b[0;32mimport\u001b[0m \u001b[0mnumpy\u001b[0m \u001b[0;32mas\u001b[0m \u001b[0mnp\u001b[0m\u001b[0;34m\u001b[0m\u001b[0;34m\u001b[0m\u001b[0m\n\u001b[0;32m---> 31\u001b[0;31m \u001b[0;32mfrom\u001b[0m \u001b[0mpinchon_hoggan\u001b[0m \u001b[0;32mimport\u001b[0m \u001b[0;34m*\u001b[0m\u001b[0;34m\u001b[0m\u001b[0;34m\u001b[0m\u001b[0m\n\u001b[0m\u001b[1;32m     32\u001b[0m \u001b[0;34m\u001b[0m\u001b[0m\n\u001b[1;32m     33\u001b[0m \u001b[0;34m\u001b[0m\u001b[0m\n",
      "\u001b[0;31mModuleNotFoundError\u001b[0m: No module named 'pinchon_hoggan'"
     ]
    }
   ],
   "source": [
    "#lie_learn/representations/SO3/clebsch_gordan_numerical.\n",
    "from lie_learn.representations.SO3 import clebsch_gordan_numerical"
   ]
  },
  {
   "cell_type": "code",
   "execution_count": null,
   "metadata": {},
   "outputs": [],
   "source": []
  }
 ],
 "metadata": {
  "kernelspec": {
   "display_name": "Python 3",
   "language": "python",
   "name": "python3"
  },
  "language_info": {
   "codemirror_mode": {
    "name": "ipython",
    "version": 3
   },
   "file_extension": ".py",
   "mimetype": "text/x-python",
   "name": "python",
   "nbconvert_exporter": "python",
   "pygments_lexer": "ipython3",
   "version": "3.6.7"
  }
 },
 "nbformat": 4,
 "nbformat_minor": 2
}
