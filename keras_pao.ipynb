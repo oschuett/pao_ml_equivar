{
 "cells": [
  {
   "cell_type": "code",
   "execution_count": null,
   "metadata": {},
   "outputs": [],
   "source": [
    "%load_ext autoreload\n",
    "%autoreload 2"
   ]
  },
  {
   "cell_type": "code",
   "execution_count": null,
   "metadata": {},
   "outputs": [],
   "source": [
    "import numpy as np\n",
    "from glob import glob\n",
    "import itertools\n",
    "from pao_file_utils import parse_pao_file\n",
    "\n",
    "import tensorflow as tf\n",
    "from tensorflow import keras\n",
    "from tensorflow.keras import layers\n",
    "import matplotlib.pyplot as plt"
   ]
  },
  {
   "cell_type": "code",
   "execution_count": null,
   "metadata": {},
   "outputs": [],
   "source": [
    "from spherical_harmonics import Y_l, get_clebsch_gordan_coefficients_sympy, get_clebsch_gordan_coefficients_table #, get_clebsch_gordan_coefficients_new\n",
    "get_clebsch_gordan_coefficients = get_clebsch_gordan_coefficients_sympy\n",
    "#get_clebsch_gordan_coefficients = get_clebsch_gordan_coefficients_table\n",
    "#get_clebsch_gordan_coefficients = get_clebsch_gordan_coefficients_new\n"
   ]
  },
  {
   "cell_type": "code",
   "execution_count": null,
   "metadata": {},
   "outputs": [],
   "source": [
    "def convolute(coords, atom2kind, central_atom, max_l):\n",
    "    natoms = coords.shape[0]\n",
    "    assert coords.shape[1] == 3\n",
    "    kind_names = list(sorted(set(atom2kind)))\n",
    "    integrals = []\n",
    "    for l in range(max_l + 1):\n",
    "        for sigma in [0.5, 1.0, 2.0, 3.0, 4.0]:\n",
    "            for ikind in kind_names:\n",
    "                integrals.append(np.zeros(2*l + 1))\n",
    "                for iatom in range(natoms):\n",
    "                    if atom2kind[iatom] == ikind and iatom != central_atom:\n",
    "                        r = coords[central_atom] - coords[iatom]\n",
    "                        angular_part = Y_l(r, l)\n",
    "                        radial_part = np.exp(- np.dot(r,r) / sigma**2)\n",
    "                        integrals[-1] += radial_part * angular_part\n",
    "    return integrals"
   ]
  },
  {
   "cell_type": "code",
   "execution_count": null,
   "metadata": {},
   "outputs": [],
   "source": [
    "def combinations(channels, max_l):\n",
    "    \"\"\" returns all possbile combinations of input channels up to given max_l \"\"\"\n",
    "    output_channels = list()\n",
    "    for channel_i, channel_j in itertools.combinations_with_replacement(channels, 2):\n",
    "        assert len(channel_i.shape) == len(channel_j.shape) == 1\n",
    "        li = (channel_i.size - 1) // 2\n",
    "        lj = (channel_j.size - 1) // 2\n",
    "        # There li + lj possible ways to combine the two channels.\n",
    "        # We do all of them up to a max_l.\n",
    "        lo_min = abs(li-lj)\n",
    "        lo_max = min(li+lj, max_l)\n",
    "        for lo in range(lo_min, lo_max + 1): # l of output\n",
    "            channel_o = np.zeros(2*lo+1)\n",
    "            cg = get_clebsch_gordan_coefficients(li, lj, lo)\n",
    "            channel_o = np.einsum(\"i,j,ijo->o\", channel_i, channel_j, cg)\n",
    "            output_channels.append(channel_o)\n",
    "    return output_channels"
   ]
  },
  {
   "cell_type": "code",
   "execution_count": null,
   "metadata": {},
   "outputs": [],
   "source": [
    "# Load training data and hard code metadata.\n",
    "#pao_files = sorted(glob(\"2H2O_MD/frame_*/2H2O_pao44-1_0.pao\"))\n",
    "#pao_files = sorted(glob(\"2H2O_rotations/phi_*/2H2O_pao44-1_0.pao\"))\n",
    "pao_files = sorted(glob(\"2H2O_rotations/*/2H2O_pao44-1_0.pao\"))\n",
    "\n",
    "prim_basis_shells = {\n",
    "    'H': [2, 1, 0], # two s-shells, one p-shell, no d-shells\n",
    "    'O': [2, 2, 1], # two s-shells, two p-shells, one d-shell\n",
    "}\n",
    "\n",
    "pao_basis_size = 4"
   ]
  },
  {
   "cell_type": "code",
   "execution_count": null,
   "metadata": {},
   "outputs": [],
   "source": [
    "class Sample:\n",
    "    def __init__(self, channels, xblock, iatom, coords):\n",
    "        self.channels = channels\n",
    "        self.xblock = xblock\n",
    "        self.iatom = iatom # just for debugging\n",
    "        self.coords = coords # just for debugging\n",
    "        #TODO generalize\n",
    "        self.s_channel_list = [c for c in channels if c.size == 1]\n",
    "        self.p_channel_list = [c for c in channels if c.size == 3]\n",
    "        self.d_channel_list = [c for c in channels if c.size == 5]\n",
    "\n",
    "        self.s_channels = np.concatenate(self.s_channel_list)\n",
    "        self.p_channels = np.stack(self.p_channel_list).T\n",
    "        if (self.d_channel_list):\n",
    "            self.d_channels = np.stack(self.d_channel_list).T\n",
    "        else:\n",
    "            self.d_channels = np.zeros(shape=[])\n",
    "\n",
    "def build_dataset(kind_name, max_l):\n",
    "    samples = []\n",
    "    for fn in pao_files:\n",
    "        kinds, atom2kind, coords, xblocks = parse_pao_file(fn)\n",
    "        natoms = coords.shape[0]\n",
    "        for iatom in range(natoms):\n",
    "            if atom2kind[iatom] == kind_name:\n",
    "                initial_channels = convolute(coords, atom2kind, iatom, max_l)\n",
    "                if True: # apply combination\n",
    "                    comb_channels = combinations(initial_channels, max_l)\n",
    "                    sample = Sample(comb_channels, xblocks[iatom], iatom, coords)\n",
    "                else:\n",
    "                    sample = Sample(initial_channels, xblocks[iatom], iatom, coords)\n",
    "                samples.append(sample)\n",
    "\n",
    "    print(\"\\nDataset for: \", kind_name)\n",
    "    print(\"samples: \", len(samples))\n",
    "    print(\"s channels: \", len(samples[0].s_channel_list))\n",
    "    print(\"p channels: \", len(samples[0].p_channel_list))\n",
    "    print(\"d channels: \", len(samples[0].d_channel_list))\n",
    "    return samples\n",
    "    \n",
    "def samples2xy(samples):\n",
    "    s_input = np.array([s.s_channels for s in samples], np.float32)\n",
    "    p_input = np.array([s.p_channels for s in samples], np.float32)\n",
    "    d_input = np.array([s.d_channels for s in samples], np.float32)\n",
    "    x_data = [s_input, p_input, d_input]\n",
    "    y_data = np.array([s.xblock for s in samples], np.float32)\n",
    "    return x_data, y_data\n",
    "\n",
    "H_dataset = build_dataset(\"H\", max_l=1)\n",
    "O_dataset = build_dataset(\"O\", max_l=2)"
   ]
  },
  {
   "cell_type": "code",
   "execution_count": null,
   "metadata": {},
   "outputs": [],
   "source": [
    "#TODO implement custom layer instead of Dense + Lambda:\n",
    "def contract(args):\n",
    "    assert len(args) == 2\n",
    "    coeffs = args[0]\n",
    "    channels = args[1]\n",
    "    return tf.reduce_sum(coeffs[...,None,:] * channels, axis=-1)\n",
    "\n",
    "def build_model(first_sample, pao_basis_size, prim_basis_shells, num_hidden_layers, hidden_layers_width):\n",
    "    \n",
    "    prim_basis_size = sum([(2*l+1)*n for l, n in enumerate(prim_basis_shells)])\n",
    "    num_p_channels = len(first_sample.p_channel_list)\n",
    "    num_d_channels = len(first_sample.d_channel_list)\n",
    "    \n",
    "    # define two sets of inputs\n",
    "    s_input = layers.Input(shape=first_sample.s_channels.shape, name=\"s_input\")\n",
    "    p_input = layers.Input(shape=first_sample.p_channels.shape, name=\"p_input\")\n",
    "    d_input = layers.Input(shape=first_sample.d_channels.shape, name=\"d_input\")\n",
    "    \n",
    "    #TODO: add more hidden layers\n",
    "    hidden_out = s_input\n",
    "    for i in range(num_hidden_layers):\n",
    "        hidden_out = layers.Dense(hidden_layers_width, activation='softmax', name=f\"hidden_layer_{i}\")(hidden_out)\n",
    "            \n",
    "    pao_output = []\n",
    "    for i in range(pao_basis_size):\n",
    "        for l, n in enumerate(prim_basis_shells):\n",
    "            for j in range(n):\n",
    "                name = f\"{i}{l}{j}\"\n",
    "                if l == 0:\n",
    "                    s_out = layers.Dense(1, name=\"coeffs_\"+name)(hidden_out)\n",
    "                    pao_output.append(s_out)\n",
    "                elif l == 1:\n",
    "                    p_coeffs = layers.Dense(num_p_channels, name=\"coeffs_\"+name)(hidden_out)\n",
    "                    contract_layer = layers.Lambda(contract, name=\"contr_\"+name)\n",
    "                    p_out = contract_layer([p_coeffs, p_input])\n",
    "                    pao_output.append(p_out)\n",
    "                elif l == 2:\n",
    "                    d_coeffs = layers.Dense(num_d_channels, name=\"coeffs_\"+name)(hidden_out)\n",
    "                    contract_layer = layers.Lambda(contract, name=\"contr_\"+name)\n",
    "                    d_out = contract_layer([d_coeffs, d_input])\n",
    "                    pao_output.append(d_out)\n",
    "                else:\n",
    "                    raise Exception(\"Not implemented\")\n",
    "    \n",
    "    xvec = layers.concatenate(pao_output)\n",
    "    xblock = layers.Reshape((pao_basis_size, prim_basis_size))(xvec) #TODO: maybe transpose?\n",
    "\n",
    "    inputs = [s_input, p_input, d_input]\n",
    "    model = keras.Model(inputs=inputs, outputs=xblock)\n",
    "    #model.summary()\n",
    "    return(model)\n",
    "\n",
    "H_model = build_model(H_dataset[0], pao_basis_size, prim_basis_shells['H'], num_hidden_layers=10, hidden_layers_width=10)\n",
    "O_model = build_model(O_dataset[0], pao_basis_size, prim_basis_shells['O'], num_hidden_layers=10, hidden_layers_width=10)"
   ]
  },
  {
   "cell_type": "code",
   "execution_count": null,
   "metadata": {},
   "outputs": [],
   "source": [
    "def loss_function(xblock_true, xblock_pred):\n",
    "    #TODO: This might not be ideal as it implicitly forces the predicted basis vectors to be orthonormal.\n",
    "    projector = tf.matmul(xblock_pred, xblock_pred, transpose_a=True)\n",
    "    residual = xblock_true - tf.matmul(xblock_true, projector)\n",
    "    return tf.reduce_mean(tf.pow(residual, 2))\n",
    "\n",
    "optimizer = tf.keras.optimizers.Adam(learning_rate=1e-2)\n",
    "H_model.compile(optimizer, loss=loss_function)\n",
    "O_model.compile(optimizer, loss=loss_function)"
   ]
  },
  {
   "cell_type": "code",
   "execution_count": null,
   "metadata": {},
   "outputs": [],
   "source": [
    "class TrainingLogger(keras.callbacks.Callback):\n",
    "    def on_train_begin(self, logs={}):\n",
    "        self.epoch_counter = 0\n",
    "    def on_epoch_end(self, epoch, logs={}):\n",
    "        self.epoch_counter += 1\n",
    "        if self.epoch_counter % 50 == 0:\n",
    "            print(\"Epoch: {} Loss: {}\".format(self.epoch_counter, logs['loss']))"
   ]
  },
  {
   "cell_type": "code",
   "execution_count": null,
   "metadata": {},
   "outputs": [],
   "source": [
    "H1_dataset = [s for s in H_dataset if s.iatom==1]\n",
    "x_train, y_train = samples2xy(H1_dataset[0:1])\n",
    "H_model.fit(x_train, y_train, epochs=1000, verbose=0, callbacks=[TrainingLogger()]);\n",
    "\n",
    "losses = []\n",
    "for s in H1_dataset:\n",
    "    x_test, y_test = samples2xy([s])\n",
    "    loss = H_model.evaluate(x_test, y_test, verbose=0)\n",
    "    losses.append(loss)\n",
    "\n",
    "plt.yscale('log')\n",
    "plt.plot(losses);"
   ]
  },
  {
   "cell_type": "code",
   "execution_count": null,
   "metadata": {},
   "outputs": [],
   "source": [
    "O3_dataset = [s for s in O_dataset if s.iatom==3]\n",
    "x_train, y_train = samples2xy(O3_dataset[0:1])\n",
    "O_model.fit(x_train, y_train, epochs=1000, verbose=0, callbacks=[TrainingLogger()]);\n",
    "\n",
    "losses = []\n",
    "for s in O3_dataset:\n",
    "    x_test, y_test = samples2xy([s])\n",
    "    loss = O_model.evaluate(x_test, y_test, verbose=0)\n",
    "    losses.append(loss)\n",
    "\n",
    "plt.yscale('log')\n",
    "plt.plot(losses);"
   ]
  },
  {
   "cell_type": "code",
   "execution_count": null,
   "metadata": {},
   "outputs": [],
   "source": [
    "#x_test, y_test = samples2xy(O3_dataset[1:2])\n",
    "#print(O_model.predict(x_test)[0,0,:])\n",
    "print(O_model.predict(x_train)[0,0,:])\n",
    "#print(y_test[0,0,:])\n",
    "print(y_train[0,0,:])"
   ]
  },
  {
   "cell_type": "code",
   "execution_count": null,
   "metadata": {},
   "outputs": [],
   "source": [
    "len(H_dataset)"
   ]
  },
  {
   "cell_type": "code",
   "execution_count": null,
   "metadata": {},
   "outputs": [],
   "source": [
    "get_clebsch_gordan_coefficients_new(1,1,1)"
   ]
  },
  {
   "cell_type": "code",
   "execution_count": null,
   "metadata": {},
   "outputs": [],
   "source": [
    "from sympy.physics.quantum.cg import CG, Wigner3j"
   ]
  },
  {
   "cell_type": "code",
   "execution_count": null,
   "metadata": {},
   "outputs": [],
   "source": [
    "CG(1, 0, 1, 1, 1, 2).doit() "
   ]
  },
  {
   "cell_type": "code",
   "execution_count": null,
   "metadata": {},
   "outputs": [],
   "source": [
    "Wigner3j(1, 0, 1, 0, 1, 0).doit() "
   ]
  },
  {
   "cell_type": "code",
   "execution_count": null,
   "metadata": {},
   "outputs": [],
   "source": [
    "get_clebsch_gordan_coefficients_sympy(1,1,0)[:,:,0]"
   ]
  },
  {
   "cell_type": "code",
   "execution_count": null,
   "metadata": {},
   "outputs": [],
   "source": [
    "get_clebsch_gordan_coefficients_table(1,1,0)[:,:,0]"
   ]
  },
  {
   "cell_type": "code",
   "execution_count": null,
   "metadata": {},
   "outputs": [],
   "source": [
    "O_dataset[0].d_channels"
   ]
  },
  {
   "cell_type": "code",
   "execution_count": null,
   "metadata": {},
   "outputs": [],
   "source": [
    "j1 = 0.5\n",
    "j2 = 0.5\n",
    "j3 = 0\n",
    "m1 = -0.5\n",
    "m2 = 0.5\n",
    "m3 = 0.0\n",
    "CG(j1, m1, j2, m2, j3, m3).doit() "
   ]
  },
  {
   "cell_type": "code",
   "execution_count": null,
   "metadata": {},
   "outputs": [],
   "source": [
    "import numpy as np"
   ]
  },
  {
   "cell_type": "code",
   "execution_count": null,
   "metadata": {},
   "outputs": [],
   "source": [
    "def get_clebsch_gordan_coefficients_new(li, lj, lo):\n",
    "    from sympy.physics.quantum.cg import Wigner3j\n",
    "    #TODO maybe rename lo -> lk ?\n",
    "    assert abs(li-lj) <= lo <= abs(li+lj)\n",
    "\n",
    "    #cg0 = CG(li, 0, lj, 0, lo, 0).doit() \n",
    "    #numerator = (2*li+1) * (2*lj+1)\n",
    "    #denominator = 4 * np.pi * (2*lo+1)\n",
    "    #pre_factor = cg0 * np.sqrt(numerator \n",
    "\n",
    "    coeffs = np.zeros(shape=(2*li+1, 2*lj+1, 2*lo+1))\n",
    "    for mi in range(-li, li+1):\n",
    "        for mj in range(-lj, lj+1):\n",
    "            for mo in range(-lo, lo+1):\n",
    "                cg = Wigner3j(li, mi, lj, mj, lo, mo).doit()\n",
    "                coeffs[mi+li, mj+lj, mo+lo]\n",
    "    return coeffs\n",
    "\n",
    "get_clebsch_gordan_coefficients_new(1,1,0)[:,:,0]"
   ]
  },
  {
   "cell_type": "code",
   "execution_count": null,
   "metadata": {},
   "outputs": [],
   "source": [
    "def get_clebsch_gordan_coefficients_sympy(li, lj, lo):\n",
    "    from sympy.physics.quantum.cg import CG\n",
    "    #TODO maybe rename lo -> lk ?\n",
    "    assert abs(li-lj) <= lo <= abs(li+lj)\n",
    "    coeffs = np.zeros(shape=(2*li+1, 2*lj+1, 2*lo+1))\n",
    "    for mi in range(-li, li+1):\n",
    "        for mj in range(-lj, lj+1):\n",
    "            for mo in range(-lo, lo+1):  \n",
    "                # https://docs.sympy.org/latest/modules/physics/quantum/cg.html\n",
    "                cg = CG(li, mi, lj, mj, lo, mo).doit()\n",
    "                #cg = CG(lo, mo, li, mi, lj, mj).doit()\n",
    "                #factor = pow(-1, mj+1)\n",
    "                factor = 1.0\n",
    "                coeffs[mi+li, mj+lj, mo+lo] = cg * factor\n",
    "    return coeffs\n",
    "\n",
    "get_clebsch_gordan_coefficients_sympy(1,1,0)[:,:,0]"
   ]
  },
  {
   "cell_type": "code",
   "execution_count": null,
   "metadata": {},
   "outputs": [],
   "source": [
    "get_clebsch_gordan_coefficients_sympy(1,1,1)[:,:,0]"
   ]
  },
  {
   "cell_type": "code",
   "execution_count": null,
   "metadata": {},
   "outputs": [],
   "source": [
    "get_clebsch_gordan_coefficients_table(1,1,1)[:,:,0]"
   ]
  },
  {
   "cell_type": "code",
   "execution_count": null,
   "metadata": {},
   "outputs": [],
   "source": [
    "get_clebsch_gordan_coefficients_table(1,1,1)[:,:,1]"
   ]
  },
  {
   "cell_type": "code",
   "execution_count": null,
   "metadata": {},
   "outputs": [],
   "source": [
    "get_clebsch_gordan_coefficients_table(1,1,1)[:,:,2]"
   ]
  },
  {
   "cell_type": "code",
   "execution_count": null,
   "metadata": {},
   "outputs": [],
   "source": [
    "from sympy.physics.quantum.spin import WignerD\n",
    "from sympy import pi"
   ]
  },
  {
   "cell_type": "code",
   "execution_count": null,
   "metadata": {},
   "outputs": [],
   "source": [
    "j=1\n",
    "m=0\n",
    "mp=0\n",
    "alpha=pi/10\n",
    "beta=0\n",
    "gamma=0\n",
    "for m1\n",
    "WignerD(j, m, mp, alpha, beta, gamma).doit()"
   ]
  },
  {
   "cell_type": "code",
   "execution_count": null,
   "metadata": {},
   "outputs": [],
   "source": [
    "def get_wignerD_matrix(l, alpha=0, beta=0, gamma=0):\n",
    "    D = np.zeros(shape=(2*l+1, 2*l+1), dtype=complex)\n",
    "    for mi in range(-l, l+1):\n",
    "        for mo in range(-l, l+1):\n",
    "            D[mi+l, mo+l] = WignerD(j, mi, mo, alpha, beta, gamma).doit()\n",
    "    return D\n",
    "\n",
    "get_wignerD_matrix(l=1, alpha=1.3)"
   ]
  },
  {
   "cell_type": "code",
   "execution_count": null,
   "metadata": {},
   "outputs": [],
   "source": [
    "cg_matrix = get_clebsch_gordan_coefficients_sympy(1,1,1)"
   ]
  },
  {
   "cell_type": "code",
   "execution_count": null,
   "metadata": {},
   "outputs": [],
   "source": [
    "#lie_learn/representations/SO3/clebsch_gordan_numerical.\n",
    "from lie_learn.representations.SO3 import clebsch_gordan_numerical"
   ]
  },
  {
   "cell_type": "code",
   "execution_count": null,
   "metadata": {},
   "outputs": [],
   "source": [
    "import quadpy"
   ]
  },
  {
   "cell_type": "code",
   "execution_count": null,
   "metadata": {},
   "outputs": [],
   "source": [
    "scheme = quadpy.sphere.lebedev_041()\n",
    "#scheme = quadpy.sphere.lebedev_003a()"
   ]
  },
  {
   "cell_type": "code",
   "execution_count": null,
   "metadata": {},
   "outputs": [],
   "source": [
    "scheme.points"
   ]
  },
  {
   "cell_type": "code",
   "execution_count": null,
   "metadata": {},
   "outputs": [],
   "source": [
    "scheme.weights.shape"
   ]
  },
  {
   "cell_type": "code",
   "execution_count": null,
   "metadata": {},
   "outputs": [],
   "source": [
    "from spherical_harmonics import Y_l\n",
    "import numpy as np"
   ]
  },
  {
   "cell_type": "code",
   "execution_count": null,
   "metadata": {},
   "outputs": [],
   "source": [
    "scheme.points"
   ]
  },
  {
   "cell_type": "code",
   "execution_count": null,
   "metadata": {},
   "outputs": [],
   "source": [
    "x = np.sum(Y_l(scheme.points, l=2) * scheme.weights[:,None], axis=0)"
   ]
  },
  {
   "cell_type": "code",
   "execution_count": null,
   "metadata": {},
   "outputs": [],
   "source": [
    "def get_clebsch_gordan_coefficients_num(li, lj, lo):\n",
    "    assert abs(li-lj) <= lo <= abs(li+lj)\n",
    "    coeffs = np.zeros(shape=(2*li+1, 2*lj+1, 2*lo+1))\n",
    "    \n",
    "    #scheme = quadpy.sphere.lebedev_041()\n",
    "    scheme = quadpy.sphere.lebedev_011()\n",
    "\n",
    "    y_i = Y_l(scheme.points, l=li)\n",
    "    y_j = Y_l(scheme.points, l=lj)\n",
    "    y_o = Y_l(scheme.points, l=lo)\n",
    "    y_ijo = y_i[:,:,None,None] * y_j[:,None,:,None] * y_o[:,None,None,:]\n",
    "    coeffs = np.sum(y_ijo * scheme.weights[:,None,None,None], axis=0)\n",
    "    return coeffs\n",
    "\n",
    "get_clebsch_gordan_coefficients_num(1,1,1)"
   ]
  },
  {
   "cell_type": "code",
   "execution_count": null,
   "metadata": {},
   "outputs": [],
   "source": [
    "from spherical_harmonics import get_clebsch_gordan_coefficients_table\n",
    "get_clebsch_gordan_coefficients_table(1,1,1)"
   ]
  },
  {
   "cell_type": "code",
   "execution_count": null,
   "metadata": {},
   "outputs": [],
   "source": [
    "from spherical_harmonics import get_clebsch_gordan_coefficients_sympy\n",
    "get_clebsch_gordan_coefficients_sympy(1,1,1)"
   ]
  },
  {
   "cell_type": "code",
   "execution_count": null,
   "metadata": {},
   "outputs": [],
   "source": [
    "from spherical_harmonics import get_clebsch_gordan_coefficients_sympy\n",
    "get_clebsch_gordan_coefficients_sympy(1,1,1)"
   ]
  },
  {
   "cell_type": "code",
   "execution_count": null,
   "metadata": {},
   "outputs": [],
   "source": [
    "import numpy as np\n",
    "from sympy.physics.quantum.cg import CG\n",
    "\n",
    "def foo(li, lj, lo):\n",
    "    assert abs(li-lj) <= lo <= abs(li+lj)\n",
    "    coeffs = np.zeros(shape=(2*li+1, 2*lj+1, 2*lo+1))\n",
    "    for mi in range(-li, li+1):\n",
    "        for mj in range(-lj, lj+1):\n",
    "            for mo in range(-lo, lo+1):\n",
    "                # https://docs.sympy.org/latest/modules/physics/quantum/cg.html\n",
    "                cg = CG(li, mi, lj, mj, lo, mo).doit()\n",
    "                coeffs[mi+li, mj+lj, mo+lo] = cg\n",
    "    return coeffs\n",
    "\n",
    "foo(1,1,0)\n"
   ]
  },
  {
   "cell_type": "code",
   "execution_count": null,
   "metadata": {},
   "outputs": [],
   "source": [
    "from scipy.spatial.transform import Rotation"
   ]
  },
  {
   "cell_type": "code",
   "execution_count": null,
   "metadata": {},
   "outputs": [],
   "source": [
    "from spherical_harmonics  import Y_l"
   ]
  },
  {
   "cell_type": "code",
   "execution_count": null,
   "metadata": {},
   "outputs": [],
   "source": [
    "def rot_mat(g):\n",
    "    # g = [alpha, beta, gamma]\n",
    "    return  Rotation.from_euler('zyx', g).as_dcm()\n",
    "\n",
    "def clebsch_gordon_num(l1, l2, l3):\n",
    "    N = 100\n",
    "    # pick random directions\n",
    "    r = np.random.rand(N, 3)\n",
    "    #assert abs(m1) <= l1\n",
    "    #assert abs(m3) <= l2\n",
    "    #assert abs(m3) <= l3\n",
    "    \n",
    "    n1 = 2 * l1 + 1\n",
    "    n2 = 2 * l2 + 1\n",
    "    A = np.zeros(shape=[N, n1 * n2])\n",
    "    \n",
    "    y1 = Y_l(r, l=l1)\n",
    "    y2 = Y_l(r, l=l2)\n",
    "    for i1 in range(n1):\n",
    "        for i2 in range(n2):\n",
    "            A[:, i1*n2 + i2] =  y1[:,i1] * y2[:,i2]\n",
    "\n",
    "    b = Y_l(r, l=l3)\n",
    "    \n",
    "    \n",
    "    #print(b.shape)\n",
    "    A_inv = np.linalg.pinv(A)\n",
    "    print(A_inv.shape)\n",
    "    #print(np.dot(A_inv, b).shape)\n",
    "    print(np.linalg.pinv(A).dot(b))\n",
    "    \n",
    "    \n",
    "    #y1 = Y_l(r, l=l1)[:, l1+m1]\n",
    "    #y2 = Y_l(r, l=l2)[:, l2+m2]\n",
    "    #y3 = Y_l(r, l=l3)[:, l3+m3]\n",
    "    \n",
    "    \n",
    "    #print((y1 + y2) / y3)\n",
    "    #print((c1 * y1 + c2 * y2) / y3)\n",
    "    \n",
    "#     for i in range(10):\n",
    "#         g = np.random.rand(3) * 2 * np.pi\n",
    "#         R = rot_mat(g)\n",
    "#         r1R = np.einsum(\"ki,ij->kj\", r1, R)\n",
    "#         r2R = np.einsum(\"ki,ij->kj\", r2, R)\n",
    "\n",
    "#         y1R = Y_l(r1R, l=l1)[:, m1-l1]\n",
    "#         y2R = Y_l(r1R, l=l2)[:, m2-l2]\n",
    "#         y3R = Y_l(r2R, l=l3)[:, m3-l3]\n",
    "\n",
    "#         print(y1 * y1 * y3, y1R * y2R * y3R)\n",
    "    \n",
    "    #print(np.sum(r1 * r2, axis=1) - np.sum(r1R * r2R, axis=1))\n",
    "\n",
    "clebsch_gordon_num(l1=1, l2=1, l3=2)\n",
    "    "
   ]
  },
  {
   "cell_type": "code",
   "execution_count": 3,
   "metadata": {},
   "outputs": [
    {
     "ename": "ValueError",
     "evalue": "could not broadcast input array from shape (3) into shape (1)",
     "output_type": "error",
     "traceback": [
      "\u001b[0;31m---------------------------------------------------------------------------\u001b[0m",
      "\u001b[0;31mValueError\u001b[0m                                Traceback (most recent call last)",
      "\u001b[0;32m<ipython-input-3-c40ae262eea9>\u001b[0m in \u001b[0;36m<module>\u001b[0;34m\u001b[0m\n\u001b[1;32m     55\u001b[0m         \u001b[0;31m#print(\"rhs:\", rhs)\u001b[0m\u001b[0;34m\u001b[0m\u001b[0;34m\u001b[0m\u001b[0;34m\u001b[0m\u001b[0m\n\u001b[1;32m     56\u001b[0m \u001b[0;34m\u001b[0m\u001b[0m\n\u001b[0;32m---> 57\u001b[0;31m \u001b[0mclebsch_gordan_num\u001b[0m\u001b[0;34m(\u001b[0m\u001b[0ml1\u001b[0m\u001b[0;34m=\u001b[0m\u001b[0;36m1\u001b[0m\u001b[0;34m,\u001b[0m \u001b[0ml2\u001b[0m\u001b[0;34m=\u001b[0m\u001b[0;36m1\u001b[0m\u001b[0;34m,\u001b[0m \u001b[0ml3\u001b[0m\u001b[0;34m=\u001b[0m\u001b[0;36m0\u001b[0m\u001b[0;34m)\u001b[0m\u001b[0;34m\u001b[0m\u001b[0;34m\u001b[0m\u001b[0m\n\u001b[0m\u001b[1;32m     58\u001b[0m \u001b[0;34m\u001b[0m\u001b[0m\n\u001b[1;32m     59\u001b[0m \u001b[0;31m#g = [0., 0, 0]\u001b[0m\u001b[0;34m\u001b[0m\u001b[0;34m\u001b[0m\u001b[0;34m\u001b[0m\u001b[0m\n",
      "\u001b[0;32m<ipython-input-3-c40ae262eea9>\u001b[0m in \u001b[0;36mclebsch_gordan_num\u001b[0;34m(l1, l2, l3)\u001b[0m\n\u001b[1;32m     46\u001b[0m         \u001b[0;32mfor\u001b[0m \u001b[0mm1\u001b[0m \u001b[0;32min\u001b[0m \u001b[0mrange\u001b[0m\u001b[0;34m(\u001b[0m\u001b[0mn1\u001b[0m\u001b[0;34m)\u001b[0m\u001b[0;34m:\u001b[0m\u001b[0;34m\u001b[0m\u001b[0;34m\u001b[0m\u001b[0m\n\u001b[1;32m     47\u001b[0m             \u001b[0;32mfor\u001b[0m \u001b[0mm2\u001b[0m \u001b[0;32min\u001b[0m \u001b[0mrange\u001b[0m\u001b[0;34m(\u001b[0m\u001b[0mn2\u001b[0m\u001b[0;34m)\u001b[0m\u001b[0;34m:\u001b[0m\u001b[0;34m\u001b[0m\u001b[0;34m\u001b[0m\u001b[0m\n\u001b[0;32m---> 48\u001b[0;31m                 \u001b[0mlhs\u001b[0m\u001b[0;34m[\u001b[0m\u001b[0mm1\u001b[0m\u001b[0;34m,\u001b[0m\u001b[0mm2\u001b[0m\u001b[0;34m,\u001b[0m\u001b[0;34m:\u001b[0m\u001b[0;34m]\u001b[0m \u001b[0;34m=\u001b[0m \u001b[0mD1\u001b[0m\u001b[0;34m[\u001b[0m\u001b[0mm1\u001b[0m\u001b[0;34m,\u001b[0m\u001b[0;34m:\u001b[0m\u001b[0;34m]\u001b[0m \u001b[0;34m*\u001b[0m \u001b[0mD2\u001b[0m\u001b[0;34m[\u001b[0m\u001b[0mm2\u001b[0m\u001b[0;34m,\u001b[0m\u001b[0;34m:\u001b[0m\u001b[0;34m]\u001b[0m\u001b[0;34m\u001b[0m\u001b[0;34m\u001b[0m\u001b[0m\n\u001b[0m\u001b[1;32m     49\u001b[0m \u001b[0;34m\u001b[0m\u001b[0m\n\u001b[1;32m     50\u001b[0m         \u001b[0;31m#for m3 in range(n2):\u001b[0m\u001b[0;34m\u001b[0m\u001b[0;34m\u001b[0m\u001b[0;34m\u001b[0m\u001b[0m\n",
      "\u001b[0;31mValueError\u001b[0m: could not broadcast input array from shape (3) into shape (1)"
     ]
    }
   ],
   "source": [
    "import numpy as np\n",
    "from spherical_harmonics  import Y_l\n",
    "from scipy.spatial.transform import Rotation\n",
    "\n",
    "def rot_mat(g):\n",
    "    # g = [alpha, beta, gamma]\n",
    "    return  Rotation.from_euler('zyx', g).as_dcm()\n",
    "\n",
    "def wigner_d_num(g, l):\n",
    "    \"\"\"Determine Wigner D-matrix numerically.\"\"\"\n",
    "    # g: euler angles\n",
    "    # pick random directions\n",
    "    N = 2*2*(l+1)  # use twice as many too be sure\n",
    "    r1 = np.random.rand(N, 3)\n",
    "    \n",
    "    # build rotation matrix\n",
    "    R = rot_mat(g)\n",
    "    \n",
    "    # rotate random direction\n",
    "    r2 = np.einsum(\"ki,ij->kj\", r1, R)\n",
    "    \n",
    "    y1 = Y_l(r1, l=l)\n",
    "    y2 = Y_l(r2, l=l)\n",
    "    \n",
    "    return np.linalg.pinv(y1).dot(y2)\n",
    "\n",
    "def clebsch_gordan_num(l1, l2, l3):\n",
    "    \"\"\"\n",
    "    \\sum_{m1', m2'} D_{m1, m1'} * D_{m2, m2'} * C_{m1', m2', m3} = \\sum_{m3'} C_{m1, m2, m3'} * D_{m3', m3}\n",
    "    \\sum_{m1, m2, m1', m2', m3'} D_{m1, m1'} * D_{m2, m2'} * C_{m1', m2', m3'} * C_{m1, m2, m3}  = D_{m1, m2}\n",
    "    \"\"\"\n",
    "    # pick random angles\n",
    "    N = 1\n",
    "    \n",
    "    n1 = 2*l1 + 1\n",
    "    n2 = 2*l2 + 1\n",
    "    n3 = 2*l3 + 1\n",
    "    for i in range(N):\n",
    "        g = np.random.rand(3) * 2 * np.pi\n",
    "        D1 = wigner_d_num(g, l1)\n",
    "        D2 = wigner_d_num(g, l2)\n",
    "        D3 = wigner_d_num(g, l3)\n",
    "        \n",
    "        lhs = 42*np.ones(shape=(n1,n2,n3))\n",
    "        rhs = 42*np.ones(shape=(n1,n2,n3))\n",
    "\n",
    "        for m1 in range(n1):\n",
    "            for m2 in range(n2):\n",
    "                lhs[m1,m2,:] = D1[m1,:] * D2[m2,:]\n",
    "            \n",
    "        #for m3 in range(n2):\n",
    "        #    rhs[:,:,m3] = D3[m3,:]\n",
    "\n",
    "    return None\n",
    "        #print(\"lhs:\", lhs)\n",
    "        #print(\"rhs:\", rhs)\n",
    "\n",
    "clebsch_gordan_num(l1=1, l2=1, l3=0)\n",
    "    \n",
    "#g = [0., 0, 0]\n",
    "#print(rot_mat(g))\n",
    "#print(wigner_d_num(g=g, l=2))"
   ]
  },
  {
   "cell_type": "code",
   "execution_count": null,
   "metadata": {},
   "outputs": [],
   "source": [
    "import lie_learn"
   ]
  },
  {
   "cell_type": "code",
   "execution_count": null,
   "metadata": {},
   "outputs": [],
   "source": []
  },
  {
   "cell_type": "code",
   "execution_count": null,
   "metadata": {},
   "outputs": [],
   "source": [
    "r.as_dcm"
   ]
  },
  {
   "cell_type": "code",
   "execution_count": null,
   "metadata": {},
   "outputs": [],
   "source": [
    "alpha, beta, gamma = np.random.rand(3) * 2 * np.pi"
   ]
  },
  {
   "cell_type": "code",
   "execution_count": null,
   "metadata": {},
   "outputs": [],
   "source": [
    "alpha"
   ]
  },
  {
   "cell_type": "code",
   "execution_count": null,
   "metadata": {},
   "outputs": [],
   "source": []
  }
 ],
 "metadata": {
  "kernelspec": {
   "display_name": "Python 3",
   "language": "python",
   "name": "python3"
  },
  "language_info": {
   "codemirror_mode": {
    "name": "ipython",
    "version": 3
   },
   "file_extension": ".py",
   "mimetype": "text/x-python",
   "name": "python",
   "nbconvert_exporter": "python",
   "pygments_lexer": "ipython3",
   "version": "3.6.7"
  }
 },
 "nbformat": 4,
 "nbformat_minor": 2
}
