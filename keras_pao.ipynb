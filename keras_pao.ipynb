{
 "cells": [
  {
   "cell_type": "code",
   "execution_count": 1,
   "metadata": {},
   "outputs": [],
   "source": [
    "%load_ext autoreload\n",
    "%autoreload 2"
   ]
  },
  {
   "cell_type": "code",
   "execution_count": 2,
   "metadata": {},
   "outputs": [],
   "source": [
    "import numpy as np\n",
    "from glob import glob\n",
    "import itertools\n",
    "from pao_file_utils import parse_pao_file\n",
    "\n",
    "import tensorflow as tf\n",
    "from tensorflow import keras\n",
    "from tensorflow.keras import layers\n",
    "import matplotlib.pyplot as plt\n",
    "\n",
    "from spherical_harmonics import Y_l, clebsch_gordan_coefficients, test_cg_coeffs"
   ]
  },
  {
   "cell_type": "code",
   "execution_count": 3,
   "metadata": {},
   "outputs": [],
   "source": [
    "test_cg_coeffs()"
   ]
  },
  {
   "cell_type": "code",
   "execution_count": 4,
   "metadata": {},
   "outputs": [],
   "source": [
    "def convolute(coords, atom2kind, central_atom, max_l):\n",
    "    natoms = coords.shape[0]\n",
    "    assert coords.shape[1] == 3\n",
    "    kind_names = list(sorted(set(atom2kind)))\n",
    "    integrals = []\n",
    "    for l in range(max_l + 1):\n",
    "        for sigma in [0.5, 1.0, 2.0, 3.0, 4.0]:  #TODO: choose sigmas more thoughtfully\n",
    "            for ikind in kind_names:\n",
    "                integrals.append(np.zeros(2*l + 1))\n",
    "                for iatom in range(natoms):\n",
    "                    if atom2kind[iatom] == ikind and iatom != central_atom:\n",
    "                        r = coords[central_atom] - coords[iatom]\n",
    "                        angular_part = Y_l(r, l)\n",
    "                        radial_part = np.exp(- np.dot(r,r) / sigma**2)\n",
    "                        integrals[-1] += radial_part * angular_part\n",
    "    return integrals"
   ]
  },
  {
   "cell_type": "code",
   "execution_count": 5,
   "metadata": {},
   "outputs": [],
   "source": [
    "def combinations(channels, max_l):\n",
    "    \"\"\" returns all possbile combinations of input channels up to given max_l \"\"\"\n",
    "    output_channels = list()\n",
    "    for channel_i, channel_j in itertools.combinations_with_replacement(channels, 2):\n",
    "        assert len(channel_i.shape) == len(channel_j.shape) == 1\n",
    "        li = (channel_i.size - 1) // 2\n",
    "        lj = (channel_j.size - 1) // 2\n",
    "        # There li + lj possible ways to combine the two channels.\n",
    "        # We do all of them up to a max_l.\n",
    "        lo_min = abs(li-lj)\n",
    "        lo_max = min(li+lj, max_l)\n",
    "        for lo in range(lo_min, lo_max + 1): # l of output\n",
    "            channel_o = np.zeros(2*lo+1)\n",
    "            cg = clebsch_gordan_coefficients(li, lj, lo)\n",
    "            channel_o = np.einsum(\"i,j,ijo->o\", channel_i, channel_j, cg)\n",
    "            output_channels.append(channel_o)\n",
    "    return output_channels"
   ]
  },
  {
   "cell_type": "code",
   "execution_count": 6,
   "metadata": {},
   "outputs": [],
   "source": [
    "# Load training data and hard code metadata.\n",
    "#pao_files = sorted(glob(\"2H2O_MD/frame_*/2H2O_pao44-1_0.pao\"))\n",
    "#pao_files = sorted(glob(\"2H2O_rotations/phi_*/2H2O_pao44-1_0.pao\"))\n",
    "pao_files = sorted(glob(\"2H2O_rotations/*/2H2O_pao44-1_0.pao\"))\n",
    "\n",
    "prim_basis_shells = {\n",
    "    'H': [2, 1, 0], # two s-shells, one p-shell, no d-shells\n",
    "    'O': [2, 2, 1], # two s-shells, two p-shells, one d-shell\n",
    "}\n",
    "\n",
    "pao_basis_size = 4"
   ]
  },
  {
   "cell_type": "code",
   "execution_count": 33,
   "metadata": {},
   "outputs": [
    {
     "name": "stdout",
     "output_type": "stream",
     "text": [
      "\n",
      "Dataset for:  H\n",
      "samples:  224\n",
      "s channels:  110\n",
      "p channels:  155\n",
      "d channels:  0\n",
      "\n",
      "Dataset for:  O\n",
      "samples:  112\n",
      "s channels:  165\n",
      "p channels:  310\n",
      "d channels:  310\n"
     ]
    }
   ],
   "source": [
    "class Sample:\n",
    "    def __init__(self, channels, xblock, iatom, coords):\n",
    "        self.channels = channels\n",
    "        self.xblock = xblock\n",
    "        self.iatom = iatom # just for debugging\n",
    "        self.coords = coords # just for debugging\n",
    "        #TODO generalize\n",
    "        self.s_channel_list = [c for c in channels if c.size == 1]\n",
    "        self.p_channel_list = [c for c in channels if c.size == 3]\n",
    "        self.d_channel_list = [c for c in channels if c.size == 5]\n",
    "\n",
    "        self.s_channels = np.concatenate(self.s_channel_list)\n",
    "        self.p_channels = np.stack(self.p_channel_list).T\n",
    "        if (self.d_channel_list):\n",
    "            self.d_channels = np.stack(self.d_channel_list).T\n",
    "        else:\n",
    "            self.d_channels = np.zeros(shape=[])\n",
    "\n",
    "def build_dataset(kind_name, max_l):\n",
    "    samples = []\n",
    "    for fn in pao_files:\n",
    "        kinds, atom2kind, coords, xblocks = parse_pao_file(fn)\n",
    "        natoms = coords.shape[0]\n",
    "        for iatom in range(natoms):\n",
    "            if atom2kind[iatom] == kind_name:\n",
    "                initial_channels = convolute(coords, atom2kind, iatom, max_l)\n",
    "                if True: # apply combination\n",
    "                    comb_channels = combinations(initial_channels, max_l)\n",
    "                    sample = Sample(comb_channels, xblocks[iatom], iatom, coords)\n",
    "                else:\n",
    "                    sample = Sample(initial_channels, xblocks[iatom], iatom, coords)\n",
    "                samples.append(sample)\n",
    "\n",
    "    print(\"\\nDataset for: \", kind_name)\n",
    "    print(\"samples: \", len(samples))\n",
    "    print(\"s channels: \", len(samples[0].s_channel_list))\n",
    "    print(\"p channels: \", len(samples[0].p_channel_list))\n",
    "    print(\"d channels: \", len(samples[0].d_channel_list))\n",
    "    return samples\n",
    "    \n",
    "def samples2xy(samples):\n",
    "    s_input = np.array([s.s_channels for s in samples], np.float32)\n",
    "    p_input = np.array([s.p_channels for s in samples], np.float32)\n",
    "    d_input = np.array([s.d_channels for s in samples], np.float32)\n",
    "    x_data = [s_input, p_input, d_input]\n",
    "    y_data = np.array([s.xblock for s in samples], np.float32)\n",
    "    return x_data, y_data\n",
    "\n",
    "H_dataset = build_dataset(\"H\", max_l=1)\n",
    "O_dataset = build_dataset(\"O\", max_l=2)"
   ]
  },
  {
   "cell_type": "code",
   "execution_count": 34,
   "metadata": {},
   "outputs": [],
   "source": [
    "#TODO implement custom layer instead of Dense + Lambda:\n",
    "def contract(args):\n",
    "    assert len(args) == 2\n",
    "    coeffs = args[0]\n",
    "    channels = args[1]\n",
    "    return tf.reduce_sum(coeffs[...,None,:] * channels, axis=-1)\n",
    "\n",
    "def build_model(first_sample, pao_basis_size, prim_basis_shells, num_hidden_layers, hidden_layers_width):\n",
    "    \n",
    "    prim_basis_size = sum([(2*l+1)*n for l, n in enumerate(prim_basis_shells)])\n",
    "    num_p_channels = len(first_sample.p_channel_list)\n",
    "    num_d_channels = len(first_sample.d_channel_list)\n",
    "    \n",
    "    # define two sets of inputs\n",
    "    s_input = layers.Input(shape=first_sample.s_channels.shape, name=\"s_input\")\n",
    "    p_input = layers.Input(shape=first_sample.p_channels.shape, name=\"p_input\")\n",
    "    d_input = layers.Input(shape=first_sample.d_channels.shape, name=\"d_input\")\n",
    "    \n",
    "    #TODO: add more hidden layers\n",
    "    hidden_out = s_input\n",
    "    for i in range(num_hidden_layers):\n",
    "        hidden_out = layers.Dense(hidden_layers_width, activation='softmax', name=f\"hidden_layer_{i}\")(hidden_out)\n",
    "            \n",
    "    pao_output = []\n",
    "    for i in range(pao_basis_size):\n",
    "        for l, n in enumerate(prim_basis_shells):\n",
    "            for j in range(n):\n",
    "                name = f\"{i}{l}{j}\"\n",
    "                if l == 0:\n",
    "                    s_out = layers.Dense(1, name=\"coeffs_\"+name)(hidden_out)\n",
    "                    pao_output.append(s_out)\n",
    "                elif l == 1:\n",
    "                    p_coeffs = layers.Dense(num_p_channels, name=\"coeffs_\"+name)(hidden_out)\n",
    "                    contract_layer = layers.Lambda(contract, name=\"contr_\"+name)\n",
    "                    p_out = contract_layer([p_coeffs, p_input])\n",
    "                    pao_output.append(p_out)\n",
    "                elif l == 2:\n",
    "                    d_coeffs = layers.Dense(num_d_channels, name=\"coeffs_\"+name)(hidden_out)\n",
    "                    contract_layer = layers.Lambda(contract, name=\"contr_\"+name)\n",
    "                    d_out = contract_layer([d_coeffs, d_input])\n",
    "                    pao_output.append(d_out)\n",
    "                else:\n",
    "                    raise Exception(\"Not implemented\")\n",
    "    \n",
    "    xvec = layers.concatenate(pao_output)\n",
    "    xblock = layers.Reshape((pao_basis_size, prim_basis_size))(xvec) #TODO: maybe transpose?\n",
    "\n",
    "    inputs = [s_input, p_input, d_input]\n",
    "    model = keras.Model(inputs=inputs, outputs=xblock)\n",
    "    #model.summary()\n",
    "    return(model)\n",
    "\n",
    "H_model = build_model(H_dataset[0], pao_basis_size, prim_basis_shells['H'], num_hidden_layers=10, hidden_layers_width=10)\n",
    "O_model = build_model(O_dataset[0], pao_basis_size, prim_basis_shells['O'], num_hidden_layers=10, hidden_layers_width=10)"
   ]
  },
  {
   "cell_type": "code",
   "execution_count": 35,
   "metadata": {},
   "outputs": [],
   "source": [
    "def loss_function(xblock_true, xblock_pred):\n",
    "    #TODO: This might not be ideal as it implicitly forces the predicted basis vectors to be orthonormal.\n",
    "    projector = tf.matmul(xblock_pred, xblock_pred, transpose_a=True)\n",
    "    residual = xblock_true - tf.matmul(xblock_true, projector)\n",
    "    return tf.reduce_mean(tf.pow(residual, 2))\n",
    "\n",
    "optimizer = tf.keras.optimizers.Adam(learning_rate=1e-2)\n",
    "H_model.compile(optimizer, loss=loss_function)\n",
    "O_model.compile(optimizer, loss=loss_function)"
   ]
  },
  {
   "cell_type": "code",
   "execution_count": 36,
   "metadata": {},
   "outputs": [],
   "source": [
    "class TrainingLogger(keras.callbacks.Callback):\n",
    "    def on_train_begin(self, logs={}):\n",
    "        self.epoch_counter = 0\n",
    "    def on_epoch_end(self, epoch, logs={}):\n",
    "        self.epoch_counter += 1\n",
    "        if self.epoch_counter % 50 == 0:\n",
    "            print(\"Epoch: {} Loss: {}\".format(self.epoch_counter, logs['loss']))"
   ]
  },
  {
   "cell_type": "code",
   "execution_count": 37,
   "metadata": {},
   "outputs": [
    {
     "name": "stdout",
     "output_type": "stream",
     "text": [
      "Epoch: 50 Loss: 0.0009918868308886886\n",
      "Epoch: 100 Loss: 5.440699169412255e-06\n",
      "Epoch: 150 Loss: 7.205386509667733e-08\n",
      "Epoch: 200 Loss: 2.1695982510561151e-10\n",
      "Epoch: 250 Loss: 8.649011953680563e-13\n",
      "Epoch: 300 Loss: 2.109909435479753e-14\n",
      "Epoch: 350 Loss: 4.359706955121617e-15\n",
      "Epoch: 400 Loss: 2.5555945401057375e-15\n",
      "Epoch: 450 Loss: 6.757094798921564e-15\n",
      "Epoch: 500 Loss: 6.86811710138408e-15\n",
      "Epoch: 550 Loss: 6.965261616038781e-15\n",
      "Epoch: 600 Loss: 6.734196533741965e-15\n",
      "Epoch: 650 Loss: 3.812228480213221e-15\n",
      "Epoch: 700 Loss: 4.717754134673114e-15\n",
      "Epoch: 750 Loss: 1.5976108646729645e-14\n",
      "Epoch: 800 Loss: 7.668171483801289e-15\n",
      "Epoch: 850 Loss: 7.462780393652224e-15\n",
      "Epoch: 900 Loss: 1.7454787615278633e-14\n",
      "Epoch: 950 Loss: 8.465450562766819e-15\n",
      "Epoch: 1000 Loss: 5.846711834025641e-15\n"
     ]
    },
    {
     "data": {
      "image/png": "[encoded data removed]",
      "text/plain": [
       "<Figure size 432x288 with 1 Axes>"
      ]
     },
     "metadata": {
      "needs_background": "light"
     },
     "output_type": "display_data"
    }
   ],
   "source": [
    "H1_dataset = [s for s in H_dataset if s.iatom==1]\n",
    "x_train, y_train = samples2xy(H1_dataset[0:1])\n",
    "H_model.fit(x_train, y_train, epochs=1000, verbose=0, callbacks=[TrainingLogger()]);\n",
    "\n",
    "losses = []\n",
    "for s in H1_dataset:\n",
    "    x_test, y_test = samples2xy([s])\n",
    "    loss = H_model.evaluate(x_test, y_test, verbose=0)\n",
    "    losses.append(loss)\n",
    "\n",
    "plt.yscale('log')\n",
    "plt.plot(losses);"
   ]
  },
  {
   "cell_type": "code",
   "execution_count": 38,
   "metadata": {},
   "outputs": [
    {
     "name": "stdout",
     "output_type": "stream",
     "text": [
      "Epoch: 50 Loss: 0.001694706385023892\n",
      "Epoch: 100 Loss: 1.0262807336403057e-05\n",
      "Epoch: 150 Loss: 6.49938911578829e-08\n",
      "Epoch: 200 Loss: 3.5959740740665325e-10\n",
      "Epoch: 250 Loss: 1.7686096727767553e-12\n",
      "Epoch: 300 Loss: 9.686790757544583e-15\n",
      "Epoch: 350 Loss: 3.50909974058814e-15\n",
      "Epoch: 400 Loss: 8.803931281236741e-16\n",
      "Epoch: 450 Loss: 2.7466271512494207e-15\n",
      "Epoch: 500 Loss: 3.0951596097044103e-15\n",
      "Epoch: 550 Loss: 2.5681189810220764e-15\n",
      "Epoch: 600 Loss: 1.5125390047363604e-15\n",
      "Epoch: 650 Loss: 1.8665010502623685e-15\n",
      "Epoch: 700 Loss: 4.89703374015717e-15\n",
      "Epoch: 750 Loss: 8.12313702021057e-16\n",
      "Epoch: 800 Loss: 1.3410212915435874e-15\n",
      "Epoch: 850 Loss: 3.249788862357472e-15\n",
      "Epoch: 900 Loss: 1.442014406273257e-15\n",
      "Epoch: 950 Loss: 4.654641709773196e-15\n",
      "Epoch: 1000 Loss: 2.313182392689266e-15\n"
     ]
    },
    {
     "data": {
      "image/png": "[encoded data removed]",
      "text/plain": [
       "<Figure size 432x288 with 1 Axes>"
      ]
     },
     "metadata": {
      "needs_background": "light"
     },
     "output_type": "display_data"
    }
   ],
   "source": [
    "O3_dataset = [s for s in O_dataset if s.iatom==3]\n",
    "x_train, y_train = samples2xy(O3_dataset[0:1])\n",
    "O_model.fit(x_train, y_train, epochs=1000, verbose=0, callbacks=[TrainingLogger()]);\n",
    "\n",
    "losses = []\n",
    "for s in O3_dataset:\n",
    "    x_test, y_test = samples2xy([s])\n",
    "    loss = O_model.evaluate(x_test, y_test, verbose=0)\n",
    "    losses.append(loss)\n",
    "\n",
    "plt.yscale('log')\n",
    "plt.plot(losses);"
   ]
  },
  {
   "cell_type": "code",
   "execution_count": null,
   "metadata": {},
   "outputs": [],
   "source": []
  }
 ],
 "metadata": {
  "kernelspec": {
   "display_name": "Python 3",
   "language": "python",
   "name": "python3"
  },
  "language_info": {
   "codemirror_mode": {
    "name": "ipython",
    "version": 3
   },
   "file_extension": ".py",
   "mimetype": "text/x-python",
   "name": "python",
   "nbconvert_exporter": "python",
   "pygments_lexer": "ipython3",
   "version": "3.6.7"
  }
 },
 "nbformat": 4,
 "nbformat_minor": 2
}
