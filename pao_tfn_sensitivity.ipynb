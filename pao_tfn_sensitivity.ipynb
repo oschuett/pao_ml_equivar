{
 "cells": [
  {
   "cell_type": "code",
   "execution_count": 1,
   "metadata": {},
   "outputs": [],
   "source": [
    "%load_ext autoreload\n",
    "%autoreload 2"
   ]
  },
  {
   "cell_type": "code",
   "execution_count": 2,
   "metadata": {},
   "outputs": [],
   "source": [
    "import torch\n",
    "torch.set_default_dtype(torch.float64)\n",
    "device = torch.device(\"cuda:2\" if torch.cuda.is_available() else \"cpu\")"
   ]
  },
  {
   "cell_type": "code",
   "execution_count": 3,
   "metadata": {},
   "outputs": [],
   "source": [
    "import numpy as np\n",
    "from cp2k_file_utils import read_energy\n",
    "from pao_file_utils import parse_pao_file, write_pao_file\n",
    "from pao_tfn_trainer import loss_function, ortho"
   ]
  },
  {
   "cell_type": "code",
   "execution_count": 4,
   "metadata": {},
   "outputs": [
    {
     "name": "stdout",
     "output_type": "stream",
     "text": [
      "energy: -34.44993613896875  loss: 8.68858e-33  eps: 0\n",
      "energy: -34.44524978438085  loss: 1.15119e-05  eps: 0.01\n",
      "energy: -34.436378674603276  loss: 3.04936e-05  eps: 0.02\n",
      "energy: -34.41486864907458  loss: 8.80838e-05  eps: 0.03\n",
      "energy: -34.39795217912157  loss: 0.000123866  eps: 0.04\n",
      "energy: -34.3498496047107  loss: 0.000245133  eps: 0.05\n",
      "energy: -34.285281439836254  loss: 0.000389081  eps: 0.06\n",
      "energy: -34.26588777186778  loss: 0.000463375  eps: 0.07\n",
      "energy: -34.22954852824688  loss: 0.000465812  eps: 0.08\n",
      "energy: -34.13062862819209  loss: 0.000791106  eps: 0.09\n",
      "energy: -34.06197967462564  loss: 0.00110367  eps: 0.1\n"
     ]
    }
   ],
   "source": [
    "frame_dir = \"2H2O_MD/frame_0000\"\n",
    "kinds, atom2kind, coords, xblocks = parse_pao_file(frame_dir + \"/2H2O_pao44-1_0.pao\")\n",
    "\n",
    "for i in range(11):\n",
    "    eps = i * 0.01\n",
    "    losses = []\n",
    "    perturbed_xblocks = []\n",
    "    for xblock in xblocks:\n",
    "        perturbed_xblock = torch.as_tensor(xblock + eps*np.random.rand(*xblock.shape))\n",
    "        perturbed_xblock = ortho(perturbed_xblock)\n",
    "        perturbed_xblocks.append(perturbed_xblock)\n",
    "        losses.append(loss_function(perturbed_xblock, torch.as_tensor(xblock)))\n",
    "    loss = np.mean(losses)\n",
    "\n",
    "    write_pao_file(frame_dir + \"/inferred.pao\", kinds, atom2kind, coords, perturbed_xblocks)\n",
    "    ! cd $frame_dir; /opt/cp2k/exe/local/cp2k.ssmp -i 2H2O_pao44_inferred.inp > 2H2O_pao44_inferred.out\n",
    "    energy = read_energy(frame_dir+\"/2H2O_pao44_inferred.out\")\n",
    "    \n",
    "    print(\"energy: {}  loss: {:g}  eps: {:g}\".format(energy, loss, eps))"
   ]
  },
  {
   "cell_type": "code",
   "execution_count": null,
   "metadata": {},
   "outputs": [],
   "source": []
  }
 ],
 "metadata": {
  "kernelspec": {
   "display_name": "Python 3",
   "language": "python",
   "name": "python3"
  },
  "language_info": {
   "codemirror_mode": {
    "name": "ipython",
    "version": 3
   },
   "file_extension": ".py",
   "mimetype": "text/x-python",
   "name": "python",
   "nbconvert_exporter": "python",
   "pygments_lexer": "ipython3",
   "version": "3.6.7"
  }
 },
 "nbformat": 4,
 "nbformat_minor": 2
}
