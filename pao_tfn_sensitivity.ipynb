{
 "cells": [
  {
   "cell_type": "code",
   "execution_count": 1,
   "metadata": {},
   "outputs": [],
   "source": [
    "%load_ext autoreload\n",
    "%autoreload 2"
   ]
  },
  {
   "cell_type": "code",
   "execution_count": 2,
   "metadata": {},
   "outputs": [],
   "source": [
    "import torch\n",
    "torch.set_default_dtype(torch.float64)\n",
    "device = torch.device(\"cuda:2\" if torch.cuda.is_available() else \"cpu\")"
   ]
  },
  {
   "cell_type": "code",
   "execution_count": 3,
   "metadata": {},
   "outputs": [],
   "source": [
    "import numpy as np\n",
    "from cp2k_file_utils import read_energy\n",
    "from pao_file_utils import parse_pao_file, write_pao_file\n",
    "from pao_tfn_trainer import loss_function, ortho"
   ]
  },
  {
   "cell_type": "code",
   "execution_count": 8,
   "metadata": {},
   "outputs": [
    {
     "name": "stdout",
     "output_type": "stream",
     "text": [
      "energy: -34.449936138968745  loss: 4.95281e-33  eps: 0\n",
      "energy: -34.44608609060372  loss: 8.81627e-06  eps: 0.01\n",
      "energy: -34.436347034363656  loss: 3.36408e-05  eps: 0.02\n",
      "energy: -34.416961415462694  loss: 6.80836e-05  eps: 0.03\n",
      "energy: -34.38718169357887  loss: 0.000139983  eps: 0.04\n",
      "energy: -34.35367771716608  loss: 0.000225817  eps: 0.05\n",
      "energy: -34.28329230009149  loss: 0.000386685  eps: 0.06\n",
      "energy: -34.2424488152231  loss: 0.00052577  eps: 0.07\n",
      "energy: -34.1890870136628  loss: 0.000584067  eps: 0.08\n",
      "energy: -34.135131242913396  loss: 0.00069215  eps: 0.09\n",
      "energy: -34.046954564224905  loss: 0.000914383  eps: 0.1\n"
     ]
    }
   ],
   "source": [
    "frame_dir = \"2H2O_MD/frame_0000\"\n",
    "kinds, atom2kind, coords, xblocks = parse_pao_file(frame_dir + \"/2H2O_pao44-1_0.pao\")\n",
    "\n",
    "for i in range(11):\n",
    "    eps = i * 0.01\n",
    "    losses = []\n",
    "    perturbed_xblocks = []\n",
    "    for xblock in xblocks:\n",
    "        perturbed_xblock = torch.from_numpy(xblock + eps*np.random.rand(*xblock.shape))\n",
    "        perturbed_xblock = ortho(perturbed_xblock)\n",
    "        perturbed_xblocks.append(perturbed_xblock)\n",
    "        losses.append(loss_function(perturbed_xblock, torch.from_numpy(xblock)))\n",
    "    loss = np.mean(losses)\n",
    "\n",
    "    write_pao_file(frame_dir + \"/inferred.pao\", kinds, atom2kind, coords, perturbed_xblocks)\n",
    "    ! cd $frame_dir; /opt/cp2k/exe/local/cp2k.ssmp -i 2H2O_pao44_inferred.inp > 2H2O_pao44_inferred.out\n",
    "    energy = read_energy(frame_dir+\"/2H2O_pao44_inferred.out\")\n",
    "    \n",
    "    print(\"energy: {}  loss: {:g}  eps: {:g}\".format(energy, loss, eps))"
   ]
  },
  {
   "cell_type": "code",
   "execution_count": null,
   "metadata": {},
   "outputs": [],
   "source": []
  }
 ],
 "metadata": {
  "kernelspec": {
   "display_name": "Python 3",
   "language": "python",
   "name": "python3"
  },
  "language_info": {
   "codemirror_mode": {
    "name": "ipython",
    "version": 3
   },
   "file_extension": ".py",
   "mimetype": "text/x-python",
   "name": "python",
   "nbconvert_exporter": "python",
   "pygments_lexer": "ipython3",
   "version": "3.6.7"
  }
 },
 "nbformat": 4,
 "nbformat_minor": 2
}
