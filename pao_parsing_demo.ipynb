{
 "cells": [
  {
   "cell_type": "markdown",
   "metadata": {},
   "source": [
    "# Demo for parsing the PAO files"
   ]
  },
  {
   "cell_type": "code",
   "execution_count": 1,
   "metadata": {},
   "outputs": [],
   "source": [
    "from pathlib import Path\n",
    "from pao_file_utils import parse_pao_file, append_samples"
   ]
  },
  {
   "cell_type": "code",
   "execution_count": 2,
   "metadata": {},
   "outputs": [],
   "source": [
    "# Find and parse all .pao files.\n",
    "# Each file corresponds to a molecular configuration, ie. a frame.\n",
    "# Since the system contains multiple atoms, each .pao file contains multiple samples.\n",
    "samples = {}\n",
    "for path in Path().glob(\"2H2O_MD/frame_*/2H2O_pao44-1_0.pao\"):\n",
    "    kinds, atom2kind, coords, xblocks = parse_pao_file(path)\n",
    "    append_samples(samples, kinds, atom2kind, coords, xblocks)"
   ]
  },
  {
   "cell_type": "code",
   "execution_count": 3,
   "metadata": {},
   "outputs": [
    {
     "data": {
      "text/plain": [
       "['O', 'H', 'H', 'O', 'H', 'H']"
      ]
     },
     "execution_count": 3,
     "metadata": {},
     "output_type": "execute_result"
    }
   ],
   "source": [
    "# The system consists of six atoms, namely a water dimer:\n",
    "atom2kind"
   ]
  },
  {
   "cell_type": "code",
   "execution_count": 4,
   "metadata": {},
   "outputs": [
    {
     "data": {
      "text/plain": [
       "324"
      ]
     },
     "execution_count": 4,
     "metadata": {},
     "output_type": "execute_result"
    }
   ],
   "source": [
    "# Samples for Hydrogen atoms:\n",
    "len(samples['H'])"
   ]
  },
  {
   "cell_type": "code",
   "execution_count": 5,
   "metadata": {},
   "outputs": [
    {
     "data": {
      "text/plain": [
       "162"
      ]
     },
     "execution_count": 5,
     "metadata": {},
     "output_type": "execute_result"
    }
   ],
   "source": [
    "# Samples for Oxygen atoms:\n",
    "len(samples['O'])"
   ]
  },
  {
   "cell_type": "code",
   "execution_count": 6,
   "metadata": {},
   "outputs": [
    {
     "data": {
      "text/plain": [
       "array([[-0.19109217, -0.63418089,  0.69283366],\n",
       "       [ 0.        ,  0.        ,  0.        ],\n",
       "       [-0.56070176, -1.4123194 ,  0.28088054],\n",
       "       [ 2.85104974, -0.60561731,  0.25819602],\n",
       "       [ 3.60174453, -0.78088106,  0.82914859],\n",
       "       [ 2.08629638, -0.71205968,  0.82551853]])"
      ]
     },
     "execution_count": 6,
     "metadata": {},
     "output_type": "execute_result"
    }
   ],
   "source": [
    "# Each sample has coordinates relative to the atom for with the pao basis was optimized:\n",
    "samples['H'][0].rel_coords"
   ]
  },
  {
   "cell_type": "code",
   "execution_count": 7,
   "metadata": {},
   "outputs": [
    {
     "data": {
      "text/plain": [
       "array([[ 0.88347126,  0.45774537, -0.0808372 ,  0.05511535, -0.01935442],\n",
       "       [-0.08659683,  0.41451374,  0.68942075, -0.54766492,  0.21321479],\n",
       "       [-0.08092542,  0.13795269,  0.27721878,  0.66766525,  0.67215655],\n",
       "       [ 0.0731936 , -0.13749382, -0.55284951, -0.44616767,  0.6863184 ]])"
      ]
     },
     "execution_count": 7,
     "metadata": {},
     "output_type": "execute_result"
    }
   ],
   "source": [
    "# Each sample has contraction cofficients of shape (pao_basis_size, prim_basis_size):\n",
    "samples['H'][0].xblock"
   ]
  },
  {
   "cell_type": "code",
   "execution_count": 8,
   "metadata": {},
   "outputs": [
    {
     "data": {
      "text/plain": [
       "array([ 0.88347126,  0.45774537, -0.0808372 ,  0.05511535, -0.01935442])"
      ]
     },
     "execution_count": 8,
     "metadata": {},
     "output_type": "execute_result"
    }
   ],
   "source": [
    "# So, the first pao basis vector of the first Hydrogen sample is:\n",
    "samples['H'][0].xblock[0,:]"
   ]
  },
  {
   "cell_type": "code",
   "execution_count": 9,
   "metadata": {},
   "outputs": [],
   "source": [
    "# For the pao basis I chose a size of four for both Hydrogen and Oxygen:\n",
    "assert samples['H'][0].xblock.shape[0] == 4\n",
    "assert samples['O'][0].xblock.shape[0] == 4"
   ]
  },
  {
   "cell_type": "code",
   "execution_count": 10,
   "metadata": {},
   "outputs": [],
   "source": [
    "# The primary basis set is organized in shells (i.e. channels in equivar lingo).\n",
    "# I used the DZVP-MOLOPT-GTH basis set, which has the following number of shells:\n",
    "prim_basis_shells = {\n",
    "    'H': [2, 1, 0], # two s-shells, one p-shell, no d-shells\n",
    "    'O': [2, 2, 1], # two s-shells, two p-shells, one d-shell\n",
    "}"
   ]
  },
  {
   "cell_type": "code",
   "execution_count": 11,
   "metadata": {},
   "outputs": [],
   "source": [
    "# From the number of shells one can calculate the size of the primary basis:\n",
    "def calc_basis_size(shells):\n",
    "    return shells[0] + 3* shells[1] + 5 * shells[2]\n",
    "\n",
    "assert calc_basis_size(prim_basis_shells['H']) == samples['H'][0].xblock.shape[1]\n",
    "assert calc_basis_size(prim_basis_shells['O']) == samples['O'][0].xblock.shape[1]"
   ]
  },
  {
   "cell_type": "code",
   "execution_count": 12,
   "metadata": {},
   "outputs": [
    {
     "name": "stdout",
     "output_type": "stream",
     "text": [
      "['l=0,m=0', 'l=0,m=0', 'l=1,m=-1', 'l=1,m=0', 'l=1,m=1']\n"
     ]
    }
   ],
   "source": [
    "# The basis functions are enumerated in the following way:\n",
    "def list_basis_functions(shells):\n",
    "    basis_functions = []\n",
    "    for l in range(len(shells)):\n",
    "        for i in range(shells[l]):\n",
    "            for m in range(-l, l+1):\n",
    "                basis_functions.append(\"l={},m={}\".format(l, m))\n",
    "    return basis_functions\n",
    "\n",
    "assert len(list_basis_functions(prim_basis_shells['H'])) == samples['H'][0].xblock.shape[1]\n",
    "assert len(list_basis_functions(prim_basis_shells['O'])) == samples['O'][0].xblock.shape[1]\n",
    "\n",
    "print(list_basis_functions(prim_basis_shells['H']))"
   ]
  }
 ],
 "metadata": {
  "kernelspec": {
   "display_name": "Python 3 (ipykernel)",
   "language": "python",
   "name": "python3"
  },
  "language_info": {
   "codemirror_mode": {
    "name": "ipython",
    "version": 3
   },
   "file_extension": ".py",
   "mimetype": "text/x-python",
   "name": "python",
   "nbconvert_exporter": "python",
   "pygments_lexer": "ipython3",
   "version": "3.10.6"
  }
 },
 "nbformat": 4,
 "nbformat_minor": 2
}
