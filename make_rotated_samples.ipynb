{
 "cells": [
  {
   "cell_type": "code",
   "execution_count": 51,
   "metadata": {},
   "outputs": [],
   "source": [
    "import ase\n",
    "import ase.io\n",
    "import numpy as np\n",
    "import os\n",
    "from os import path\n",
    "from random import random"
   ]
  },
  {
   "cell_type": "code",
   "execution_count": 43,
   "metadata": {},
   "outputs": [],
   "source": [
    "atoms_frame0 = ase.io.read(\"2H2O_MD/frame_0000/coords.xyz\")"
   ]
  },
  {
   "cell_type": "code",
   "execution_count": 54,
   "metadata": {},
   "outputs": [],
   "source": [
    "def save(atoms, fn):\n",
    "    print(fn)\n",
    "    d = path.dirname(fn)\n",
    "    if not path.exists(d):\n",
    "        os.makedirs(d)\n",
    "    ase.io.write(fn, atoms)"
   ]
  },
  {
   "cell_type": "code",
   "execution_count": 55,
   "metadata": {},
   "outputs": [
    {
     "name": "stdout",
     "output_type": "stream",
     "text": [
      "2H2O_rotations/phi_00/coords.xyz\n",
      "2H2O_rotations/phi_01/coords.xyz\n",
      "2H2O_rotations/phi_02/coords.xyz\n",
      "2H2O_rotations/phi_03/coords.xyz\n",
      "2H2O_rotations/phi_04/coords.xyz\n",
      "2H2O_rotations/phi_05/coords.xyz\n",
      "2H2O_rotations/phi_06/coords.xyz\n",
      "2H2O_rotations/phi_07/coords.xyz\n",
      "2H2O_rotations/phi_08/coords.xyz\n",
      "2H2O_rotations/phi_09/coords.xyz\n",
      "2H2O_rotations/phi_10/coords.xyz\n",
      "2H2O_rotations/phi_11/coords.xyz\n",
      "2H2O_rotations/phi_12/coords.xyz\n",
      "2H2O_rotations/phi_13/coords.xyz\n",
      "2H2O_rotations/phi_14/coords.xyz\n",
      "2H2O_rotations/phi_15/coords.xyz\n",
      "2H2O_rotations/phi_16/coords.xyz\n",
      "2H2O_rotations/phi_17/coords.xyz\n",
      "2H2O_rotations/phi_18/coords.xyz\n",
      "2H2O_rotations/phi_19/coords.xyz\n",
      "2H2O_rotations/phi_20/coords.xyz\n",
      "2H2O_rotations/phi_21/coords.xyz\n",
      "2H2O_rotations/phi_22/coords.xyz\n",
      "2H2O_rotations/phi_23/coords.xyz\n",
      "2H2O_rotations/phi_24/coords.xyz\n",
      "2H2O_rotations/phi_25/coords.xyz\n",
      "2H2O_rotations/phi_26/coords.xyz\n",
      "2H2O_rotations/phi_27/coords.xyz\n",
      "2H2O_rotations/phi_28/coords.xyz\n",
      "2H2O_rotations/phi_29/coords.xyz\n",
      "2H2O_rotations/phi_30/coords.xyz\n",
      "2H2O_rotations/phi_31/coords.xyz\n",
      "2H2O_rotations/phi_32/coords.xyz\n",
      "2H2O_rotations/phi_33/coords.xyz\n",
      "2H2O_rotations/phi_34/coords.xyz\n",
      "2H2O_rotations/phi_35/coords.xyz\n"
     ]
    }
   ],
   "source": [
    "for i, phi in enumerate(np.linspace(0, 360.0, 36)):\n",
    "    atoms = atoms_frame0.copy()\n",
    "    atoms.euler_rotate(phi=phi)\n",
    "    fn = \"2H2O_rotations/phi_{:02d}/coords.xyz\".format(i)\n",
    "    save(atoms, fn)"
   ]
  },
  {
   "cell_type": "code",
   "execution_count": 59,
   "metadata": {},
   "outputs": [
    {
     "name": "stdout",
     "output_type": "stream",
     "text": [
      "2H2O_rotations/rand_00/coords.xyz\n",
      "2H2O_rotations/rand_01/coords.xyz\n",
      "2H2O_rotations/rand_02/coords.xyz\n",
      "2H2O_rotations/rand_03/coords.xyz\n",
      "2H2O_rotations/rand_04/coords.xyz\n",
      "2H2O_rotations/rand_05/coords.xyz\n",
      "2H2O_rotations/rand_06/coords.xyz\n",
      "2H2O_rotations/rand_07/coords.xyz\n",
      "2H2O_rotations/rand_08/coords.xyz\n",
      "2H2O_rotations/rand_09/coords.xyz\n",
      "2H2O_rotations/rand_10/coords.xyz\n",
      "2H2O_rotations/rand_11/coords.xyz\n",
      "2H2O_rotations/rand_12/coords.xyz\n",
      "2H2O_rotations/rand_13/coords.xyz\n",
      "2H2O_rotations/rand_14/coords.xyz\n",
      "2H2O_rotations/rand_15/coords.xyz\n",
      "2H2O_rotations/rand_16/coords.xyz\n",
      "2H2O_rotations/rand_17/coords.xyz\n",
      "2H2O_rotations/rand_18/coords.xyz\n",
      "2H2O_rotations/rand_19/coords.xyz\n"
     ]
    }
   ],
   "source": [
    "for i in range(20):\n",
    "    phi, theta, psi  = [360 * random() for _ in range(3)]\n",
    "    atoms = atoms_frame0.copy()\n",
    "    atoms.euler_rotate(phi=phi, theta=theta, psi=psi)\n",
    "    fn = \"2H2O_rotations/rand_{:02d}/coords.xyz\".format(i)\n",
    "    save(atoms, fn)"
   ]
  },
  {
   "cell_type": "code",
   "execution_count": null,
   "metadata": {},
   "outputs": [],
   "source": []
  }
 ],
 "metadata": {
  "kernelspec": {
   "display_name": "Python 3",
   "language": "python",
   "name": "python3"
  },
  "language_info": {
   "codemirror_mode": {
    "name": "ipython",
    "version": 3
   },
   "file_extension": ".py",
   "mimetype": "text/x-python",
   "name": "python",
   "nbconvert_exporter": "python",
   "pygments_lexer": "ipython3",
   "version": "3.6.7"
  }
 },
 "nbformat": 4,
 "nbformat_minor": 2
}
